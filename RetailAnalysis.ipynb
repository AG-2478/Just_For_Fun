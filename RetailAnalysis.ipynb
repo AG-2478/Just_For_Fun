{
  "nbformat": 4,
  "nbformat_minor": 0,
  "metadata": {
    "colab": {
      "provenance": [],
      "include_colab_link": true
    },
    "kernelspec": {
      "name": "python3",
      "display_name": "Python 3"
    }
  },
  "cells": [
    {
      "cell_type": "markdown",
      "metadata": {
        "id": "view-in-github",
        "colab_type": "text"
      },
      "source": [
        "<a href=\"https://colab.research.google.com/github/AG-2478/LocalRepo/blob/feature1/RetailAnalysis.ipynb\" target=\"_parent\"><img src=\"https://colab.research.google.com/assets/colab-badge.svg\" alt=\"Open In Colab\"/></a>"
      ]
    },
    {
      "cell_type": "code",
      "metadata": {
        "id": "ze_EfWmYfNAF"
      },
      "source": [
        "import pandas as pd\n",
        "from matplotlib import dates as mpl_dates\n",
        "from matplotlib import pyplot as plt\n",
        "from itertools import combinations\n",
        "from collections import Counter"
      ],
      "execution_count": null,
      "outputs": []
    },
    {
      "cell_type": "code",
      "metadata": {
        "colab": {
          "base_uri": "https://localhost:8080/"
        },
        "id": "Shm11HCLdA0-",
        "outputId": "b36b5618-ee8d-4932-a3ab-0e0e6f90e547"
      },
      "source": [
        "from google.colab import drive\n",
        "drive.mount('/content/drive')"
      ],
      "execution_count": null,
      "outputs": [
        {
          "output_type": "stream",
          "text": [
            "Mounted at /content/drive\n"
          ],
          "name": "stdout"
        }
      ]
    },
    {
      "cell_type": "code",
      "metadata": {
        "id": "tT-6Zeztgo6E",
        "colab": {
          "base_uri": "https://localhost:8080/",
          "height": 289
        },
        "outputId": "96d0430e-d3d9-4467-9179-8f6f8e3680a7"
      },
      "source": [
        "df = pd.read_excel('/content/drive/MyDrive/Datasets/OnlineRetail.xlsx')\n",
        "df.head()"
      ],
      "execution_count": null,
      "outputs": [
        {
          "output_type": "execute_result",
          "data": {
            "text/html": [
              "<div>\n",
              "<style scoped>\n",
              "    .dataframe tbody tr th:only-of-type {\n",
              "        vertical-align: middle;\n",
              "    }\n",
              "\n",
              "    .dataframe tbody tr th {\n",
              "        vertical-align: top;\n",
              "    }\n",
              "\n",
              "    .dataframe thead th {\n",
              "        text-align: right;\n",
              "    }\n",
              "</style>\n",
              "<table border=\"1\" class=\"dataframe\">\n",
              "  <thead>\n",
              "    <tr style=\"text-align: right;\">\n",
              "      <th></th>\n",
              "      <th>InvoiceNo</th>\n",
              "      <th>StockCode</th>\n",
              "      <th>Description</th>\n",
              "      <th>Quantity</th>\n",
              "      <th>InvoiceDate</th>\n",
              "      <th>UnitPrice</th>\n",
              "      <th>CustomerID</th>\n",
              "      <th>Country</th>\n",
              "    </tr>\n",
              "  </thead>\n",
              "  <tbody>\n",
              "    <tr>\n",
              "      <th>0</th>\n",
              "      <td>536365</td>\n",
              "      <td>85123A</td>\n",
              "      <td>WHITE HANGING HEART T-LIGHT HOLDER</td>\n",
              "      <td>6</td>\n",
              "      <td>2010-12-01 08:26:00</td>\n",
              "      <td>2.55</td>\n",
              "      <td>17850.0</td>\n",
              "      <td>United Kingdom</td>\n",
              "    </tr>\n",
              "    <tr>\n",
              "      <th>1</th>\n",
              "      <td>536365</td>\n",
              "      <td>71053</td>\n",
              "      <td>WHITE METAL LANTERN</td>\n",
              "      <td>6</td>\n",
              "      <td>2010-12-01 08:26:00</td>\n",
              "      <td>3.39</td>\n",
              "      <td>17850.0</td>\n",
              "      <td>United Kingdom</td>\n",
              "    </tr>\n",
              "    <tr>\n",
              "      <th>2</th>\n",
              "      <td>536365</td>\n",
              "      <td>84406B</td>\n",
              "      <td>CREAM CUPID HEARTS COAT HANGER</td>\n",
              "      <td>8</td>\n",
              "      <td>2010-12-01 08:26:00</td>\n",
              "      <td>2.75</td>\n",
              "      <td>17850.0</td>\n",
              "      <td>United Kingdom</td>\n",
              "    </tr>\n",
              "    <tr>\n",
              "      <th>3</th>\n",
              "      <td>536365</td>\n",
              "      <td>84029G</td>\n",
              "      <td>KNITTED UNION FLAG HOT WATER BOTTLE</td>\n",
              "      <td>6</td>\n",
              "      <td>2010-12-01 08:26:00</td>\n",
              "      <td>3.39</td>\n",
              "      <td>17850.0</td>\n",
              "      <td>United Kingdom</td>\n",
              "    </tr>\n",
              "    <tr>\n",
              "      <th>4</th>\n",
              "      <td>536365</td>\n",
              "      <td>84029E</td>\n",
              "      <td>RED WOOLLY HOTTIE WHITE HEART.</td>\n",
              "      <td>6</td>\n",
              "      <td>2010-12-01 08:26:00</td>\n",
              "      <td>3.39</td>\n",
              "      <td>17850.0</td>\n",
              "      <td>United Kingdom</td>\n",
              "    </tr>\n",
              "  </tbody>\n",
              "</table>\n",
              "</div>"
            ],
            "text/plain": [
              "  InvoiceNo StockCode  ... CustomerID         Country\n",
              "0    536365    85123A  ...    17850.0  United Kingdom\n",
              "1    536365     71053  ...    17850.0  United Kingdom\n",
              "2    536365    84406B  ...    17850.0  United Kingdom\n",
              "3    536365    84029G  ...    17850.0  United Kingdom\n",
              "4    536365    84029E  ...    17850.0  United Kingdom\n",
              "\n",
              "[5 rows x 8 columns]"
            ]
          },
          "metadata": {
            "tags": []
          },
          "execution_count": 12
        }
      ]
    },
    {
      "cell_type": "code",
      "metadata": {
        "id": "CIoxmafPks_d",
        "colab": {
          "base_uri": "https://localhost:8080/"
        },
        "outputId": "d43f5896-5b47-4407-d020-326deaceb2fc"
      },
      "source": [
        "print(len(df))\n",
        "df.info()"
      ],
      "execution_count": null,
      "outputs": [
        {
          "output_type": "stream",
          "text": [
            "541909\n",
            "<class 'pandas.core.frame.DataFrame'>\n",
            "RangeIndex: 541909 entries, 0 to 541908\n",
            "Data columns (total 8 columns):\n",
            " #   Column       Non-Null Count   Dtype         \n",
            "---  ------       --------------   -----         \n",
            " 0   InvoiceNo    541909 non-null  object        \n",
            " 1   StockCode    541909 non-null  object        \n",
            " 2   Description  540455 non-null  object        \n",
            " 3   Quantity     541909 non-null  int64         \n",
            " 4   InvoiceDate  541909 non-null  datetime64[ns]\n",
            " 5   UnitPrice    541909 non-null  float64       \n",
            " 6   CustomerID   406829 non-null  float64       \n",
            " 7   Country      541909 non-null  object        \n",
            "dtypes: datetime64[ns](1), float64(2), int64(1), object(4)\n",
            "memory usage: 33.1+ MB\n"
          ],
          "name": "stdout"
        }
      ]
    },
    {
      "cell_type": "code",
      "metadata": {
        "id": "PwjokDWe9D8i",
        "colab": {
          "base_uri": "https://localhost:8080/"
        },
        "outputId": "beeb84a3-3eea-4519-a45e-7f5da363cc09"
      },
      "source": [
        "#Preprocessing\n",
        "def preprocess(df):\n",
        "  df = df[df['UnitPrice'] != 0]\n",
        "  df['UnitPrice'] = df['UnitPrice'].abs()\n",
        "  df['Quantity']  = df['Quantity'].abs()\n",
        "  return df\n",
        "\n",
        "df_preprocessed = preprocess(df)\n",
        "len(df_preprocessed)"
      ],
      "execution_count": null,
      "outputs": [
        {
          "output_type": "stream",
          "text": [
            "/usr/local/lib/python3.7/dist-packages/ipykernel_launcher.py:4: SettingWithCopyWarning: \n",
            "A value is trying to be set on a copy of a slice from a DataFrame.\n",
            "Try using .loc[row_indexer,col_indexer] = value instead\n",
            "\n",
            "See the caveats in the documentation: https://pandas.pydata.org/pandas-docs/stable/user_guide/indexing.html#returning-a-view-versus-a-copy\n",
            "  after removing the cwd from sys.path.\n",
            "/usr/local/lib/python3.7/dist-packages/ipykernel_launcher.py:5: SettingWithCopyWarning: \n",
            "A value is trying to be set on a copy of a slice from a DataFrame.\n",
            "Try using .loc[row_indexer,col_indexer] = value instead\n",
            "\n",
            "See the caveats in the documentation: https://pandas.pydata.org/pandas-docs/stable/user_guide/indexing.html#returning-a-view-versus-a-copy\n",
            "  \"\"\"\n"
          ],
          "name": "stderr"
        },
        {
          "output_type": "execute_result",
          "data": {
            "text/plain": [
              "539394"
            ]
          },
          "metadata": {
            "tags": []
          },
          "execution_count": 14
        }
      ]
    },
    {
      "cell_type": "code",
      "metadata": {
        "id": "bgEIkwTr-Xs-",
        "colab": {
          "base_uri": "https://localhost:8080/"
        },
        "outputId": "5781bfb2-d0d4-450b-ba9d-b0f554f767f6"
      },
      "source": [
        "print(df_preprocessed['Quantity'].min())\n",
        "print(df_preprocessed['Quantity'].max())"
      ],
      "execution_count": null,
      "outputs": [
        {
          "output_type": "stream",
          "text": [
            "1\n",
            "80995\n"
          ],
          "name": "stdout"
        }
      ]
    },
    {
      "cell_type": "code",
      "metadata": {
        "id": "550Doz5j4YmH",
        "colab": {
          "base_uri": "https://localhost:8080/"
        },
        "outputId": "60c398fa-ed03-4b53-8a59-5bd1d79dc548"
      },
      "source": [
        "def price_calc(df):\n",
        "  #price for each item\n",
        "  df['Price'] = df['Quantity'] * df['UnitPrice']\n",
        "  #product variety count for each invoice\n",
        "  df['NumProducts'] = df.groupby(['InvoiceNo'])['Price'].transform('count')\n",
        "  #Total bill for an invoice\n",
        "  k = df.groupby('InvoiceNo')['Price'].sum()\n",
        "  df = pd.merge(df, k, on=\"InvoiceNo\")\n",
        "  return df\n",
        "\n",
        "df_new = price_calc(df_preprocessed)"
      ],
      "execution_count": null,
      "outputs": [
        {
          "output_type": "stream",
          "text": [
            "/usr/local/lib/python3.7/dist-packages/ipykernel_launcher.py:3: SettingWithCopyWarning: \n",
            "A value is trying to be set on a copy of a slice from a DataFrame.\n",
            "Try using .loc[row_indexer,col_indexer] = value instead\n",
            "\n",
            "See the caveats in the documentation: https://pandas.pydata.org/pandas-docs/stable/user_guide/indexing.html#returning-a-view-versus-a-copy\n",
            "  This is separate from the ipykernel package so we can avoid doing imports until\n",
            "/usr/local/lib/python3.7/dist-packages/ipykernel_launcher.py:5: SettingWithCopyWarning: \n",
            "A value is trying to be set on a copy of a slice from a DataFrame.\n",
            "Try using .loc[row_indexer,col_indexer] = value instead\n",
            "\n",
            "See the caveats in the documentation: https://pandas.pydata.org/pandas-docs/stable/user_guide/indexing.html#returning-a-view-versus-a-copy\n",
            "  \"\"\"\n"
          ],
          "name": "stderr"
        }
      ]
    },
    {
      "cell_type": "code",
      "metadata": {
        "id": "y5LStzDEBme7",
        "colab": {
          "base_uri": "https://localhost:8080/",
          "height": 496
        },
        "outputId": "f68cd61e-46a4-4a43-86c0-babe3c07b43c"
      },
      "source": [
        "df_new = df_new.rename(columns={'StockCode':'ProductID','Price_x':'ProductPrice','Price_y':'TotalBill'})\n",
        "df_new['Weekday'] = df_new['InvoiceDate'].dt.day_name()\n",
        "df_new.to_csv('df_new.csv')\n",
        "df_new.head()"
      ],
      "execution_count": null,
      "outputs": [
        {
          "output_type": "execute_result",
          "data": {
            "text/html": [
              "<div>\n",
              "<style scoped>\n",
              "    .dataframe tbody tr th:only-of-type {\n",
              "        vertical-align: middle;\n",
              "    }\n",
              "\n",
              "    .dataframe tbody tr th {\n",
              "        vertical-align: top;\n",
              "    }\n",
              "\n",
              "    .dataframe thead th {\n",
              "        text-align: right;\n",
              "    }\n",
              "</style>\n",
              "<table border=\"1\" class=\"dataframe\">\n",
              "  <thead>\n",
              "    <tr style=\"text-align: right;\">\n",
              "      <th></th>\n",
              "      <th>InvoiceNo</th>\n",
              "      <th>ProductID</th>\n",
              "      <th>Description</th>\n",
              "      <th>Quantity</th>\n",
              "      <th>InvoiceDate</th>\n",
              "      <th>UnitPrice</th>\n",
              "      <th>CustomerID</th>\n",
              "      <th>Country</th>\n",
              "      <th>ProductPrice</th>\n",
              "      <th>NumProducts</th>\n",
              "      <th>TotalBill</th>\n",
              "      <th>Weekday</th>\n",
              "    </tr>\n",
              "  </thead>\n",
              "  <tbody>\n",
              "    <tr>\n",
              "      <th>0</th>\n",
              "      <td>536365</td>\n",
              "      <td>85123A</td>\n",
              "      <td>WHITE HANGING HEART T-LIGHT HOLDER</td>\n",
              "      <td>6</td>\n",
              "      <td>2010-12-01 08:26:00</td>\n",
              "      <td>2.55</td>\n",
              "      <td>17850.0</td>\n",
              "      <td>United Kingdom</td>\n",
              "      <td>15.30</td>\n",
              "      <td>7</td>\n",
              "      <td>139.12</td>\n",
              "      <td>Wednesday</td>\n",
              "    </tr>\n",
              "    <tr>\n",
              "      <th>1</th>\n",
              "      <td>536365</td>\n",
              "      <td>71053</td>\n",
              "      <td>WHITE METAL LANTERN</td>\n",
              "      <td>6</td>\n",
              "      <td>2010-12-01 08:26:00</td>\n",
              "      <td>3.39</td>\n",
              "      <td>17850.0</td>\n",
              "      <td>United Kingdom</td>\n",
              "      <td>20.34</td>\n",
              "      <td>7</td>\n",
              "      <td>139.12</td>\n",
              "      <td>Wednesday</td>\n",
              "    </tr>\n",
              "    <tr>\n",
              "      <th>2</th>\n",
              "      <td>536365</td>\n",
              "      <td>84406B</td>\n",
              "      <td>CREAM CUPID HEARTS COAT HANGER</td>\n",
              "      <td>8</td>\n",
              "      <td>2010-12-01 08:26:00</td>\n",
              "      <td>2.75</td>\n",
              "      <td>17850.0</td>\n",
              "      <td>United Kingdom</td>\n",
              "      <td>22.00</td>\n",
              "      <td>7</td>\n",
              "      <td>139.12</td>\n",
              "      <td>Wednesday</td>\n",
              "    </tr>\n",
              "    <tr>\n",
              "      <th>3</th>\n",
              "      <td>536365</td>\n",
              "      <td>84029G</td>\n",
              "      <td>KNITTED UNION FLAG HOT WATER BOTTLE</td>\n",
              "      <td>6</td>\n",
              "      <td>2010-12-01 08:26:00</td>\n",
              "      <td>3.39</td>\n",
              "      <td>17850.0</td>\n",
              "      <td>United Kingdom</td>\n",
              "      <td>20.34</td>\n",
              "      <td>7</td>\n",
              "      <td>139.12</td>\n",
              "      <td>Wednesday</td>\n",
              "    </tr>\n",
              "    <tr>\n",
              "      <th>4</th>\n",
              "      <td>536365</td>\n",
              "      <td>84029E</td>\n",
              "      <td>RED WOOLLY HOTTIE WHITE HEART.</td>\n",
              "      <td>6</td>\n",
              "      <td>2010-12-01 08:26:00</td>\n",
              "      <td>3.39</td>\n",
              "      <td>17850.0</td>\n",
              "      <td>United Kingdom</td>\n",
              "      <td>20.34</td>\n",
              "      <td>7</td>\n",
              "      <td>139.12</td>\n",
              "      <td>Wednesday</td>\n",
              "    </tr>\n",
              "  </tbody>\n",
              "</table>\n",
              "</div>"
            ],
            "text/plain": [
              "  InvoiceNo ProductID  ... TotalBill    Weekday\n",
              "0    536365    85123A  ...    139.12  Wednesday\n",
              "1    536365     71053  ...    139.12  Wednesday\n",
              "2    536365    84406B  ...    139.12  Wednesday\n",
              "3    536365    84029G  ...    139.12  Wednesday\n",
              "4    536365    84029E  ...    139.12  Wednesday\n",
              "\n",
              "[5 rows x 12 columns]"
            ]
          },
          "metadata": {
            "tags": []
          },
          "execution_count": 21
        }
      ]
    },
    {
      "cell_type": "code",
      "metadata": {
        "id": "z9gUESkL4h8Z",
        "colab": {
          "base_uri": "https://localhost:8080/"
        },
        "outputId": "6445366d-a126-4ac6-a49c-7a43ad4b2fb2"
      },
      "source": [
        "df_new.info()"
      ],
      "execution_count": null,
      "outputs": [
        {
          "output_type": "stream",
          "text": [
            "<class 'pandas.core.frame.DataFrame'>\n",
            "Int64Index: 539394 entries, 0 to 539393\n",
            "Data columns (total 12 columns):\n",
            " #   Column        Non-Null Count   Dtype         \n",
            "---  ------        --------------   -----         \n",
            " 0   InvoiceNo     539394 non-null  object        \n",
            " 1   ProductID     539394 non-null  object        \n",
            " 2   Description   539394 non-null  object        \n",
            " 3   Quantity      539394 non-null  int64         \n",
            " 4   InvoiceDate   539394 non-null  datetime64[ns]\n",
            " 5   UnitPrice     539394 non-null  float64       \n",
            " 6   CustomerID    406789 non-null  float64       \n",
            " 7   Country       539394 non-null  object        \n",
            " 8   ProductPrice  539394 non-null  float64       \n",
            " 9   NumProducts   539394 non-null  int64         \n",
            " 10  TotalBill     539394 non-null  float64       \n",
            " 11  Weekday       539394 non-null  object        \n",
            "dtypes: datetime64[ns](1), float64(4), int64(2), object(5)\n",
            "memory usage: 53.5+ MB\n"
          ],
          "name": "stdout"
        }
      ]
    },
    {
      "cell_type": "code",
      "metadata": {
        "id": "qpzwA1gHgo9B",
        "colab": {
          "base_uri": "https://localhost:8080/",
          "height": 419
        },
        "outputId": "775b4f83-91d4-453f-e6fd-ae7e2ea13749"
      },
      "source": [
        "#Revenue dataframe\n",
        "df_rev = df_new.groupby(['InvoiceDate','InvoiceNo', 'Weekday','Country','TotalBill']).size().reset_index(name='ProductCount')\n",
        "ts = pd.to_datetime('12-01-2011')\n",
        "df_rev = df_rev.loc[df_rev.InvoiceDate <= ts, :]\n",
        "df_rev"
      ],
      "execution_count": null,
      "outputs": [
        {
          "output_type": "execute_result",
          "data": {
            "text/html": [
              "<div>\n",
              "<style scoped>\n",
              "    .dataframe tbody tr th:only-of-type {\n",
              "        vertical-align: middle;\n",
              "    }\n",
              "\n",
              "    .dataframe tbody tr th {\n",
              "        vertical-align: top;\n",
              "    }\n",
              "\n",
              "    .dataframe thead th {\n",
              "        text-align: right;\n",
              "    }\n",
              "</style>\n",
              "<table border=\"1\" class=\"dataframe\">\n",
              "  <thead>\n",
              "    <tr style=\"text-align: right;\">\n",
              "      <th></th>\n",
              "      <th>InvoiceDate</th>\n",
              "      <th>InvoiceNo</th>\n",
              "      <th>Weekday</th>\n",
              "      <th>Country</th>\n",
              "      <th>TotalBill</th>\n",
              "      <th>ProductCount</th>\n",
              "    </tr>\n",
              "  </thead>\n",
              "  <tbody>\n",
              "    <tr>\n",
              "      <th>0</th>\n",
              "      <td>2010-12-01 08:26:00</td>\n",
              "      <td>536365</td>\n",
              "      <td>Wednesday</td>\n",
              "      <td>United Kingdom</td>\n",
              "      <td>139.12</td>\n",
              "      <td>7</td>\n",
              "    </tr>\n",
              "    <tr>\n",
              "      <th>1</th>\n",
              "      <td>2010-12-01 08:28:00</td>\n",
              "      <td>536366</td>\n",
              "      <td>Wednesday</td>\n",
              "      <td>United Kingdom</td>\n",
              "      <td>22.20</td>\n",
              "      <td>2</td>\n",
              "    </tr>\n",
              "    <tr>\n",
              "      <th>2</th>\n",
              "      <td>2010-12-01 08:34:00</td>\n",
              "      <td>536367</td>\n",
              "      <td>Wednesday</td>\n",
              "      <td>United Kingdom</td>\n",
              "      <td>278.73</td>\n",
              "      <td>12</td>\n",
              "    </tr>\n",
              "    <tr>\n",
              "      <th>3</th>\n",
              "      <td>2010-12-01 08:34:00</td>\n",
              "      <td>536368</td>\n",
              "      <td>Wednesday</td>\n",
              "      <td>United Kingdom</td>\n",
              "      <td>70.05</td>\n",
              "      <td>4</td>\n",
              "    </tr>\n",
              "    <tr>\n",
              "      <th>4</th>\n",
              "      <td>2010-12-01 08:35:00</td>\n",
              "      <td>536369</td>\n",
              "      <td>Wednesday</td>\n",
              "      <td>United Kingdom</td>\n",
              "      <td>17.85</td>\n",
              "      <td>1</td>\n",
              "    </tr>\n",
              "    <tr>\n",
              "      <th>...</th>\n",
              "      <td>...</td>\n",
              "      <td>...</td>\n",
              "      <td>...</td>\n",
              "      <td>...</td>\n",
              "      <td>...</td>\n",
              "      <td>...</td>\n",
              "    </tr>\n",
              "    <tr>\n",
              "      <th>22871</th>\n",
              "      <td>2011-11-30 17:32:00</td>\n",
              "      <td>C579883</td>\n",
              "      <td>Wednesday</td>\n",
              "      <td>United Kingdom</td>\n",
              "      <td>19.15</td>\n",
              "      <td>2</td>\n",
              "    </tr>\n",
              "    <tr>\n",
              "      <th>22872</th>\n",
              "      <td>2011-11-30 17:34:00</td>\n",
              "      <td>C579884</td>\n",
              "      <td>Wednesday</td>\n",
              "      <td>United Kingdom</td>\n",
              "      <td>20.53</td>\n",
              "      <td>1</td>\n",
              "    </tr>\n",
              "    <tr>\n",
              "      <th>22873</th>\n",
              "      <td>2011-11-30 17:37:00</td>\n",
              "      <td>579885</td>\n",
              "      <td>Wednesday</td>\n",
              "      <td>United Kingdom</td>\n",
              "      <td>1075.36</td>\n",
              "      <td>147</td>\n",
              "    </tr>\n",
              "    <tr>\n",
              "      <th>22874</th>\n",
              "      <td>2011-11-30 17:39:00</td>\n",
              "      <td>C579886</td>\n",
              "      <td>Wednesday</td>\n",
              "      <td>United Kingdom</td>\n",
              "      <td>91.27</td>\n",
              "      <td>12</td>\n",
              "    </tr>\n",
              "    <tr>\n",
              "      <th>22875</th>\n",
              "      <td>2011-11-30 17:42:00</td>\n",
              "      <td>C579887</td>\n",
              "      <td>Wednesday</td>\n",
              "      <td>United Kingdom</td>\n",
              "      <td>20.45</td>\n",
              "      <td>3</td>\n",
              "    </tr>\n",
              "  </tbody>\n",
              "</table>\n",
              "<p>22876 rows × 6 columns</p>\n",
              "</div>"
            ],
            "text/plain": [
              "              InvoiceDate InvoiceNo  ... TotalBill ProductCount\n",
              "0     2010-12-01 08:26:00    536365  ...    139.12            7\n",
              "1     2010-12-01 08:28:00    536366  ...     22.20            2\n",
              "2     2010-12-01 08:34:00    536367  ...    278.73           12\n",
              "3     2010-12-01 08:34:00    536368  ...     70.05            4\n",
              "4     2010-12-01 08:35:00    536369  ...     17.85            1\n",
              "...                   ...       ...  ...       ...          ...\n",
              "22871 2011-11-30 17:32:00   C579883  ...     19.15            2\n",
              "22872 2011-11-30 17:34:00   C579884  ...     20.53            1\n",
              "22873 2011-11-30 17:37:00    579885  ...   1075.36          147\n",
              "22874 2011-11-30 17:39:00   C579886  ...     91.27           12\n",
              "22875 2011-11-30 17:42:00   C579887  ...     20.45            3\n",
              "\n",
              "[22876 rows x 6 columns]"
            ]
          },
          "metadata": {
            "tags": []
          },
          "execution_count": 23
        }
      ]
    },
    {
      "cell_type": "code",
      "metadata": {
        "id": "ImXap8A-E_J-",
        "colab": {
          "base_uri": "https://localhost:8080/"
        },
        "outputId": "26eb4bb0-5f1c-492b-be54-7590badf5831"
      },
      "source": [
        "df_rev.info()"
      ],
      "execution_count": null,
      "outputs": [
        {
          "output_type": "stream",
          "text": [
            "<class 'pandas.core.frame.DataFrame'>\n",
            "Int64Index: 22876 entries, 0 to 22875\n",
            "Data columns (total 6 columns):\n",
            " #   Column        Non-Null Count  Dtype         \n",
            "---  ------        --------------  -----         \n",
            " 0   InvoiceDate   22876 non-null  datetime64[ns]\n",
            " 1   InvoiceNo     22876 non-null  object        \n",
            " 2   Weekday       22876 non-null  object        \n",
            " 3   Country       22876 non-null  object        \n",
            " 4   TotalBill     22876 non-null  float64       \n",
            " 5   ProductCount  22876 non-null  int64         \n",
            "dtypes: datetime64[ns](1), float64(1), int64(1), object(3)\n",
            "memory usage: 1.2+ MB\n"
          ],
          "name": "stdout"
        }
      ]
    },
    {
      "cell_type": "code",
      "metadata": {
        "id": "lLWuTntngpcs",
        "colab": {
          "base_uri": "https://localhost:8080/"
        },
        "outputId": "dcd2e043-843f-4c6a-a1b3-8745493d6303"
      },
      "source": [
        "print(df_rev.InvoiceDate.max())\n",
        "print(df_rev.InvoiceDate.min())\n",
        "df_rev.InvoiceDate.max() - df_rev.InvoiceDate.min()"
      ],
      "execution_count": null,
      "outputs": [
        {
          "output_type": "stream",
          "text": [
            "2011-11-30 17:42:00\n",
            "2010-12-01 08:26:00\n"
          ],
          "name": "stdout"
        },
        {
          "output_type": "execute_result",
          "data": {
            "text/plain": [
              "Timedelta('364 days 09:16:00')"
            ]
          },
          "metadata": {
            "tags": []
          },
          "execution_count": 25
        }
      ]
    },
    {
      "cell_type": "code",
      "metadata": {
        "id": "gYzvk13sgpYD",
        "colab": {
          "base_uri": "https://localhost:8080/",
          "height": 279
        },
        "outputId": "44311814-a3fd-4aa1-8ab7-9fabd8c6d8d2"
      },
      "source": [
        "df_rev['Month'] = df_rev.InvoiceDate.dt.month\n",
        "df_rev.Month.value_counts().sort_index().plot()\n",
        "plt.ylabel('Number of Purchases')\n",
        "plt.xlabel('Month Number')\n",
        "plt.grid()\n",
        "plt.show()"
      ],
      "execution_count": null,
      "outputs": [
        {
          "output_type": "display_data",
          "data": {
            "image/png": "[encoded data removed]",
            "text/plain": [
              "<Figure size 432x288 with 1 Axes>"
            ]
          },
          "metadata": {
            "tags": [],
            "needs_background": "light"
          }
        }
      ]
    },
    {
      "cell_type": "markdown",
      "metadata": {
        "id": "BSZKtZvaRU1H"
      },
      "source": [
        "1. BEST MONTH FOR SALES"
      ]
    },
    {
      "cell_type": "code",
      "metadata": {
        "id": "SnXDZzE1RTl0",
        "colab": {
          "base_uri": "https://localhost:8080/",
          "height": 528
        },
        "outputId": "6688f528-46d8-4810-924b-04a6ca5b222a"
      },
      "source": [
        "monthly_sales = df_rev.groupby('Month').sum()\n",
        "months = range(1,13)\n",
        "print(monthly_sales.sort_values(['TotalBill'], ascending = False))\n",
        "plt.plot(months, monthly_sales['TotalBill'])\n",
        "plt.ylabel('Sales in British Pound(£)')\n",
        "plt.xlabel('Month Number')\n",
        "plt.grid()\n",
        "plt.show()"
      ],
      "execution_count": null,
      "outputs": [
        {
          "output_type": "stream",
          "text": [
            "         TotalBill  ProductCount\n",
            "Month                           \n",
            "11     1561224.550         84445\n",
            "10     1240039.000         60504\n",
            "9      1101337.562         50066\n",
            "12      898733.580         42208\n",
            "8       836452.170         35153\n",
            "6       832579.750         36688\n",
            "1       828301.160         35007\n",
            "5       820884.360         36785\n",
            "3       783076.340         36502\n",
            "7       758769.751         39330\n",
            "4       585250.941         29655\n",
            "2       557878.600         27580\n"
          ],
          "name": "stdout"
        },
        {
          "output_type": "display_data",
          "data": {
            "image/png": "[encoded data removed]",
            "text/plain": [
              "<Figure size 432x288 with 1 Axes>"
            ]
          },
          "metadata": {
            "tags": [],
            "needs_background": "light"
          }
        }
      ]
    },
    {
      "cell_type": "markdown",
      "metadata": {
        "id": "W_Dc0IGBSyzn"
      },
      "source": [
        "2. BEST WEEKDAY FOR SALES"
      ]
    },
    {
      "cell_type": "code",
      "metadata": {
        "id": "WM0p701FW4vR",
        "colab": {
          "base_uri": "https://localhost:8080/",
          "height": 266
        },
        "outputId": "e538ef20-7aab-4546-854d-0e3263df0738"
      },
      "source": [
        "#weekly_sales = df_rev.groupby('Weekday').sum()\n",
        "#week = df_rev['Weekday'].unique()\n",
        "#print(weekly_sales.sort_values(['TotalBill'], ascending = False))\n",
        "#plt.bar(week, weekly_sales['TotalBill'])\n",
        "#plt.ylabel('Sales in BP (£)')\n",
        "#plt.xlabel('Weekday')\n",
        "#plt.show()\n",
        "df_rev.groupby('Weekday').sum().sort_values(['TotalBill'], ascending = False)"
      ],
      "execution_count": null,
      "outputs": [
        {
          "output_type": "execute_result",
          "data": {
            "text/html": [
              "<div>\n",
              "<style scoped>\n",
              "    .dataframe tbody tr th:only-of-type {\n",
              "        vertical-align: middle;\n",
              "    }\n",
              "\n",
              "    .dataframe tbody tr th {\n",
              "        vertical-align: top;\n",
              "    }\n",
              "\n",
              "    .dataframe thead th {\n",
              "        text-align: right;\n",
              "    }\n",
              "</style>\n",
              "<table border=\"1\" class=\"dataframe\">\n",
              "  <thead>\n",
              "    <tr style=\"text-align: right;\">\n",
              "      <th></th>\n",
              "      <th>TotalBill</th>\n",
              "      <th>ProductCount</th>\n",
              "      <th>Month</th>\n",
              "    </tr>\n",
              "    <tr>\n",
              "      <th>Weekday</th>\n",
              "      <th></th>\n",
              "      <th></th>\n",
              "      <th></th>\n",
              "    </tr>\n",
              "  </thead>\n",
              "  <tbody>\n",
              "    <tr>\n",
              "      <th>Tuesday</th>\n",
              "      <td>2359744.931</td>\n",
              "      <td>97846</td>\n",
              "      <td>29140</td>\n",
              "    </tr>\n",
              "    <tr>\n",
              "      <th>Thursday</th>\n",
              "      <td>2160781.050</td>\n",
              "      <td>95528</td>\n",
              "      <td>35421</td>\n",
              "    </tr>\n",
              "    <tr>\n",
              "      <th>Wednesday</th>\n",
              "      <td>1900298.330</td>\n",
              "      <td>91625</td>\n",
              "      <td>30857</td>\n",
              "    </tr>\n",
              "    <tr>\n",
              "      <th>Monday</th>\n",
              "      <td>1857711.621</td>\n",
              "      <td>89433</td>\n",
              "      <td>26413</td>\n",
              "    </tr>\n",
              "    <tr>\n",
              "      <th>Friday</th>\n",
              "      <td>1722574.621</td>\n",
              "      <td>77157</td>\n",
              "      <td>24554</td>\n",
              "    </tr>\n",
              "    <tr>\n",
              "      <th>Sunday</th>\n",
              "      <td>803417.211</td>\n",
              "      <td>62334</td>\n",
              "      <td>17015</td>\n",
              "    </tr>\n",
              "  </tbody>\n",
              "</table>\n",
              "</div>"
            ],
            "text/plain": [
              "             TotalBill  ProductCount  Month\n",
              "Weekday                                    \n",
              "Tuesday    2359744.931         97846  29140\n",
              "Thursday   2160781.050         95528  35421\n",
              "Wednesday  1900298.330         91625  30857\n",
              "Monday     1857711.621         89433  26413\n",
              "Friday     1722574.621         77157  24554\n",
              "Sunday      803417.211         62334  17015"
            ]
          },
          "metadata": {
            "tags": []
          },
          "execution_count": 28
        }
      ]
    },
    {
      "cell_type": "markdown",
      "metadata": {
        "id": "5-u-dmafgJgH"
      },
      "source": [
        "3. BEST COUNTRY FOR SALES"
      ]
    },
    {
      "cell_type": "code",
      "metadata": {
        "id": "mvSVOm4pRTx_",
        "colab": {
          "base_uri": "https://localhost:8080/",
          "height": 1000
        },
        "outputId": "e830c57d-aa47-41bc-cf06-d6de0809fda6"
      },
      "source": [
        "country_sales = df_rev.groupby('Country').sum()\n",
        "country_sales['Country'] = country_sales.index\n",
        "country = country_sales['Country'].unique()\n",
        "print(country_sales.sort_values(['TotalBill'], ascending = False))\n",
        "plt.bar(country, country_sales['TotalBill'])\n",
        "plt.xticks(country, rotation = 'vertical', size = 7)\n",
        "plt.ylabel('Sales in BP (£)')\n",
        "plt.xlabel('country')\n",
        "plt.show()"
      ],
      "execution_count": null,
      "outputs": [
        {
          "output_type": "stream",
          "text": [
            "                        TotalBill  ProductCount   Month               Country\n",
            "Country                                                                      \n",
            "United Kingdom        9126206.544        469109  146834        United Kingdom\n",
            "EIRE                   297456.580          7857    2640                  EIRE\n",
            "Netherlands            274503.120          2281     686           Netherlands\n",
            "Germany                227872.430          9153    4222               Germany\n",
            "France                 216037.990          8217    3106                France\n",
            "Australia              139965.350          1256     440             Australia\n",
            "Spain                   68018.650          2461     707                 Spain\n",
            "Switzerland             57794.450          2001     522           Switzerland\n",
            "Belgium                 40055.690          1971     763               Belgium\n",
            "Sweden                  39684.750           460     318                Sweden\n",
            "Japan                   39420.760           350     164                 Japan\n",
            "Portugal                35312.750          1417     496              Portugal\n",
            "Norway                  34381.720          1012     283                Norway\n",
            "Singapore               33438.190           229      58             Singapore\n",
            "Finland                 21530.580           681     329               Finland\n",
            "Hong Kong               21266.560           288     108             Hong Kong\n",
            "Channel Islands         20611.940           752     224       Channel Islands\n",
            "Denmark                 18973.640           378     162               Denmark\n",
            "Italy                   17875.520           795     410                 Italy\n",
            "Cyprus                  14143.220           618     110                Cyprus\n",
            "Austria                  9559.840           394     120               Austria\n",
            "Israel                   8362.700           297      63                Israel\n",
            "Poland                   7456.160           341     154                Poland\n",
            "Unspecified              4749.790           446      95           Unspecified\n",
            "USA                      4274.660           248      34                   USA\n",
            "Greece                   4129.530           110      22                Greece\n",
            "Iceland                  4085.180           171      41               Iceland\n",
            "Canada                   3666.380           151      36                Canada\n",
            "Malta                    2914.900           122      75                 Malta\n",
            "United Arab Emirates     1902.280            68      20  United Arab Emirates\n",
            "Lebanon                  1693.880            45       1               Lebanon\n",
            "Lithuania                1661.060            35      48             Lithuania\n",
            "European Community       1308.750            61      29    European Community\n",
            "Brazil                   1143.600            32       4                Brazil\n",
            "RSA                      1002.310            57      10                   RSA\n",
            "Bahrain                   959.880            19      23               Bahrain\n",
            "Czech Republic            945.760            30      38        Czech Republic\n",
            "Saudi Arabia              160.670            10       5          Saudi Arabia\n"
          ],
          "name": "stdout"
        },
        {
          "output_type": "display_data",
          "data": {
            "image/png": "[encoded data removed]",
            "text/plain": [
              "<Figure size 432x288 with 1 Axes>"
            ]
          },
          "metadata": {
            "tags": [],
            "needs_background": "light"
          }
        }
      ]
    },
    {
      "cell_type": "markdown",
      "metadata": {
        "id": "_dmnALuDflAj"
      },
      "source": [
        "4. BEST HOUR FOR SALES"
      ]
    },
    {
      "cell_type": "code",
      "metadata": {
        "id": "n54HgixjfSmE",
        "colab": {
          "base_uri": "https://localhost:8080/",
          "height": 578
        },
        "outputId": "93717306-beb8-4937-8222-23bc3eb6ae8f"
      },
      "source": [
        "df_rev['Hour'] = df_rev['InvoiceDate'].dt.hour\n",
        "hourly_sales = df_rev.groupby('Hour').sum()\n",
        "hours = [hour for hour, df_rev in df_rev.groupby('Hour')]\n",
        "print(hourly_sales.sort_values(['TotalBill'], ascending = False))\n",
        "\n",
        "plt.plot(hours, hourly_sales['TotalBill'])\n",
        "plt.xticks(hours, rotation = 'vertical', size = 7)\n",
        "plt.ylabel('Sales in BP (£)')\n",
        "plt.xlabel('Hour in a day')\n",
        "plt.grid()\n",
        "plt.show()\n",
        "\n"
      ],
      "execution_count": null,
      "outputs": [
        {
          "output_type": "stream",
          "text": [
            "        TotalBill  ProductCount  Month\n",
            "Hour                                  \n",
            "10    1504426.111         45835  18649\n",
            "15    1491333.180         75601  19197\n",
            "12    1458414.610         74853  25391\n",
            "13    1311833.670         69377  22373\n",
            "11    1252925.950         54839  19638\n",
            "14    1229263.581         64440  19817\n",
            "9      842958.581         32097  11652\n",
            "16     750222.880         50594  12056\n",
            "17     452836.821         25675   6665\n",
            "8      272041.800          8345   4121\n",
            "18     132517.140          7701   1789\n",
            "19      52354.890          3295   1452\n",
            "7       31109.100           383    203\n",
            "20      21783.600           847    221\n",
            "6         505.850            41    176\n"
          ],
          "name": "stdout"
        },
        {
          "output_type": "display_data",
          "data": {
            "image/png": "[encoded data removed]",
            "text/plain": [
              "<Figure size 432x288 with 1 Axes>"
            ]
          },
          "metadata": {
            "tags": [],
            "needs_background": "light"
          }
        }
      ]
    },
    {
      "cell_type": "markdown",
      "metadata": {
        "id": "gAgVVrrk3kfS"
      },
      "source": [
        "5. ASSOCIATIVE PRODUCT MINING\n",
        "\n",
        "   Items that can be sold together\n"
      ]
    },
    {
      "cell_type": "code",
      "metadata": {
        "id": "Y8QDkv_pfSw-"
      },
      "source": [
        "df_dup = df_new.copy()\n",
        "df_dup = df_dup[df_new['InvoiceNo'].duplicated(keep = False)]\n",
        "#df_dup.info()"
      ],
      "execution_count": null,
      "outputs": []
    },
    {
      "cell_type": "code",
      "metadata": {
        "id": "NhHDXEilfSve",
        "colab": {
          "base_uri": "https://localhost:8080/",
          "height": 419
        },
        "outputId": "c2d5e5d9-d046-49f4-dc7b-59e603e7436d"
      },
      "source": [
        "df_dup['Basket'] = df_dup.groupby('InvoiceNo')['Description'].transform(lambda x: ', '.join(x))\n",
        "df_dup = df_dup[['InvoiceNo', 'Basket' ]].drop_duplicates()\n",
        "df_dup"
      ],
      "execution_count": null,
      "outputs": [
        {
          "output_type": "execute_result",
          "data": {
            "text/html": [
              "<div>\n",
              "<style scoped>\n",
              "    .dataframe tbody tr th:only-of-type {\n",
              "        vertical-align: middle;\n",
              "    }\n",
              "\n",
              "    .dataframe tbody tr th {\n",
              "        vertical-align: top;\n",
              "    }\n",
              "\n",
              "    .dataframe thead th {\n",
              "        text-align: right;\n",
              "    }\n",
              "</style>\n",
              "<table border=\"1\" class=\"dataframe\">\n",
              "  <thead>\n",
              "    <tr style=\"text-align: right;\">\n",
              "      <th></th>\n",
              "      <th>InvoiceNo</th>\n",
              "      <th>Basket</th>\n",
              "    </tr>\n",
              "  </thead>\n",
              "  <tbody>\n",
              "    <tr>\n",
              "      <th>0</th>\n",
              "      <td>536365</td>\n",
              "      <td>WHITE HANGING HEART T-LIGHT HOLDER, WHITE META...</td>\n",
              "    </tr>\n",
              "    <tr>\n",
              "      <th>7</th>\n",
              "      <td>536366</td>\n",
              "      <td>HAND WARMER UNION JACK, HAND WARMER RED POLKA DOT</td>\n",
              "    </tr>\n",
              "    <tr>\n",
              "      <th>9</th>\n",
              "      <td>536367</td>\n",
              "      <td>ASSORTED COLOUR BIRD ORNAMENT, POPPY'S PLAYHOU...</td>\n",
              "    </tr>\n",
              "    <tr>\n",
              "      <th>21</th>\n",
              "      <td>536368</td>\n",
              "      <td>JAM MAKING SET WITH JARS, RED COAT RACK PARIS ...</td>\n",
              "    </tr>\n",
              "    <tr>\n",
              "      <th>26</th>\n",
              "      <td>536370</td>\n",
              "      <td>ALARM CLOCK BAKELIKE PINK, ALARM CLOCK BAKELIK...</td>\n",
              "    </tr>\n",
              "    <tr>\n",
              "      <th>...</th>\n",
              "      <td>...</td>\n",
              "      <td>...</td>\n",
              "    </tr>\n",
              "    <tr>\n",
              "      <th>539350</th>\n",
              "      <td>581583</td>\n",
              "      <td>LUNCH BAG RED RETROSPOT, 6 CHOCOLATE LOVE HEAR...</td>\n",
              "    </tr>\n",
              "    <tr>\n",
              "      <th>539352</th>\n",
              "      <td>581584</td>\n",
              "      <td>RED FLOCK LOVE HEART PHOTO FRAME, 6 CHOCOLATE ...</td>\n",
              "    </tr>\n",
              "    <tr>\n",
              "      <th>539354</th>\n",
              "      <td>581585</td>\n",
              "      <td>BLACK TEA TOWEL CLASSIC DESIGN, ASSORTED BOTTL...</td>\n",
              "    </tr>\n",
              "    <tr>\n",
              "      <th>539375</th>\n",
              "      <td>581586</td>\n",
              "      <td>LARGE CAKE STAND  HANGING STRAWBERY, SET OF 3 ...</td>\n",
              "    </tr>\n",
              "    <tr>\n",
              "      <th>539379</th>\n",
              "      <td>581587</td>\n",
              "      <td>CIRCUS PARADE LUNCH BOX , PLASTERS IN TIN CIRC...</td>\n",
              "    </tr>\n",
              "  </tbody>\n",
              "</table>\n",
              "<p>20039 rows × 2 columns</p>\n",
              "</div>"
            ],
            "text/plain": [
              "       InvoiceNo                                             Basket\n",
              "0         536365  WHITE HANGING HEART T-LIGHT HOLDER, WHITE META...\n",
              "7         536366  HAND WARMER UNION JACK, HAND WARMER RED POLKA DOT\n",
              "9         536367  ASSORTED COLOUR BIRD ORNAMENT, POPPY'S PLAYHOU...\n",
              "21        536368  JAM MAKING SET WITH JARS, RED COAT RACK PARIS ...\n",
              "26        536370  ALARM CLOCK BAKELIKE PINK, ALARM CLOCK BAKELIK...\n",
              "...          ...                                                ...\n",
              "539350    581583  LUNCH BAG RED RETROSPOT, 6 CHOCOLATE LOVE HEAR...\n",
              "539352    581584  RED FLOCK LOVE HEART PHOTO FRAME, 6 CHOCOLATE ...\n",
              "539354    581585  BLACK TEA TOWEL CLASSIC DESIGN, ASSORTED BOTTL...\n",
              "539375    581586  LARGE CAKE STAND  HANGING STRAWBERY, SET OF 3 ...\n",
              "539379    581587  CIRCUS PARADE LUNCH BOX , PLASTERS IN TIN CIRC...\n",
              "\n",
              "[20039 rows x 2 columns]"
            ]
          },
          "metadata": {
            "tags": []
          },
          "execution_count": 32
        }
      ]
    },
    {
      "cell_type": "code",
      "metadata": {
        "id": "hqPhlfWOfSt4"
      },
      "source": [
        "count = Counter()\n",
        "for row in df_dup['Basket']:\n",
        "  row_list = row.split(', ')\n",
        "  count.update(Counter(combinations(row_list,2)))"
      ],
      "execution_count": null,
      "outputs": []
    },
    {
      "cell_type": "code",
      "metadata": {
        "id": "znXb8wangpN2",
        "colab": {
          "base_uri": "https://localhost:8080/"
        },
        "outputId": "25ae0570-f6c2-4db7-bfc5-6b36cd11f065"
      },
      "source": [
        "for items, freq in count.most_common(10):\n",
        "  print(items, freq)"
      ],
      "execution_count": null,
      "outputs": [
        {
          "output_type": "stream",
          "text": [
            "('KEY FOB ', 'KEY FOB ') 808\n",
            "('GREEN REGENCY TEACUP AND SAUCER', 'PINK REGENCY TEACUP AND SAUCER') 617\n",
            "('KEY FOB ', 'BACK DOOR ') 588\n",
            "('KEY FOB ', 'SHED') 553\n",
            "('JUMBO BAG PINK POLKADOT', 'JUMBO BAG RED RETROSPOT') 544\n",
            "('GREEN REGENCY TEACUP AND SAUCER', 'ROSES REGENCY TEACUP AND SAUCER ') 533\n",
            "('KEY FOB ', 'FRONT  DOOR ') 481\n",
            "('JUMBO SHOPPER VINTAGE RED PAISLEY', 'JUMBO BAG RED RETROSPOT') 467\n",
            "('JUMBO BAG RED RETROSPOT', 'DOTCOM POSTAGE') 461\n",
            "('JUMBO STORAGE BAG SUKI', 'JUMBO BAG RED RETROSPOT') 458\n"
          ],
          "name": "stdout"
        }
      ]
    },
    {
      "cell_type": "markdown",
      "metadata": {
        "id": "tD4SdVNoByh9"
      },
      "source": [
        "6. PRODUCT and QUANTITY RELATIONSHIP"
      ]
    },
    {
      "cell_type": "code",
      "metadata": {
        "id": "ofd_iDVaB_0M",
        "colab": {
          "base_uri": "https://localhost:8080/",
          "height": 393
        },
        "outputId": "76ebd7a3-5f3d-4524-fd8f-d4158c5c4e23"
      },
      "source": [
        "product_group = df_new.groupby('Description').size().reset_index(name='ProductPurchase')\n",
        "product_group.sort_values(['ProductPurchase'], ascending = False, inplace = True)\n",
        "product_group = product_group.iloc[0:15,]\n",
        "quantity  = product_group['ProductPurchase']\n",
        "products  = product_group['Description']\n",
        "\n",
        "plt.bar(products, quantity)\n",
        "plt.xticks(products, rotation = 'vertical', size = 6 )\n",
        "plt.xlabel('Product Name')\n",
        "plt.ylabel('Quantity Purchased')\n",
        "plt.show()"
      ],
      "execution_count": null,
      "outputs": [
        {
          "output_type": "display_data",
          "data": {
            "image/png": "[encoded data removed]",
            "text/plain": [
              "<Figure size 432x288 with 1 Axes>"
            ]
          },
          "metadata": {
            "tags": [],
            "needs_background": "light"
          }
        }
      ]
    },
    {
      "cell_type": "code",
      "metadata": {
        "id": "WlU_yHlaCADb",
        "colab": {
          "base_uri": "https://localhost:8080/",
          "height": 514
        },
        "outputId": "f08e6b3e-9929-411d-d83c-a1fc65520e56"
      },
      "source": [
        "product_group"
      ],
      "execution_count": null,
      "outputs": [
        {
          "output_type": "execute_result",
          "data": {
            "text/html": [
              "<div>\n",
              "<style scoped>\n",
              "    .dataframe tbody tr th:only-of-type {\n",
              "        vertical-align: middle;\n",
              "    }\n",
              "\n",
              "    .dataframe tbody tr th {\n",
              "        vertical-align: top;\n",
              "    }\n",
              "\n",
              "    .dataframe thead th {\n",
              "        text-align: right;\n",
              "    }\n",
              "</style>\n",
              "<table border=\"1\" class=\"dataframe\">\n",
              "  <thead>\n",
              "    <tr style=\"text-align: right;\">\n",
              "      <th></th>\n",
              "      <th>Description</th>\n",
              "      <th>ProductPurchase</th>\n",
              "    </tr>\n",
              "  </thead>\n",
              "  <tbody>\n",
              "    <tr>\n",
              "      <th>3859</th>\n",
              "      <td>WHITE HANGING HEART T-LIGHT HOLDER</td>\n",
              "      <td>2365</td>\n",
              "    </tr>\n",
              "    <tr>\n",
              "      <th>2864</th>\n",
              "      <td>REGENCY CAKESTAND 3 TIER</td>\n",
              "      <td>2198</td>\n",
              "    </tr>\n",
              "    <tr>\n",
              "      <th>1825</th>\n",
              "      <td>JUMBO BAG RED RETROSPOT</td>\n",
              "      <td>2156</td>\n",
              "    </tr>\n",
              "    <tr>\n",
              "      <th>2422</th>\n",
              "      <td>PARTY BUNTING</td>\n",
              "      <td>1726</td>\n",
              "    </tr>\n",
              "    <tr>\n",
              "      <th>2012</th>\n",
              "      <td>LUNCH BAG RED RETROSPOT</td>\n",
              "      <td>1638</td>\n",
              "    </tr>\n",
              "    <tr>\n",
              "      <th>228</th>\n",
              "      <td>ASSORTED COLOUR BIRD ORNAMENT</td>\n",
              "      <td>1501</td>\n",
              "    </tr>\n",
              "    <tr>\n",
              "      <th>3144</th>\n",
              "      <td>SET OF 3 CAKE TINS PANTRY DESIGN</td>\n",
              "      <td>1473</td>\n",
              "    </tr>\n",
              "    <tr>\n",
              "      <th>2346</th>\n",
              "      <td>PACK OF 72 RETROSPOT CAKE CASES</td>\n",
              "      <td>1385</td>\n",
              "    </tr>\n",
              "    <tr>\n",
              "      <th>2004</th>\n",
              "      <td>LUNCH BAG  BLACK SKULL.</td>\n",
              "      <td>1350</td>\n",
              "    </tr>\n",
              "    <tr>\n",
              "      <th>2206</th>\n",
              "      <td>NATURAL SLATE HEART CHALKBOARD</td>\n",
              "      <td>1280</td>\n",
              "    </tr>\n",
              "    <tr>\n",
              "      <th>2703</th>\n",
              "      <td>POSTAGE</td>\n",
              "      <td>1252</td>\n",
              "    </tr>\n",
              "    <tr>\n",
              "      <th>1823</th>\n",
              "      <td>JUMBO BAG PINK POLKADOT</td>\n",
              "      <td>1251</td>\n",
              "    </tr>\n",
              "    <tr>\n",
              "      <th>1671</th>\n",
              "      <td>HEART OF WICKER SMALL</td>\n",
              "      <td>1237</td>\n",
              "    </tr>\n",
              "    <tr>\n",
              "      <th>1792</th>\n",
              "      <td>JAM MAKING SET WITH JARS</td>\n",
              "      <td>1228</td>\n",
              "    </tr>\n",
              "    <tr>\n",
              "      <th>1838</th>\n",
              "      <td>JUMBO STORAGE BAG SUKI</td>\n",
              "      <td>1214</td>\n",
              "    </tr>\n",
              "  </tbody>\n",
              "</table>\n",
              "</div>"
            ],
            "text/plain": [
              "                             Description  ProductPurchase\n",
              "3859  WHITE HANGING HEART T-LIGHT HOLDER             2365\n",
              "2864            REGENCY CAKESTAND 3 TIER             2198\n",
              "1825             JUMBO BAG RED RETROSPOT             2156\n",
              "2422                       PARTY BUNTING             1726\n",
              "2012             LUNCH BAG RED RETROSPOT             1638\n",
              "228        ASSORTED COLOUR BIRD ORNAMENT             1501\n",
              "3144   SET OF 3 CAKE TINS PANTRY DESIGN              1473\n",
              "2346     PACK OF 72 RETROSPOT CAKE CASES             1385\n",
              "2004             LUNCH BAG  BLACK SKULL.             1350\n",
              "2206     NATURAL SLATE HEART CHALKBOARD              1280\n",
              "2703                             POSTAGE             1252\n",
              "1823             JUMBO BAG PINK POLKADOT             1251\n",
              "1671               HEART OF WICKER SMALL             1237\n",
              "1792            JAM MAKING SET WITH JARS             1228\n",
              "1838              JUMBO STORAGE BAG SUKI             1214"
            ]
          },
          "metadata": {
            "tags": []
          },
          "execution_count": 36
        }
      ]
    },
    {
      "cell_type": "code",
      "metadata": {
        "id": "A2bE--OECAJR",
        "colab": {
          "base_uri": "https://localhost:8080/",
          "height": 484
        },
        "outputId": "5bf7de7b-e857-470b-80f8-f1a62f202e14"
      },
      "source": [
        "fig, ax1 = plt.subplots()\n",
        "\n",
        "ax2 = ax1.twinx()\n",
        "ax1.bar(products, quantity, 'g-')\n",
        "ax2.plot(products, ProductBill, 'b-')\n",
        "\n",
        "ax1.set_xlabel('X data')\n",
        "ax1.set_ylabel('Y1 data', color='g')\n",
        "ax2.set_ylabel('Y2 data', color='b')\n",
        "\n",
        "plt.show()"
      ],
      "execution_count": null,
      "outputs": [
        {
          "output_type": "error",
          "ename": "NameError",
          "evalue": "ignored",
          "traceback": [
            "\u001b[0;31m---------------------------------------------------------------------------\u001b[0m",
            "\u001b[0;31mNameError\u001b[0m                                 Traceback (most recent call last)",
            "\u001b[0;32m<ipython-input-39-46bb53f8404a>\u001b[0m in \u001b[0;36m<module>\u001b[0;34m()\u001b[0m\n\u001b[1;32m      3\u001b[0m \u001b[0max2\u001b[0m \u001b[0;34m=\u001b[0m \u001b[0max1\u001b[0m\u001b[0;34m.\u001b[0m\u001b[0mtwinx\u001b[0m\u001b[0;34m(\u001b[0m\u001b[0;34m)\u001b[0m\u001b[0;34m\u001b[0m\u001b[0;34m\u001b[0m\u001b[0m\n\u001b[1;32m      4\u001b[0m \u001b[0;31m#ax1.bar(products, quantity, 'g-')\u001b[0m\u001b[0;34m\u001b[0m\u001b[0;34m\u001b[0m\u001b[0;34m\u001b[0m\u001b[0m\n\u001b[0;32m----> 5\u001b[0;31m \u001b[0max2\u001b[0m\u001b[0;34m.\u001b[0m\u001b[0mplot\u001b[0m\u001b[0;34m(\u001b[0m\u001b[0mproducts\u001b[0m\u001b[0;34m,\u001b[0m \u001b[0mProductBill\u001b[0m\u001b[0;34m,\u001b[0m \u001b[0;34m'b-'\u001b[0m\u001b[0;34m)\u001b[0m\u001b[0;34m\u001b[0m\u001b[0;34m\u001b[0m\u001b[0m\n\u001b[0m\u001b[1;32m      6\u001b[0m \u001b[0;34m\u001b[0m\u001b[0m\n\u001b[1;32m      7\u001b[0m \u001b[0max1\u001b[0m\u001b[0;34m.\u001b[0m\u001b[0mset_xlabel\u001b[0m\u001b[0;34m(\u001b[0m\u001b[0;34m'X data'\u001b[0m\u001b[0;34m)\u001b[0m\u001b[0;34m\u001b[0m\u001b[0;34m\u001b[0m\u001b[0m\n",
            "\u001b[0;31mNameError\u001b[0m: name 'ProductBill' is not defined"
          ]
        },
        {
          "output_type": "display_data",
          "data": {
            "image/png": "[encoded data removed]",
            "text/plain": [
              "<Figure size 432x288 with 2 Axes>"
            ]
          },
          "metadata": {
            "tags": [],
            "needs_background": "light"
          }
        }
      ]
    },
    {
      "cell_type": "code",
      "metadata": {
        "id": "TKPyL3qBCANW"
      },
      "source": [],
      "execution_count": null,
      "outputs": []
    },
    {
      "cell_type": "code",
      "metadata": {
        "id": "zyWcyEo2CATV"
      },
      "source": [],
      "execution_count": null,
      "outputs": []
    },
    {
      "cell_type": "code",
      "metadata": {
        "id": "Gbxo2I-6CAW9"
      },
      "source": [],
      "execution_count": null,
      "outputs": []
    },
    {
      "cell_type": "code",
      "metadata": {
        "id": "IKssQJnsCAaM"
      },
      "source": [],
      "execution_count": null,
      "outputs": []
    }
  ]
}
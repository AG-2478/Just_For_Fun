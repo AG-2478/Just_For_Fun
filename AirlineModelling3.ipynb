{
  "nbformat": 4,
  "nbformat_minor": 0,
  "metadata": {
    "colab": {
      "provenance": [],
      "mount_file_id": "1NFf8Cus_Ue-3QowDI0BXbD18JtsA2UKr",
      "authorship_tag": "ABX9TyMOPUWN8YvKK0z6Xz8x9yYy",
      "include_colab_link": true
    },
    "kernelspec": {
      "display_name": "Python 3",
      "name": "python3"
    },
    "language_info": {
      "name": "python"
    }
  },
  "cells": [
    {
      "cell_type": "markdown",
      "metadata": {
        "id": "view-in-github",
        "colab_type": "text"
      },
      "source": [
        "<a href=\"https://colab.research.google.com/github/AG-2478/LocalRepo/blob/feature1/AirlineModelling3.ipynb\" target=\"_parent\"><img src=\"https://colab.research.google.com/assets/colab-badge.svg\" alt=\"Open In Colab\"/></a>"
      ]
    },
    {
      "cell_type": "code",
      "metadata": {
        "id": "UW7wd6Z5-RbE",
        "colab": {
          "base_uri": "https://localhost:8080/"
        },
        "outputId": "ea346656-7f6e-4a84-c22e-be3c7e2b2166"
      },
      "source": [
        "import pandas as pd\n",
        "import numpy as np\n",
        "import matplotlib.pyplot as plt\n",
        "import seaborn as sns\n",
        "from numpy import array\n",
        "from numpy import argmax\n",
        "from sklearn.preprocessing import LabelEncoder\n",
        "from sklearn.preprocessing import OneHotEncoder\n",
        "from sklearn.tree import DecisionTreeClassifier\n",
        "from sklearn.model_selection import train_test_split\n",
        "from sklearn.metrics import confusion_matrix, classification_report, accuracy_score\n",
        "from sklearn.tree import export_graphviz\n",
        "from sklearn.externals.six import StringIO\n",
        "from IPython.display import Image\n",
        "from pydot import graph_from_dot_data\n",
        "import os\n",
        "os.environ['TF_CPP_MIN_LOG_LEVEL'] = '2'\n",
        "import tensorflow as tf\n",
        "from tensorflow import keras\n",
        "from tensorflow.keras import layers\n",
        "from keras.layers import Dense, Dropout, Flatten\n",
        "from tensorflow.keras.datasets import mnist\n",
        "from tensorflow.keras.layers import LeakyReLU\n",
        "from sklearn.linear_model import LinearRegression\n",
        "from pandas.plotting import scatter_matrix\n",
        "from statsmodels.api import OLS\n",
        "import statsmodels.api as sm\n",
        "from sklearn.feature_selection import VarianceThreshold\n",
        "from matplotlib import pyplot\n",
        "from sklearn.metrics import mean_squared_error\n",
        "import math"
      ],
      "execution_count": null,
      "outputs": [
        {
          "output_type": "stream",
          "text": [
            "/usr/local/lib/python3.7/dist-packages/sklearn/externals/six.py:31: FutureWarning: The module is deprecated in version 0.21 and will be removed in version 0.23 since we've dropped support for Python 2.7. Please rely on the official version of six (https://pypi.org/project/six/).\n",
            "  \"(https://pypi.org/project/six/).\", FutureWarning)\n",
            "/usr/local/lib/python3.7/dist-packages/statsmodels/tools/_testing.py:19: FutureWarning: pandas.util.testing is deprecated. Use the functions in the public API at pandas.testing instead.\n",
            "  import pandas.util.testing as tm\n"
          ],
          "name": "stderr"
        }
      ]
    },
    {
      "cell_type": "code",
      "metadata": {
        "id": "mLfjHKPl2bL6"
      },
      "source": [
        "date_cols = ['CRSDepTime','DepTime','WheelsOff','WheelsOn','CRSArrTime','ArrTime']\n",
        "df = pd.read_csv('/content/drive/MyDrive/Datasets/FlightDatasetModel1.0.csv',parse_dates=date_cols)"
      ],
      "execution_count": null,
      "outputs": []
    },
    {
      "cell_type": "code",
      "metadata": {
        "colab": {
          "base_uri": "https://localhost:8080/",
          "height": 315
        },
        "id": "hqIKzGTE-Nnj",
        "outputId": "42a28640-8784-4cc8-9bfb-d1448ed0d7ce"
      },
      "source": [
        "df = df.replace(np.nan, 0)\n",
        "df = df.drop(['Unnamed: 0'], axis=1)\n",
        "print(df.shape)\n",
        "df.head(3)"
      ],
      "execution_count": null,
      "outputs": [
        {
          "output_type": "stream",
          "text": [
            "(635863, 70)\n"
          ],
          "name": "stdout"
        },
        {
          "output_type": "execute_result",
          "data": {
            "text/html": [
              "<div>\n",
              "<style scoped>\n",
              "    .dataframe tbody tr th:only-of-type {\n",
              "        vertical-align: middle;\n",
              "    }\n",
              "\n",
              "    .dataframe tbody tr th {\n",
              "        vertical-align: top;\n",
              "    }\n",
              "\n",
              "    .dataframe thead th {\n",
              "        text-align: right;\n",
              "    }\n",
              "</style>\n",
              "<table border=\"1\" class=\"dataframe\">\n",
              "  <thead>\n",
              "    <tr style=\"text-align: right;\">\n",
              "      <th></th>\n",
              "      <th>TailNumber</th>\n",
              "      <th>FlightNumberReportingAirline</th>\n",
              "      <th>OriginAirportID</th>\n",
              "      <th>OriginCityName</th>\n",
              "      <th>OriginStateName</th>\n",
              "      <th>DestAirportID</th>\n",
              "      <th>DestCityName</th>\n",
              "      <th>DestStateName</th>\n",
              "      <th>CRSDepTime</th>\n",
              "      <th>DepTime</th>\n",
              "      <th>DepDelay</th>\n",
              "      <th>TaxiOut</th>\n",
              "      <th>WheelsOff</th>\n",
              "      <th>WheelsOn</th>\n",
              "      <th>TaxiIn</th>\n",
              "      <th>CRSArrTime</th>\n",
              "      <th>ArrTime</th>\n",
              "      <th>ArrDelay</th>\n",
              "      <th>CRSElapsedTime</th>\n",
              "      <th>ActualElapsedTime</th>\n",
              "      <th>NAirTime</th>\n",
              "      <th>Distance</th>\n",
              "      <th>CarrierDelay</th>\n",
              "      <th>WeatherDelay</th>\n",
              "      <th>NASDelay</th>\n",
              "      <th>SecurityDelay</th>\n",
              "      <th>LateAircraftDelay</th>\n",
              "      <th>NTotalDelay</th>\n",
              "      <th>NGroundTime</th>\n",
              "      <th>DelayCheck</th>\n",
              "      <th>NCityTrafficFreq</th>\n",
              "      <th>NStateAirportCount</th>\n",
              "      <th>NFlightUsage</th>\n",
              "      <th>TotalDelayBucket</th>\n",
              "      <th>JourneyBtwCities</th>\n",
              "      <th>StateTraffic</th>\n",
              "      <th>TrafficPercent</th>\n",
              "      <th>StateSumOfDelays</th>\n",
              "      <th>DelayPercent</th>\n",
              "      <th>TrafficPerMinuteDelay</th>\n",
              "      <th>AptID_10397</th>\n",
              "      <th>AptID_11292</th>\n",
              "      <th>AptID_11298</th>\n",
              "      <th>AptID_12892</th>\n",
              "      <th>AptID_13930</th>\n",
              "      <th>TNo_#NAME?</th>\n",
              "      <th>TNo_N476HA</th>\n",
              "      <th>TNo_N478HA</th>\n",
              "      <th>TNo_N485HA</th>\n",
              "      <th>TNo_N486HA</th>\n",
              "      <th>FltNo_16</th>\n",
              "      <th>FltNo_3</th>\n",
              "      <th>FltNo_5</th>\n",
              "      <th>FltNo_55</th>\n",
              "      <th>FltNo_64</th>\n",
              "      <th>OrCity_Atlanta, GA</th>\n",
              "      <th>OrCity_Chicago, IL</th>\n",
              "      <th>OrCity_Dallas/Fort Worth, TX</th>\n",
              "      <th>OrCity_Houston, TX</th>\n",
              "      <th>OrCity_Los Angeles, CA</th>\n",
              "      <th>OrCity_Atlanta, GA.1</th>\n",
              "      <th>OrCity_Chicago, IL.1</th>\n",
              "      <th>OrCity_Dallas/Fort Worth, TX.1</th>\n",
              "      <th>OrCity_Houston, TX.1</th>\n",
              "      <th>OrCity_Los Angeles, CA.1</th>\n",
              "      <th>OrState_California</th>\n",
              "      <th>OrState_Florida</th>\n",
              "      <th>OrState_Georgia</th>\n",
              "      <th>OrState_Illinois</th>\n",
              "      <th>OrState_Texas</th>\n",
              "    </tr>\n",
              "  </thead>\n",
              "  <tbody>\n",
              "    <tr>\n",
              "      <th>0</th>\n",
              "      <td>N266Aä</td>\n",
              "      <td>2672</td>\n",
              "      <td>15304</td>\n",
              "      <td>Tampa, FL</td>\n",
              "      <td>Florida</td>\n",
              "      <td>10721</td>\n",
              "      <td>Boston, MA</td>\n",
              "      <td>Massachusetts</td>\n",
              "      <td>2001-01-01 17:25:00</td>\n",
              "      <td>2001-01-01 17:51:00</td>\n",
              "      <td>26.0</td>\n",
              "      <td>9.0</td>\n",
              "      <td>2001-01-01 18:00:00</td>\n",
              "      <td>2001-01-01 20:34:00</td>\n",
              "      <td>9.0</td>\n",
              "      <td>2001-01-01 20:28:00</td>\n",
              "      <td>2001-01-01 20:43:00</td>\n",
              "      <td>15.0</td>\n",
              "      <td>183.0</td>\n",
              "      <td>172.0</td>\n",
              "      <td>0.223358</td>\n",
              "      <td>1185.0</td>\n",
              "      <td>0.0</td>\n",
              "      <td>0.0</td>\n",
              "      <td>0.0</td>\n",
              "      <td>0.0</td>\n",
              "      <td>0.0</td>\n",
              "      <td>0.0</td>\n",
              "      <td>0.048632</td>\n",
              "      <td>0</td>\n",
              "      <td>0.175060</td>\n",
              "      <td>0.678571</td>\n",
              "      <td>0.000373</td>\n",
              "      <td>0</td>\n",
              "      <td>1</td>\n",
              "      <td>88237</td>\n",
              "      <td>6.800613</td>\n",
              "      <td>458230.0</td>\n",
              "      <td>6.848694</td>\n",
              "      <td>0.192561</td>\n",
              "      <td>1.0</td>\n",
              "      <td>0.0</td>\n",
              "      <td>0.0</td>\n",
              "      <td>0.0</td>\n",
              "      <td>0.0</td>\n",
              "      <td>1.0</td>\n",
              "      <td>0.0</td>\n",
              "      <td>0.0</td>\n",
              "      <td>0.0</td>\n",
              "      <td>0.0</td>\n",
              "      <td>1.0</td>\n",
              "      <td>0.0</td>\n",
              "      <td>0.0</td>\n",
              "      <td>0.0</td>\n",
              "      <td>0.0</td>\n",
              "      <td>0.0</td>\n",
              "      <td>1.0</td>\n",
              "      <td>0.0</td>\n",
              "      <td>0.0</td>\n",
              "      <td>0.0</td>\n",
              "      <td>0.0</td>\n",
              "      <td>1.0</td>\n",
              "      <td>0.0</td>\n",
              "      <td>0.0</td>\n",
              "      <td>0.0</td>\n",
              "      <td>1.0</td>\n",
              "      <td>0.0</td>\n",
              "      <td>0.0</td>\n",
              "      <td>0.0</td>\n",
              "      <td>0.0</td>\n",
              "    </tr>\n",
              "    <tr>\n",
              "      <th>1</th>\n",
              "      <td>N5CãA1</td>\n",
              "      <td>1961</td>\n",
              "      <td>14908</td>\n",
              "      <td>Santa Ana, CA</td>\n",
              "      <td>California</td>\n",
              "      <td>11298</td>\n",
              "      <td>Dallas/Fort Worth, TX</td>\n",
              "      <td>Texas</td>\n",
              "      <td>2001-01-01 06:48:00</td>\n",
              "      <td>2001-01-01 06:49:00</td>\n",
              "      <td>1.0</td>\n",
              "      <td>23.0</td>\n",
              "      <td>2001-01-01 07:12:00</td>\n",
              "      <td>2001-01-01 11:41:00</td>\n",
              "      <td>28.0</td>\n",
              "      <td>2001-01-01 11:53:00</td>\n",
              "      <td>2001-01-01 12:09:00</td>\n",
              "      <td>16.0</td>\n",
              "      <td>185.0</td>\n",
              "      <td>200.0</td>\n",
              "      <td>0.216058</td>\n",
              "      <td>1205.0</td>\n",
              "      <td>0.0</td>\n",
              "      <td>0.0</td>\n",
              "      <td>0.0</td>\n",
              "      <td>0.0</td>\n",
              "      <td>0.0</td>\n",
              "      <td>0.0</td>\n",
              "      <td>0.148936</td>\n",
              "      <td>0</td>\n",
              "      <td>0.112557</td>\n",
              "      <td>1.000000</td>\n",
              "      <td>0.000187</td>\n",
              "      <td>0</td>\n",
              "      <td>1</td>\n",
              "      <td>154908</td>\n",
              "      <td>11.939088</td>\n",
              "      <td>653507.0</td>\n",
              "      <td>9.767299</td>\n",
              "      <td>0.237041</td>\n",
              "      <td>0.0</td>\n",
              "      <td>0.0</td>\n",
              "      <td>0.0</td>\n",
              "      <td>0.0</td>\n",
              "      <td>1.0</td>\n",
              "      <td>0.0</td>\n",
              "      <td>0.0</td>\n",
              "      <td>1.0</td>\n",
              "      <td>0.0</td>\n",
              "      <td>0.0</td>\n",
              "      <td>0.0</td>\n",
              "      <td>0.0</td>\n",
              "      <td>0.0</td>\n",
              "      <td>0.0</td>\n",
              "      <td>1.0</td>\n",
              "      <td>1.0</td>\n",
              "      <td>0.0</td>\n",
              "      <td>0.0</td>\n",
              "      <td>0.0</td>\n",
              "      <td>0.0</td>\n",
              "      <td>1.0</td>\n",
              "      <td>0.0</td>\n",
              "      <td>0.0</td>\n",
              "      <td>0.0</td>\n",
              "      <td>0.0</td>\n",
              "      <td>0.0</td>\n",
              "      <td>0.0</td>\n",
              "      <td>0.0</td>\n",
              "      <td>0.0</td>\n",
              "      <td>1.0</td>\n",
              "    </tr>\n",
              "    <tr>\n",
              "      <th>2</th>\n",
              "      <td>N366@@</td>\n",
              "      <td>2124</td>\n",
              "      <td>14107</td>\n",
              "      <td>Phoenix, AZ</td>\n",
              "      <td>Arizona</td>\n",
              "      <td>12889</td>\n",
              "      <td>Las Vegas, NV</td>\n",
              "      <td>Nevada</td>\n",
              "      <td>2001-01-01 16:45:00</td>\n",
              "      <td>2001-01-01 16:45:00</td>\n",
              "      <td>0.0</td>\n",
              "      <td>9.0</td>\n",
              "      <td>2001-01-01 16:54:00</td>\n",
              "      <td>2001-01-01 16:36:00</td>\n",
              "      <td>4.0</td>\n",
              "      <td>2001-01-01 16:45:00</td>\n",
              "      <td>2001-01-01 16:40:00</td>\n",
              "      <td>-5.0</td>\n",
              "      <td>60.0</td>\n",
              "      <td>55.0</td>\n",
              "      <td>0.059854</td>\n",
              "      <td>256.0</td>\n",
              "      <td>0.0</td>\n",
              "      <td>0.0</td>\n",
              "      <td>0.0</td>\n",
              "      <td>0.0</td>\n",
              "      <td>0.0</td>\n",
              "      <td>0.0</td>\n",
              "      <td>0.033435</td>\n",
              "      <td>0</td>\n",
              "      <td>0.448498</td>\n",
              "      <td>0.107143</td>\n",
              "      <td>0.002241</td>\n",
              "      <td>0</td>\n",
              "      <td>1</td>\n",
              "      <td>42531</td>\n",
              "      <td>3.277954</td>\n",
              "      <td>157642.0</td>\n",
              "      <td>2.356113</td>\n",
              "      <td>0.269795</td>\n",
              "      <td>0.0</td>\n",
              "      <td>0.0</td>\n",
              "      <td>1.0</td>\n",
              "      <td>0.0</td>\n",
              "      <td>0.0</td>\n",
              "      <td>0.0</td>\n",
              "      <td>0.0</td>\n",
              "      <td>0.0</td>\n",
              "      <td>1.0</td>\n",
              "      <td>0.0</td>\n",
              "      <td>0.0</td>\n",
              "      <td>1.0</td>\n",
              "      <td>0.0</td>\n",
              "      <td>0.0</td>\n",
              "      <td>0.0</td>\n",
              "      <td>0.0</td>\n",
              "      <td>0.0</td>\n",
              "      <td>1.0</td>\n",
              "      <td>0.0</td>\n",
              "      <td>0.0</td>\n",
              "      <td>0.0</td>\n",
              "      <td>0.0</td>\n",
              "      <td>1.0</td>\n",
              "      <td>0.0</td>\n",
              "      <td>0.0</td>\n",
              "      <td>0.0</td>\n",
              "      <td>1.0</td>\n",
              "      <td>0.0</td>\n",
              "      <td>0.0</td>\n",
              "      <td>0.0</td>\n",
              "    </tr>\n",
              "  </tbody>\n",
              "</table>\n",
              "</div>"
            ],
            "text/plain": [
              "  TailNumber  FlightNumberReportingAirline  ...  OrState_Illinois OrState_Texas\n",
              "0     N266Aä                          2672  ...               0.0           0.0\n",
              "1     N5CãA1                          1961  ...               0.0           1.0\n",
              "2     N366@@                          2124  ...               0.0           0.0\n",
              "\n",
              "[3 rows x 70 columns]"
            ]
          },
          "metadata": {
            "tags": []
          },
          "execution_count": 78
        }
      ]
    },
    {
      "cell_type": "code",
      "metadata": {
        "id": "vEmUzRuVZ0Re",
        "colab": {
          "base_uri": "https://localhost:8080/"
        },
        "outputId": "3c5b8936-ea0a-46e7-829a-6c2ac5e0435d"
      },
      "source": [
        "df.columns"
      ],
      "execution_count": null,
      "outputs": [
        {
          "output_type": "execute_result",
          "data": {
            "text/plain": [
              "Index(['TailNumber', 'FlightNumberReportingAirline', 'OriginAirportID',\n",
              "       'OriginCityName', 'OriginStateName', 'DestAirportID', 'DestCityName',\n",
              "       'DestStateName', 'CRSDepTime', 'DepTime', 'DepDelay', 'TaxiOut',\n",
              "       'WheelsOff', 'WheelsOn', 'TaxiIn', 'CRSArrTime', 'ArrTime', 'ArrDelay',\n",
              "       'CRSElapsedTime', 'ActualElapsedTime', 'NAirTime', 'Distance',\n",
              "       'CarrierDelay', 'WeatherDelay', 'NASDelay', 'SecurityDelay',\n",
              "       'LateAircraftDelay', 'NTotalDelay', 'NGroundTime', 'DelayCheck',\n",
              "       'NCityTrafficFreq', 'NStateAirportCount', 'NFlightUsage',\n",
              "       'TotalDelayBucket', 'JourneyBtwCities', 'StateTraffic',\n",
              "       'TrafficPercent', 'StateSumOfDelays', 'DelayPercent',\n",
              "       'TrafficPerMinuteDelay', 'AptID_10397', 'AptID_11292', 'AptID_11298',\n",
              "       'AptID_12892', 'AptID_13930', 'TNo_#NAME?', 'TNo_N476HA', 'TNo_N478HA',\n",
              "       'TNo_N485HA', 'TNo_N486HA', 'FltNo_16', 'FltNo_3', 'FltNo_5',\n",
              "       'FltNo_55', 'FltNo_64', 'OrCity_Atlanta, GA', 'OrCity_Chicago, IL',\n",
              "       'OrCity_Dallas/Fort Worth, TX', 'OrCity_Houston, TX',\n",
              "       'OrCity_Los Angeles, CA', 'OrCity_Atlanta, GA.1',\n",
              "       'OrCity_Chicago, IL.1', 'OrCity_Dallas/Fort Worth, TX.1',\n",
              "       'OrCity_Houston, TX.1', 'OrCity_Los Angeles, CA.1',\n",
              "       'OrState_California', 'OrState_Florida', 'OrState_Georgia',\n",
              "       'OrState_Illinois', 'OrState_Texas'],\n",
              "      dtype='object')"
            ]
          },
          "metadata": {
            "tags": []
          },
          "execution_count": 79
        }
      ]
    },
    {
      "cell_type": "code",
      "metadata": {
        "id": "es5nqjXEZyqN"
      },
      "source": [
        "#converting object dtype to category dtype\n",
        "df[['FlightNumberReportingAirline','AptID_10397', 'AptID_11292', 'AptID_11298',\n",
        "       'AptID_12892', 'AptID_13930', 'TNo_#NAME?', 'TNo_N476HA', 'TNo_N478HA',\n",
        "       'TNo_N485HA', 'TNo_N486HA', 'FltNo_16', 'FltNo_3', 'FltNo_5',\n",
        "       'FltNo_55', 'FltNo_64', 'OrCity_Atlanta, GA', 'OrCity_Chicago, IL',\n",
        "       'OrCity_Dallas/Fort Worth, TX', 'OrCity_Houston, TX',\n",
        "       'OrCity_Los Angeles, CA', 'OrCity_Atlanta, GA.1',\n",
        "       'OrCity_Chicago, IL.1', 'OrCity_Dallas/Fort Worth, TX.1',\n",
        "       'OrCity_Houston, TX.1', 'OrCity_Los Angeles, CA.1',\n",
        "       'OrState_California', 'OrState_Florida', 'OrState_Georgia',\n",
        "       'OrState_Illinois', 'OrState_Texas']] = df[['FlightNumberReportingAirline','AptID_10397', 'AptID_11292', 'AptID_11298',\n",
        "       'AptID_12892', 'AptID_13930', 'TNo_#NAME?', 'TNo_N476HA', 'TNo_N478HA',\n",
        "       'TNo_N485HA', 'TNo_N486HA', 'FltNo_16', 'FltNo_3', 'FltNo_5',\n",
        "       'FltNo_55', 'FltNo_64', 'OrCity_Atlanta, GA', 'OrCity_Chicago, IL',\n",
        "       'OrCity_Dallas/Fort Worth, TX', 'OrCity_Houston, TX',\n",
        "       'OrCity_Los Angeles, CA', 'OrCity_Atlanta, GA.1',\n",
        "       'OrCity_Chicago, IL.1', 'OrCity_Dallas/Fort Worth, TX.1',\n",
        "       'OrCity_Houston, TX.1', 'OrCity_Los Angeles, CA.1',\n",
        "       'OrState_California', 'OrState_Florida', 'OrState_Georgia',\n",
        "       'OrState_Illinois', 'OrState_Texas']].astype('category')"
      ],
      "execution_count": null,
      "outputs": []
    },
    {
      "cell_type": "code",
      "metadata": {
        "id": "H9YYfDGSISZt"
      },
      "source": [
        "#Dropping string columns\n",
        "df = df.drop(['TailNumber','OriginCityName','OriginStateName','DestCityName','DestStateName'], axis=1)"
      ],
      "execution_count": null,
      "outputs": []
    },
    {
      "cell_type": "code",
      "metadata": {
        "colab": {
          "base_uri": "https://localhost:8080/"
        },
        "id": "JzdaOX06X5XT",
        "outputId": "c77dc22f-cbe2-4106-b2af-1605eb186dfa"
      },
      "source": [
        "df.info()"
      ],
      "execution_count": null,
      "outputs": [
        {
          "output_type": "stream",
          "text": [
            "<class 'pandas.core.frame.DataFrame'>\n",
            "RangeIndex: 635863 entries, 0 to 635862\n",
            "Data columns (total 65 columns):\n",
            " #   Column                          Non-Null Count   Dtype         \n",
            "---  ------                          --------------   -----         \n",
            " 0   FlightNumberReportingAirline    635863 non-null  category      \n",
            " 1   OriginAirportID                 635863 non-null  int64         \n",
            " 2   DestAirportID                   635863 non-null  int64         \n",
            " 3   CRSDepTime                      635863 non-null  datetime64[ns]\n",
            " 4   DepTime                         635863 non-null  datetime64[ns]\n",
            " 5   DepDelay                        635863 non-null  float64       \n",
            " 6   TaxiOut                         635863 non-null  float64       \n",
            " 7   WheelsOff                       635863 non-null  datetime64[ns]\n",
            " 8   WheelsOn                        635863 non-null  datetime64[ns]\n",
            " 9   TaxiIn                          635863 non-null  float64       \n",
            " 10  CRSArrTime                      635863 non-null  datetime64[ns]\n",
            " 11  ArrTime                         635863 non-null  datetime64[ns]\n",
            " 12  ArrDelay                        635863 non-null  float64       \n",
            " 13  CRSElapsedTime                  635863 non-null  float64       \n",
            " 14  ActualElapsedTime               635863 non-null  float64       \n",
            " 15  NAirTime                        635863 non-null  float64       \n",
            " 16  Distance                        635863 non-null  float64       \n",
            " 17  CarrierDelay                    635863 non-null  float64       \n",
            " 18  WeatherDelay                    635863 non-null  float64       \n",
            " 19  NASDelay                        635863 non-null  float64       \n",
            " 20  SecurityDelay                   635863 non-null  float64       \n",
            " 21  LateAircraftDelay               635863 non-null  float64       \n",
            " 22  NTotalDelay                     635863 non-null  float64       \n",
            " 23  NGroundTime                     635863 non-null  float64       \n",
            " 24  DelayCheck                      635863 non-null  int64         \n",
            " 25  NCityTrafficFreq                635863 non-null  float64       \n",
            " 26  NStateAirportCount              635863 non-null  float64       \n",
            " 27  NFlightUsage                    635863 non-null  float64       \n",
            " 28  TotalDelayBucket                635863 non-null  int64         \n",
            " 29  JourneyBtwCities                635863 non-null  int64         \n",
            " 30  StateTraffic                    635863 non-null  int64         \n",
            " 31  TrafficPercent                  635863 non-null  float64       \n",
            " 32  StateSumOfDelays                635863 non-null  float64       \n",
            " 33  DelayPercent                    635863 non-null  float64       \n",
            " 34  TrafficPerMinuteDelay           635863 non-null  float64       \n",
            " 35  AptID_10397                     635863 non-null  category      \n",
            " 36  AptID_11292                     635863 non-null  category      \n",
            " 37  AptID_11298                     635863 non-null  category      \n",
            " 38  AptID_12892                     635863 non-null  category      \n",
            " 39  AptID_13930                     635863 non-null  category      \n",
            " 40  TNo_#NAME?                      635863 non-null  category      \n",
            " 41  TNo_N476HA                      635863 non-null  category      \n",
            " 42  TNo_N478HA                      635863 non-null  category      \n",
            " 43  TNo_N485HA                      635863 non-null  category      \n",
            " 44  TNo_N486HA                      635863 non-null  category      \n",
            " 45  FltNo_16                        635863 non-null  category      \n",
            " 46  FltNo_3                         635863 non-null  category      \n",
            " 47  FltNo_5                         635863 non-null  category      \n",
            " 48  FltNo_55                        635863 non-null  category      \n",
            " 49  FltNo_64                        635863 non-null  category      \n",
            " 50  OrCity_Atlanta, GA              635863 non-null  category      \n",
            " 51  OrCity_Chicago, IL              635863 non-null  category      \n",
            " 52  OrCity_Dallas/Fort Worth, TX    635863 non-null  category      \n",
            " 53  OrCity_Houston, TX              635863 non-null  category      \n",
            " 54  OrCity_Los Angeles, CA          635863 non-null  category      \n",
            " 55  OrCity_Atlanta, GA.1            635863 non-null  category      \n",
            " 56  OrCity_Chicago, IL.1            635863 non-null  category      \n",
            " 57  OrCity_Dallas/Fort Worth, TX.1  635863 non-null  category      \n",
            " 58  OrCity_Houston, TX.1            635863 non-null  category      \n",
            " 59  OrCity_Los Angeles, CA.1        635863 non-null  category      \n",
            " 60  OrState_California              635863 non-null  category      \n",
            " 61  OrState_Florida                 635863 non-null  category      \n",
            " 62  OrState_Georgia                 635863 non-null  category      \n",
            " 63  OrState_Illinois                635863 non-null  category      \n",
            " 64  OrState_Texas                   635863 non-null  category      \n",
            "dtypes: category(31), datetime64[ns](6), float64(22), int64(6)\n",
            "memory usage: 184.7 MB\n"
          ],
          "name": "stdout"
        }
      ]
    },
    {
      "cell_type": "code",
      "metadata": {
        "id": "MIwHdqpHD27y"
      },
      "source": [
        "#numerics = ['int16', 'int32', 'int64', 'float16', 'float32', 'float64']\n",
        "#newdf = df.select_dtypes(include=numerics)\n",
        "#newdf = newdf.astype(float)"
      ],
      "execution_count": null,
      "outputs": []
    },
    {
      "cell_type": "code",
      "metadata": {
        "id": "F7yy_Zp_-Rsd"
      },
      "source": [
        "#removing features that do not shw significant change\n",
        "qconstant_filter = VarianceThreshold(threshold=0.01)\n",
        "x = qconstant_filter.fit(newdf)\n",
        "len(newdf.columns[qconstant_filter.get_support()])"
      ],
      "execution_count": null,
      "outputs": []
    },
    {
      "cell_type": "code",
      "metadata": {
        "id": "viM5Jz26-Rvy"
      },
      "source": [
        "#to check those constant columns\n",
        "qconstant_columns = [column for column in newdf.columns\n",
        "                    if column not in newdf.columns[qconstant_filter.get_support()]]\n",
        "\n",
        "print(len(qconstant_columns))\n",
        "for column in qconstant_columns:\n",
        "    print(column)"
      ],
      "execution_count": null,
      "outputs": []
    },
    {
      "cell_type": "code",
      "metadata": {
        "colab": {
          "base_uri": "https://localhost:8080/"
        },
        "id": "h7eIcW03ber1",
        "outputId": "4d71aff6-a8b2-4e20-8e7e-e285169c3549"
      },
      "source": [
        "df['DelayCheck'].value_counts()"
      ],
      "execution_count": null,
      "outputs": [
        {
          "output_type": "execute_result",
          "data": {
            "text/plain": [
              "0    525920\n",
              "1    109943\n",
              "Name: DelayCheck, dtype: int64"
            ]
          },
          "metadata": {
            "tags": []
          },
          "execution_count": 83
        }
      ]
    },
    {
      "cell_type": "code",
      "metadata": {
        "colab": {
          "base_uri": "https://localhost:8080/"
        },
        "id": "DkbPQgGKdg0b",
        "outputId": "af62d44e-cb2a-4959-a66a-9df12ba855e9"
      },
      "source": [
        "df0 = df[df['DelayCheck']==0].sample(n=109950)\n",
        "df1 = df[df['DelayCheck']==1]\n",
        "sample_df = pd.concat([df1,df0])\n",
        "sample_df.shape"
      ],
      "execution_count": null,
      "outputs": [
        {
          "output_type": "execute_result",
          "data": {
            "text/plain": [
              "(219893, 65)"
            ]
          },
          "metadata": {
            "tags": []
          },
          "execution_count": 84
        }
      ]
    },
    {
      "cell_type": "code",
      "metadata": {
        "id": "O1HoLEg9-RzC"
      },
      "source": [
        "corr_df = sample_df.drop(['NTotalDelay', 'TotalDelayBucket','DelayCheck'], axis=1)\n",
        "corr_df = corr_df.drop(['CarrierDelay', 'NASDelay', 'SecurityDelay','LateAircraftDelay','DepDelay','ArrDelay'],axis=1)\n",
        "correlated_features = set()\n",
        "correlation_matrix = corr_df.corr()"
      ],
      "execution_count": null,
      "outputs": []
    },
    {
      "cell_type": "code",
      "metadata": {
        "id": "OpYNQclz-R1s"
      },
      "source": [
        "for i in range(len(correlation_matrix.columns)):\n",
        "    for j in range(i):\n",
        "        if abs(correlation_matrix.iloc[i, j]) > 0.8:\n",
        "            colname = correlation_matrix.columns[i]\n",
        "            correlated_features.add(colname)"
      ],
      "execution_count": null,
      "outputs": []
    },
    {
      "cell_type": "code",
      "metadata": {
        "colab": {
          "base_uri": "https://localhost:8080/"
        },
        "id": "lqxZRC98-R4E",
        "outputId": "4c5345ef-32f4-4dae-a8d0-e5ad2e974b4a"
      },
      "source": [
        "#correlated_features = correlated_features.remove('TotalDelayBucket')\n",
        "#correlated_features = correlated_features.remove('NTotalDelay')\n",
        "len(correlated_features)"
      ],
      "execution_count": null,
      "outputs": [
        {
          "output_type": "execute_result",
          "data": {
            "text/plain": [
              "8"
            ]
          },
          "metadata": {
            "tags": []
          },
          "execution_count": 87
        }
      ]
    },
    {
      "cell_type": "code",
      "metadata": {
        "colab": {
          "base_uri": "https://localhost:8080/"
        },
        "id": "PDxT_KvO-R7N",
        "outputId": "461d3b96-6102-4363-9afd-93e0793f629a"
      },
      "source": [
        "print(correlated_features)"
      ],
      "execution_count": null,
      "outputs": [
        {
          "output_type": "stream",
          "text": [
            "{'ActualElapsedTime', 'NAirTime', 'NGroundTime', 'StateSumOfDelays', 'DelayPercent', 'StateTraffic', 'TrafficPercent', 'Distance'}\n"
          ],
          "name": "stdout"
        }
      ]
    },
    {
      "cell_type": "code",
      "metadata": {
        "colab": {
          "base_uri": "https://localhost:8080/",
          "height": 445
        },
        "id": "CkJXjSyA-R9_",
        "outputId": "59f25dd7-d536-4d3b-8b30-31b36cb127fa"
      },
      "source": [
        "#removing correlated features\n",
        "corr_df = corr_df.drop(labels=correlated_features, axis=1)\n",
        "print(corr_df.shape)\n",
        "corr_df.head(5)"
      ],
      "execution_count": null,
      "outputs": [
        {
          "output_type": "stream",
          "text": [
            "(219893, 48)\n"
          ],
          "name": "stdout"
        },
        {
          "output_type": "execute_result",
          "data": {
            "text/html": [
              "<div>\n",
              "<style scoped>\n",
              "    .dataframe tbody tr th:only-of-type {\n",
              "        vertical-align: middle;\n",
              "    }\n",
              "\n",
              "    .dataframe tbody tr th {\n",
              "        vertical-align: top;\n",
              "    }\n",
              "\n",
              "    .dataframe thead th {\n",
              "        text-align: right;\n",
              "    }\n",
              "</style>\n",
              "<table border=\"1\" class=\"dataframe\">\n",
              "  <thead>\n",
              "    <tr style=\"text-align: right;\">\n",
              "      <th></th>\n",
              "      <th>FlightNumberReportingAirline</th>\n",
              "      <th>OriginAirportID</th>\n",
              "      <th>DestAirportID</th>\n",
              "      <th>CRSDepTime</th>\n",
              "      <th>DepTime</th>\n",
              "      <th>TaxiOut</th>\n",
              "      <th>WheelsOff</th>\n",
              "      <th>WheelsOn</th>\n",
              "      <th>TaxiIn</th>\n",
              "      <th>CRSArrTime</th>\n",
              "      <th>ArrTime</th>\n",
              "      <th>CRSElapsedTime</th>\n",
              "      <th>WeatherDelay</th>\n",
              "      <th>NCityTrafficFreq</th>\n",
              "      <th>NStateAirportCount</th>\n",
              "      <th>NFlightUsage</th>\n",
              "      <th>JourneyBtwCities</th>\n",
              "      <th>TrafficPerMinuteDelay</th>\n",
              "      <th>AptID_10397</th>\n",
              "      <th>AptID_11292</th>\n",
              "      <th>AptID_11298</th>\n",
              "      <th>AptID_12892</th>\n",
              "      <th>AptID_13930</th>\n",
              "      <th>TNo_#NAME?</th>\n",
              "      <th>TNo_N476HA</th>\n",
              "      <th>TNo_N478HA</th>\n",
              "      <th>TNo_N485HA</th>\n",
              "      <th>TNo_N486HA</th>\n",
              "      <th>FltNo_16</th>\n",
              "      <th>FltNo_3</th>\n",
              "      <th>FltNo_5</th>\n",
              "      <th>FltNo_55</th>\n",
              "      <th>FltNo_64</th>\n",
              "      <th>OrCity_Atlanta, GA</th>\n",
              "      <th>OrCity_Chicago, IL</th>\n",
              "      <th>OrCity_Dallas/Fort Worth, TX</th>\n",
              "      <th>OrCity_Houston, TX</th>\n",
              "      <th>OrCity_Los Angeles, CA</th>\n",
              "      <th>OrCity_Atlanta, GA.1</th>\n",
              "      <th>OrCity_Chicago, IL.1</th>\n",
              "      <th>OrCity_Dallas/Fort Worth, TX.1</th>\n",
              "      <th>OrCity_Houston, TX.1</th>\n",
              "      <th>OrCity_Los Angeles, CA.1</th>\n",
              "      <th>OrState_California</th>\n",
              "      <th>OrState_Florida</th>\n",
              "      <th>OrState_Georgia</th>\n",
              "      <th>OrState_Illinois</th>\n",
              "      <th>OrState_Texas</th>\n",
              "    </tr>\n",
              "  </thead>\n",
              "  <tbody>\n",
              "    <tr>\n",
              "      <th>64814</th>\n",
              "      <td>870</td>\n",
              "      <td>11057</td>\n",
              "      <td>10792</td>\n",
              "      <td>2003-01-06 12:30:00</td>\n",
              "      <td>2003-01-06 12:28:00</td>\n",
              "      <td>30.0</td>\n",
              "      <td>2003-01-06 12:58:00</td>\n",
              "      <td>2003-01-06 14:23:00</td>\n",
              "      <td>5.0</td>\n",
              "      <td>2003-01-06 14:11:00</td>\n",
              "      <td>2003-01-06 14:28:00</td>\n",
              "      <td>101.0</td>\n",
              "      <td>0.0</td>\n",
              "      <td>0.292848</td>\n",
              "      <td>0.357143</td>\n",
              "      <td>0.001867</td>\n",
              "      <td>6</td>\n",
              "      <td>0.180628</td>\n",
              "      <td>0.0</td>\n",
              "      <td>0.0</td>\n",
              "      <td>0.0</td>\n",
              "      <td>0.0</td>\n",
              "      <td>0.0</td>\n",
              "      <td>0.0</td>\n",
              "      <td>0.0</td>\n",
              "      <td>0.0</td>\n",
              "      <td>0.0</td>\n",
              "      <td>0.0</td>\n",
              "      <td>0.0</td>\n",
              "      <td>0.0</td>\n",
              "      <td>0.0</td>\n",
              "      <td>0.0</td>\n",
              "      <td>0.0</td>\n",
              "      <td>0.0</td>\n",
              "      <td>0.0</td>\n",
              "      <td>0.0</td>\n",
              "      <td>0.0</td>\n",
              "      <td>0.0</td>\n",
              "      <td>0.0</td>\n",
              "      <td>0.0</td>\n",
              "      <td>0.0</td>\n",
              "      <td>0.0</td>\n",
              "      <td>0.0</td>\n",
              "      <td>0.0</td>\n",
              "      <td>0.0</td>\n",
              "      <td>0.0</td>\n",
              "      <td>0.0</td>\n",
              "      <td>0.0</td>\n",
              "    </tr>\n",
              "    <tr>\n",
              "      <th>64830</th>\n",
              "      <td>435</td>\n",
              "      <td>14100</td>\n",
              "      <td>10721</td>\n",
              "      <td>2003-01-06 20:00:00</td>\n",
              "      <td>2003-01-06 19:56:00</td>\n",
              "      <td>50.0</td>\n",
              "      <td>2003-01-06 20:46:00</td>\n",
              "      <td>2003-01-06 21:40:00</td>\n",
              "      <td>4.0</td>\n",
              "      <td>2003-01-06 21:24:00</td>\n",
              "      <td>2003-01-06 21:44:00</td>\n",
              "      <td>84.0</td>\n",
              "      <td>0.0</td>\n",
              "      <td>0.232751</td>\n",
              "      <td>0.250000</td>\n",
              "      <td>0.003922</td>\n",
              "      <td>87</td>\n",
              "      <td>0.174245</td>\n",
              "      <td>0.0</td>\n",
              "      <td>0.0</td>\n",
              "      <td>0.0</td>\n",
              "      <td>0.0</td>\n",
              "      <td>0.0</td>\n",
              "      <td>0.0</td>\n",
              "      <td>0.0</td>\n",
              "      <td>0.0</td>\n",
              "      <td>0.0</td>\n",
              "      <td>0.0</td>\n",
              "      <td>0.0</td>\n",
              "      <td>0.0</td>\n",
              "      <td>0.0</td>\n",
              "      <td>0.0</td>\n",
              "      <td>0.0</td>\n",
              "      <td>0.0</td>\n",
              "      <td>0.0</td>\n",
              "      <td>0.0</td>\n",
              "      <td>0.0</td>\n",
              "      <td>0.0</td>\n",
              "      <td>0.0</td>\n",
              "      <td>0.0</td>\n",
              "      <td>0.0</td>\n",
              "      <td>0.0</td>\n",
              "      <td>0.0</td>\n",
              "      <td>0.0</td>\n",
              "      <td>0.0</td>\n",
              "      <td>0.0</td>\n",
              "      <td>0.0</td>\n",
              "      <td>0.0</td>\n",
              "    </tr>\n",
              "    <tr>\n",
              "      <th>64831</th>\n",
              "      <td>1182</td>\n",
              "      <td>11109</td>\n",
              "      <td>11292</td>\n",
              "      <td>2003-01-06 14:00:00</td>\n",
              "      <td>2003-01-06 14:19:00</td>\n",
              "      <td>13.0</td>\n",
              "      <td>2003-01-06 14:32:00</td>\n",
              "      <td>2003-01-06 14:50:00</td>\n",
              "      <td>8.0</td>\n",
              "      <td>2003-01-06 14:39:00</td>\n",
              "      <td>2003-01-06 14:58:00</td>\n",
              "      <td>39.0</td>\n",
              "      <td>0.0</td>\n",
              "      <td>0.031672</td>\n",
              "      <td>0.357143</td>\n",
              "      <td>0.001681</td>\n",
              "      <td>21</td>\n",
              "      <td>0.178885</td>\n",
              "      <td>0.0</td>\n",
              "      <td>0.0</td>\n",
              "      <td>0.0</td>\n",
              "      <td>0.0</td>\n",
              "      <td>0.0</td>\n",
              "      <td>0.0</td>\n",
              "      <td>0.0</td>\n",
              "      <td>0.0</td>\n",
              "      <td>0.0</td>\n",
              "      <td>0.0</td>\n",
              "      <td>0.0</td>\n",
              "      <td>0.0</td>\n",
              "      <td>0.0</td>\n",
              "      <td>0.0</td>\n",
              "      <td>0.0</td>\n",
              "      <td>0.0</td>\n",
              "      <td>0.0</td>\n",
              "      <td>0.0</td>\n",
              "      <td>0.0</td>\n",
              "      <td>0.0</td>\n",
              "      <td>0.0</td>\n",
              "      <td>0.0</td>\n",
              "      <td>0.0</td>\n",
              "      <td>0.0</td>\n",
              "      <td>0.0</td>\n",
              "      <td>0.0</td>\n",
              "      <td>0.0</td>\n",
              "      <td>0.0</td>\n",
              "      <td>0.0</td>\n",
              "      <td>0.0</td>\n",
              "    </tr>\n",
              "    <tr>\n",
              "      <th>64847</th>\n",
              "      <td>1272</td>\n",
              "      <td>12892</td>\n",
              "      <td>10140</td>\n",
              "      <td>2003-01-06 12:10:00</td>\n",
              "      <td>2003-01-06 12:23:00</td>\n",
              "      <td>11.0</td>\n",
              "      <td>2003-01-06 12:34:00</td>\n",
              "      <td>2003-01-06 15:08:00</td>\n",
              "      <td>3.0</td>\n",
              "      <td>2003-01-06 14:55:00</td>\n",
              "      <td>2003-01-06 15:11:00</td>\n",
              "      <td>105.0</td>\n",
              "      <td>0.0</td>\n",
              "      <td>0.526907</td>\n",
              "      <td>1.000000</td>\n",
              "      <td>0.005789</td>\n",
              "      <td>34</td>\n",
              "      <td>0.237041</td>\n",
              "      <td>0.0</td>\n",
              "      <td>0.0</td>\n",
              "      <td>0.0</td>\n",
              "      <td>0.0</td>\n",
              "      <td>0.0</td>\n",
              "      <td>0.0</td>\n",
              "      <td>0.0</td>\n",
              "      <td>0.0</td>\n",
              "      <td>0.0</td>\n",
              "      <td>0.0</td>\n",
              "      <td>0.0</td>\n",
              "      <td>0.0</td>\n",
              "      <td>0.0</td>\n",
              "      <td>0.0</td>\n",
              "      <td>0.0</td>\n",
              "      <td>0.0</td>\n",
              "      <td>0.0</td>\n",
              "      <td>0.0</td>\n",
              "      <td>0.0</td>\n",
              "      <td>0.0</td>\n",
              "      <td>0.0</td>\n",
              "      <td>0.0</td>\n",
              "      <td>0.0</td>\n",
              "      <td>0.0</td>\n",
              "      <td>0.0</td>\n",
              "      <td>0.0</td>\n",
              "      <td>0.0</td>\n",
              "      <td>0.0</td>\n",
              "      <td>0.0</td>\n",
              "      <td>0.0</td>\n",
              "    </tr>\n",
              "    <tr>\n",
              "      <th>64860</th>\n",
              "      <td>1497</td>\n",
              "      <td>12889</td>\n",
              "      <td>13931</td>\n",
              "      <td>2003-01-06 15:05:00</td>\n",
              "      <td>2003-01-06 15:05:00</td>\n",
              "      <td>30.0</td>\n",
              "      <td>2003-01-06 15:35:00</td>\n",
              "      <td>2003-01-06 22:48:00</td>\n",
              "      <td>2.0</td>\n",
              "      <td>2003-01-06 22:30:00</td>\n",
              "      <td>2003-01-06 22:50:00</td>\n",
              "      <td>265.0</td>\n",
              "      <td>0.0</td>\n",
              "      <td>0.387070</td>\n",
              "      <td>0.071429</td>\n",
              "      <td>0.003361</td>\n",
              "      <td>5</td>\n",
              "      <td>0.227731</td>\n",
              "      <td>0.0</td>\n",
              "      <td>0.0</td>\n",
              "      <td>0.0</td>\n",
              "      <td>0.0</td>\n",
              "      <td>0.0</td>\n",
              "      <td>0.0</td>\n",
              "      <td>0.0</td>\n",
              "      <td>0.0</td>\n",
              "      <td>0.0</td>\n",
              "      <td>0.0</td>\n",
              "      <td>0.0</td>\n",
              "      <td>0.0</td>\n",
              "      <td>0.0</td>\n",
              "      <td>0.0</td>\n",
              "      <td>0.0</td>\n",
              "      <td>0.0</td>\n",
              "      <td>0.0</td>\n",
              "      <td>0.0</td>\n",
              "      <td>0.0</td>\n",
              "      <td>0.0</td>\n",
              "      <td>0.0</td>\n",
              "      <td>0.0</td>\n",
              "      <td>0.0</td>\n",
              "      <td>0.0</td>\n",
              "      <td>0.0</td>\n",
              "      <td>0.0</td>\n",
              "      <td>0.0</td>\n",
              "      <td>0.0</td>\n",
              "      <td>0.0</td>\n",
              "      <td>0.0</td>\n",
              "    </tr>\n",
              "  </tbody>\n",
              "</table>\n",
              "</div>"
            ],
            "text/plain": [
              "      FlightNumberReportingAirline  ...  OrState_Texas\n",
              "64814                          870  ...            0.0\n",
              "64830                          435  ...            0.0\n",
              "64831                         1182  ...            0.0\n",
              "64847                         1272  ...            0.0\n",
              "64860                         1497  ...            0.0\n",
              "\n",
              "[5 rows x 48 columns]"
            ]
          },
          "metadata": {
            "tags": []
          },
          "execution_count": 89
        }
      ]
    },
    {
      "cell_type": "markdown",
      "metadata": {
        "id": "pS3wLpW4LZVG"
      },
      "source": [
        "###Feature Importance through random forest"
      ]
    },
    {
      "cell_type": "code",
      "metadata": {
        "colab": {
          "base_uri": "https://localhost:8080/"
        },
        "id": "5KZcxqufLtTB",
        "outputId": "6e106b0e-c111-48aa-e132-14a06702dc7f"
      },
      "source": [
        "X = corr_df.copy()\n",
        "Y = sample_df['TotalDelayBucket']\n",
        "print(X.shape)\n",
        "Y\n"
      ],
      "execution_count": null,
      "outputs": [
        {
          "output_type": "stream",
          "text": [
            "(219893, 48)\n"
          ],
          "name": "stdout"
        },
        {
          "output_type": "execute_result",
          "data": {
            "text/plain": [
              "64814     2\n",
              "64830     2\n",
              "64831     2\n",
              "64847     2\n",
              "64860     2\n",
              "         ..\n",
              "91988     0\n",
              "346752    0\n",
              "255209    0\n",
              "597324    0\n",
              "407343    0\n",
              "Name: TotalDelayBucket, Length: 219893, dtype: int64"
            ]
          },
          "metadata": {
            "tags": []
          },
          "execution_count": 106
        }
      ]
    },
    {
      "cell_type": "code",
      "metadata": {
        "id": "6GEM2jVe6Izs"
      },
      "source": [
        "X.head(5)"
      ],
      "execution_count": null,
      "outputs": []
    },
    {
      "cell_type": "code",
      "metadata": {
        "id": "-e0MTwNG59yc"
      },
      "source": [
        "print(X.isnull().sum())"
      ],
      "execution_count": null,
      "outputs": []
    },
    {
      "cell_type": "code",
      "metadata": {
        "id": "RsfP0o-06h1s"
      },
      "source": [
        "X = X.replace(np.nan, 0)\n",
        "Y = Y.replace(np.nan, 0)\n",
        "X.head(10)"
      ],
      "execution_count": null,
      "outputs": []
    },
    {
      "cell_type": "code",
      "metadata": {
        "colab": {
          "base_uri": "https://localhost:8080/",
          "height": 657
        },
        "id": "OOSJGAaHlSZy",
        "outputId": "3a01a9a8-3443-486f-92ee-308b22320b67"
      },
      "source": [
        "X_time = X[['CRSDepTime','DepTime','WheelsOff','WheelsOn','CRSArrTime','ArrTime']]\n",
        "X = X.drop(['CRSDepTime','DepTime','WheelsOff','WheelsOn','CRSArrTime','ArrTime'],axis=1)\n",
        "print(X)\n",
        "X_time"
      ],
      "execution_count": null,
      "outputs": [
        {
          "output_type": "stream",
          "text": [
            "       FlightNumberReportingAirline  ...  OrState_Texas\n",
            "64814                           870  ...            0.0\n",
            "64830                           435  ...            0.0\n",
            "64831                          1182  ...            0.0\n",
            "64847                          1272  ...            0.0\n",
            "64860                          1497  ...            0.0\n",
            "...                             ...  ...            ...\n",
            "91988                           592  ...            0.0\n",
            "346752                          634  ...            0.0\n",
            "255209                          472  ...            0.0\n",
            "597324                         5445  ...            0.0\n",
            "407343                          757  ...            0.0\n",
            "\n",
            "[219893 rows x 42 columns]\n"
          ],
          "name": "stdout"
        },
        {
          "output_type": "execute_result",
          "data": {
            "text/html": [
              "<div>\n",
              "<style scoped>\n",
              "    .dataframe tbody tr th:only-of-type {\n",
              "        vertical-align: middle;\n",
              "    }\n",
              "\n",
              "    .dataframe tbody tr th {\n",
              "        vertical-align: top;\n",
              "    }\n",
              "\n",
              "    .dataframe thead th {\n",
              "        text-align: right;\n",
              "    }\n",
              "</style>\n",
              "<table border=\"1\" class=\"dataframe\">\n",
              "  <thead>\n",
              "    <tr style=\"text-align: right;\">\n",
              "      <th></th>\n",
              "      <th>CRSDepTime</th>\n",
              "      <th>DepTime</th>\n",
              "      <th>WheelsOff</th>\n",
              "      <th>WheelsOn</th>\n",
              "      <th>CRSArrTime</th>\n",
              "      <th>ArrTime</th>\n",
              "    </tr>\n",
              "  </thead>\n",
              "  <tbody>\n",
              "    <tr>\n",
              "      <th>64814</th>\n",
              "      <td>2003-01-06 12:30:00</td>\n",
              "      <td>2003-01-06 12:28:00</td>\n",
              "      <td>2003-01-06 12:58:00</td>\n",
              "      <td>2003-01-06 14:23:00</td>\n",
              "      <td>2003-01-06 14:11:00</td>\n",
              "      <td>2003-01-06 14:28:00</td>\n",
              "    </tr>\n",
              "    <tr>\n",
              "      <th>64830</th>\n",
              "      <td>2003-01-06 20:00:00</td>\n",
              "      <td>2003-01-06 19:56:00</td>\n",
              "      <td>2003-01-06 20:46:00</td>\n",
              "      <td>2003-01-06 21:40:00</td>\n",
              "      <td>2003-01-06 21:24:00</td>\n",
              "      <td>2003-01-06 21:44:00</td>\n",
              "    </tr>\n",
              "    <tr>\n",
              "      <th>64831</th>\n",
              "      <td>2003-01-06 14:00:00</td>\n",
              "      <td>2003-01-06 14:19:00</td>\n",
              "      <td>2003-01-06 14:32:00</td>\n",
              "      <td>2003-01-06 14:50:00</td>\n",
              "      <td>2003-01-06 14:39:00</td>\n",
              "      <td>2003-01-06 14:58:00</td>\n",
              "    </tr>\n",
              "    <tr>\n",
              "      <th>64847</th>\n",
              "      <td>2003-01-06 12:10:00</td>\n",
              "      <td>2003-01-06 12:23:00</td>\n",
              "      <td>2003-01-06 12:34:00</td>\n",
              "      <td>2003-01-06 15:08:00</td>\n",
              "      <td>2003-01-06 14:55:00</td>\n",
              "      <td>2003-01-06 15:11:00</td>\n",
              "    </tr>\n",
              "    <tr>\n",
              "      <th>64860</th>\n",
              "      <td>2003-01-06 15:05:00</td>\n",
              "      <td>2003-01-06 15:05:00</td>\n",
              "      <td>2003-01-06 15:35:00</td>\n",
              "      <td>2003-01-06 22:48:00</td>\n",
              "      <td>2003-01-06 22:30:00</td>\n",
              "      <td>2003-01-06 22:50:00</td>\n",
              "    </tr>\n",
              "    <tr>\n",
              "      <th>...</th>\n",
              "      <td>...</td>\n",
              "      <td>...</td>\n",
              "      <td>...</td>\n",
              "      <td>...</td>\n",
              "      <td>...</td>\n",
              "      <td>...</td>\n",
              "    </tr>\n",
              "    <tr>\n",
              "      <th>91988</th>\n",
              "      <td>2004-11-04 12:19:00</td>\n",
              "      <td>2004-11-04 12:16:00</td>\n",
              "      <td>2004-11-04 12:34:00</td>\n",
              "      <td>2004-11-04 16:47:00</td>\n",
              "      <td>2004-11-04 16:46:00</td>\n",
              "      <td>2004-11-04 16:51:00</td>\n",
              "    </tr>\n",
              "    <tr>\n",
              "      <th>346752</th>\n",
              "      <td>2008-05-11 07:15:00</td>\n",
              "      <td>2008-05-11 07:13:00</td>\n",
              "      <td>2008-05-11 07:22:00</td>\n",
              "      <td>2008-05-11 10:27:00</td>\n",
              "      <td>2008-05-11 11:12:00</td>\n",
              "      <td>2008-05-11 10:37:00</td>\n",
              "    </tr>\n",
              "    <tr>\n",
              "      <th>255209</th>\n",
              "      <td>2007-07-07 10:05:00</td>\n",
              "      <td>2007-07-07 09:58:00</td>\n",
              "      <td>2007-07-07 10:09:00</td>\n",
              "      <td>2007-07-07 18:22:00</td>\n",
              "      <td>2007-07-07 18:43:00</td>\n",
              "      <td>2007-07-07 18:29:00</td>\n",
              "    </tr>\n",
              "    <tr>\n",
              "      <th>597324</th>\n",
              "      <td>2014-09-17 05:05:00</td>\n",
              "      <td>2014-09-17 05:03:00</td>\n",
              "      <td>2014-09-17 05:19:00</td>\n",
              "      <td>2014-09-17 05:52:00</td>\n",
              "      <td>2014-09-17 05:58:00</td>\n",
              "      <td>2014-09-17 05:55:00</td>\n",
              "    </tr>\n",
              "    <tr>\n",
              "      <th>407343</th>\n",
              "      <td>2009-10-28 08:40:00</td>\n",
              "      <td>2009-10-28 08:34:00</td>\n",
              "      <td>2009-10-28 09:18:00</td>\n",
              "      <td>2009-10-28 10:14:00</td>\n",
              "      <td>2009-10-28 10:28:00</td>\n",
              "      <td>2009-10-28 10:25:00</td>\n",
              "    </tr>\n",
              "  </tbody>\n",
              "</table>\n",
              "<p>219893 rows × 6 columns</p>\n",
              "</div>"
            ],
            "text/plain": [
              "                CRSDepTime  ...             ArrTime\n",
              "64814  2003-01-06 12:30:00  ... 2003-01-06 14:28:00\n",
              "64830  2003-01-06 20:00:00  ... 2003-01-06 21:44:00\n",
              "64831  2003-01-06 14:00:00  ... 2003-01-06 14:58:00\n",
              "64847  2003-01-06 12:10:00  ... 2003-01-06 15:11:00\n",
              "64860  2003-01-06 15:05:00  ... 2003-01-06 22:50:00\n",
              "...                    ...  ...                 ...\n",
              "91988  2004-11-04 12:19:00  ... 2004-11-04 16:51:00\n",
              "346752 2008-05-11 07:15:00  ... 2008-05-11 10:37:00\n",
              "255209 2007-07-07 10:05:00  ... 2007-07-07 18:29:00\n",
              "597324 2014-09-17 05:05:00  ... 2014-09-17 05:55:00\n",
              "407343 2009-10-28 08:40:00  ... 2009-10-28 10:25:00\n",
              "\n",
              "[219893 rows x 6 columns]"
            ]
          },
          "metadata": {
            "tags": []
          },
          "execution_count": 108
        }
      ]
    },
    {
      "cell_type": "code",
      "metadata": {
        "id": "Q92czPiZldJu"
      },
      "source": [
        "!pip install fast_ml\n",
        "from fast_ml.feature_engineering import FeatureEngineering_DateTime\n",
        "#Instantiate\n",
        "dt_fe = FeatureEngineering_DateTime()#Fit\n",
        "dt_fe.fit(df, datetime_variables=['DepTime'],\n",
        "          prefix = 'DepTime')#Transform\n",
        "dfdd = dt_fe.transform(df)\n",
        "dfdd.head()\n"
      ],
      "execution_count": null,
      "outputs": []
    },
    {
      "cell_type": "code",
      "metadata": {
        "colab": {
          "base_uri": "https://localhost:8080/",
          "height": 982
        },
        "id": "eIwV4GSB-SAo",
        "outputId": "81472251-fb35-4980-f1d0-1f5340b717da"
      },
      "source": [
        "from sklearn.datasets import make_classification\n",
        "from sklearn.ensemble import RandomForestClassifier\n",
        "from matplotlib import pyplot\n",
        "# define the model\n",
        "model = RandomForestClassifier()\n",
        "# fit the model\n",
        "model.fit(X, Y)\n",
        "'''\n",
        "rfe = RFE(model, 5)\n",
        "rfe = rfe.fit(X, Y)\n",
        "print(rfe.support_)\n",
        "print(rfe.ranking_)\n",
        "'''\n",
        "# get importance\n",
        "importance = model.feature_importances_\n",
        "# summarize feature importance\n",
        "for i,v in enumerate(importance):\n",
        "\tprint('Feature: %0d, Score: %.5f' % (i,v))\n",
        "# plot feature importance\n",
        "pyplot.bar([x for x in range(len(importance))], importance)\n",
        "pyplot.show()"
      ],
      "execution_count": null,
      "outputs": [
        {
          "output_type": "stream",
          "text": [
            "Feature: 0, Score: 0.13689\n",
            "Feature: 1, Score: 0.03565\n",
            "Feature: 2, Score: 0.08258\n",
            "Feature: 3, Score: 0.16098\n",
            "Feature: 4, Score: 0.08865\n",
            "Feature: 5, Score: 0.11673\n",
            "Feature: 6, Score: 0.02871\n",
            "Feature: 7, Score: 0.03580\n",
            "Feature: 8, Score: 0.02000\n",
            "Feature: 9, Score: 0.12343\n",
            "Feature: 10, Score: 0.14427\n",
            "Feature: 11, Score: 0.02629\n",
            "Feature: 12, Score: 0.00000\n",
            "Feature: 13, Score: 0.00000\n",
            "Feature: 14, Score: 0.00000\n",
            "Feature: 15, Score: 0.00000\n",
            "Feature: 16, Score: 0.00000\n",
            "Feature: 17, Score: 0.00000\n",
            "Feature: 18, Score: 0.00000\n",
            "Feature: 19, Score: 0.00000\n",
            "Feature: 20, Score: 0.00000\n",
            "Feature: 21, Score: 0.00000\n",
            "Feature: 22, Score: 0.00000\n",
            "Feature: 23, Score: 0.00000\n",
            "Feature: 24, Score: 0.00000\n",
            "Feature: 25, Score: 0.00000\n",
            "Feature: 26, Score: 0.00000\n",
            "Feature: 27, Score: 0.00000\n",
            "Feature: 28, Score: 0.00000\n",
            "Feature: 29, Score: 0.00000\n",
            "Feature: 30, Score: 0.00000\n",
            "Feature: 31, Score: 0.00000\n",
            "Feature: 32, Score: 0.00000\n",
            "Feature: 33, Score: 0.00000\n",
            "Feature: 34, Score: 0.00000\n",
            "Feature: 35, Score: 0.00000\n",
            "Feature: 36, Score: 0.00000\n",
            "Feature: 37, Score: 0.00000\n",
            "Feature: 38, Score: 0.00000\n",
            "Feature: 39, Score: 0.00000\n",
            "Feature: 40, Score: 0.00000\n",
            "Feature: 41, Score: 0.00000\n"
          ],
          "name": "stdout"
        },
        {
          "output_type": "display_data",
          "data": {
            "image/png": "[encoded data removed]",
            "text/plain": [
              "<Figure size 432x288 with 1 Axes>"
            ]
          },
          "metadata": {
            "tags": []
          }
        }
      ]
    },
    {
      "cell_type": "code",
      "metadata": {
        "id": "O_b7pYWip6e_"
      },
      "source": [
        "pyplot.boxplot(results, labels=names, showmeans=True)\n",
        "pyplot.show()"
      ],
      "execution_count": null,
      "outputs": []
    },
    {
      "cell_type": "code",
      "metadata": {
        "colab": {
          "base_uri": "https://localhost:8080/"
        },
        "id": "C61TxftEaoya",
        "outputId": "74e89a16-dba0-44e1-da6d-6e5e6c667975"
      },
      "source": [
        "idx = (-importance).argsort()[:15]\n",
        "idx"
      ],
      "execution_count": null,
      "outputs": [
        {
          "output_type": "execute_result",
          "data": {
            "text/plain": [
              "array([ 3, 10,  0,  9,  5,  4,  2,  7,  1,  6, 11,  8, 40, 41, 15])"
            ]
          },
          "metadata": {
            "tags": []
          },
          "execution_count": 93
        }
      ]
    },
    {
      "cell_type": "code",
      "metadata": {
        "colab": {
          "base_uri": "https://localhost:8080/"
        },
        "id": "ad0diKME-SEe",
        "outputId": "14800f18-495b-4202-f50a-948ed182204b"
      },
      "source": [
        "c = X.columns\n",
        "n=0\n",
        "for i in c:\n",
        "  print('Feature', n, i)\n",
        "  n=n+1"
      ],
      "execution_count": null,
      "outputs": [
        {
          "output_type": "stream",
          "text": [
            "Feature 0 FlightNumberReportingAirline\n",
            "Feature 1 OriginAirportID\n",
            "Feature 2 DestAirportID\n",
            "Feature 3 TaxiOut\n",
            "Feature 4 TaxiIn\n",
            "Feature 5 CRSElapsedTime\n",
            "Feature 6 WeatherDelay\n",
            "Feature 7 NCityTrafficFreq\n",
            "Feature 8 NStateAirportCount\n",
            "Feature 9 NFlightUsage\n",
            "Feature 10 JourneyBtwCities\n",
            "Feature 11 TrafficPerMinuteDelay\n",
            "Feature 12 AptID_10397\n",
            "Feature 13 AptID_11292\n",
            "Feature 14 AptID_11298\n",
            "Feature 15 AptID_12892\n",
            "Feature 16 AptID_13930\n",
            "Feature 17 TNo_#NAME?\n",
            "Feature 18 TNo_N476HA\n",
            "Feature 19 TNo_N478HA\n",
            "Feature 20 TNo_N485HA\n",
            "Feature 21 TNo_N486HA\n",
            "Feature 22 FltNo_16\n",
            "Feature 23 FltNo_3\n",
            "Feature 24 FltNo_5\n",
            "Feature 25 FltNo_55\n",
            "Feature 26 FltNo_64\n",
            "Feature 27 OrCity_Atlanta, GA\n",
            "Feature 28 OrCity_Chicago, IL\n",
            "Feature 29 OrCity_Dallas/Fort Worth, TX\n",
            "Feature 30 OrCity_Houston, TX\n",
            "Feature 31 OrCity_Los Angeles, CA\n",
            "Feature 32 OrCity_Atlanta, GA.1\n",
            "Feature 33 OrCity_Chicago, IL.1\n",
            "Feature 34 OrCity_Dallas/Fort Worth, TX.1\n",
            "Feature 35 OrCity_Houston, TX.1\n",
            "Feature 36 OrCity_Los Angeles, CA.1\n",
            "Feature 37 OrState_California\n",
            "Feature 38 OrState_Florida\n",
            "Feature 39 OrState_Georgia\n",
            "Feature 40 OrState_Illinois\n",
            "Feature 41 OrState_Texas\n"
          ],
          "name": "stdout"
        }
      ]
    },
    {
      "cell_type": "markdown",
      "metadata": {
        "id": "cnINiSwvcGna"
      },
      "source": [
        "###Modelling for checking delay"
      ]
    },
    {
      "cell_type": "code",
      "metadata": {
        "id": "kQW8t0sD-Sro"
      },
      "source": [
        "from sklearn.model_selection import train_test_split\n",
        "def lim_var_delaycheck(df, s1, s2, s3, s4, s5, s6,s7, v1):\n",
        "  X = df[[s1, s2, s3, s4, s5, s6,s7]].values\n",
        "  Y = df[[v1]]\n",
        "  #train and test\n",
        "#'NGroundTime' is depndent on certain local conditions. It cannot be predicted before the flight.\n",
        "#X = X.values.reshape(-1,1)\n",
        "#Y = Y.values.reshape(-1,1)\n",
        "  x_train, x_test, y_train, y_test = train_test_split(X, Y, test_size = 0.25, random_state = 42)\n",
        "  #x_train, x_vld, y_train, y_vld = train_test_split(x,y,test_size = 0.25,random_state = 12)\n",
        "  return x_train, x_test, y_train, y_test"
      ],
      "execution_count": null,
      "outputs": []
    },
    {
      "cell_type": "code",
      "metadata": {
        "colab": {
          "base_uri": "https://localhost:8080/",
          "height": 285
        },
        "id": "5S9xmoLLsF3r",
        "outputId": "24dee60e-3bfc-4f66-f089-831b95696e55"
      },
      "source": [
        "plt.scatter(sample_df.TaxiIn,sample_df.TaxiOut)"
      ],
      "execution_count": null,
      "outputs": [
        {
          "output_type": "execute_result",
          "data": {
            "text/plain": [
              "<matplotlib.collections.PathCollection at 0x7f8533ecd1d0>"
            ]
          },
          "metadata": {
            "tags": []
          },
          "execution_count": 96
        },
        {
          "output_type": "display_data",
          "data": {
            "image/png": "[encoded data removed]",
            "text/plain": [
              "<Figure size 432x288 with 1 Axes>"
            ]
          },
          "metadata": {
            "tags": []
          }
        }
      ]
    },
    {
      "cell_type": "code",
      "metadata": {
        "colab": {
          "base_uri": "https://localhost:8080/"
        },
        "id": "q0Z8ihpGb9Dp",
        "outputId": "721d505e-8dd5-4b00-9b5a-473101393b8b"
      },
      "source": [
        "x_train, x_test, y_train, y_test = lim_var_delaycheck(sample_df,'JourneyBtwCities','NFlightUsage','WeatherDelay','CRSElapsedTime','Distance','FlightNumberReportingAirline','NGroundTime','TotalDelayBucket')\n",
        "x_train.shape"
      ],
      "execution_count": null,
      "outputs": [
        {
          "output_type": "execute_result",
          "data": {
            "text/plain": [
              "(164919, 7)"
            ]
          },
          "metadata": {
            "tags": []
          },
          "execution_count": 111
        }
      ]
    },
    {
      "cell_type": "code",
      "metadata": {
        "colab": {
          "base_uri": "https://localhost:8080/"
        },
        "id": "ytVSXPAks7Aa",
        "outputId": "4275e73a-6a88-4dcc-fe09-6e63f22856c8"
      },
      "source": [
        "x_train, x_test, y_train, y_test = lim_var_delaycheck(sample_df,'JourneyBtwCities','NFlightUsage','TaxiOut','CRSElapsedTime','NCityTrafficFreq','FlightNumberReportingAirline','TaxiIn','TotalDelayBucket')\n",
        "x_train.shape"
      ],
      "execution_count": null,
      "outputs": [
        {
          "output_type": "execute_result",
          "data": {
            "text/plain": [
              "(164919, 7)"
            ]
          },
          "metadata": {
            "tags": []
          },
          "execution_count": 113
        }
      ]
    },
    {
      "cell_type": "code",
      "metadata": {
        "colab": {
          "base_uri": "https://localhost:8080/"
        },
        "id": "TKoOQg3Wb9LU",
        "outputId": "c16156ef-ba31-4e17-d5c8-d47b6efb495b"
      },
      "source": [
        "from sklearn.neighbors import KNeighborsClassifier\n",
        "classifier = KNeighborsClassifier(n_neighbors = 20, metric = 'minkowski', p = 2)\n",
        "classifier.fit(x_train, y_train)\n",
        "\n",
        "# Predicting the Test set results\n",
        "y_pred = classifier.predict(x_test)\n",
        "\n",
        "# Making the Confusion Matrix\n",
        "cm = confusion_matrix(y_test, y_pred)\n",
        "print(\"\\nConfusion matrix\\n\",cm)\n",
        "print(\"\\nAccuracy score\\n\", accuracy_score(y_test, y_pred))\n",
        "print(\"\\nReport\\n\",classification_report(y_test, y_pred))"
      ],
      "execution_count": null,
      "outputs": [
        {
          "output_type": "stream",
          "text": [
            "/usr/local/lib/python3.7/dist-packages/ipykernel_launcher.py:3: DataConversionWarning: A column-vector y was passed when a 1d array was expected. Please change the shape of y to (n_samples, ), for example using ravel().\n",
            "  This is separate from the ipykernel package so we can avoid doing imports until\n"
          ],
          "name": "stderr"
        },
        {
          "output_type": "stream",
          "text": [
            "\n",
            "Confusion matrix\n",
            " [[25968     0  1188   107    25     9     2     1     1     0     0     1\n",
            "      0     2]\n",
            " [  241     0    28     0     0     1     0     0     0     0     0     0\n",
            "      0     0]\n",
            " [ 9738     0  1202    84    21    10     0     0     1     0     0     0\n",
            "      0     0]\n",
            " [ 4679     0   539   100    15     5     2     1     0     1     0     0\n",
            "      0     0]\n",
            " [ 2706     0   341    51    18     9     2     0     0     0     0     0\n",
            "      0     2]\n",
            " [ 1805     0   224    44    13    11     0     3     0     0     0     0\n",
            "      0     1]\n",
            " [ 1256     0   162    33     7     8     1     2     0     0     0     0\n",
            "      0     0]\n",
            " [  957     0   136    22     7     2     0     4     0     1     0     0\n",
            "      0     2]\n",
            " [  662     0    95    17     7     1     2     0     0     0     0     0\n",
            "      0     1]\n",
            " [  481     0    45    16     7     5     1     0     0     0     0     0\n",
            "      0     0]\n",
            " [  344     0    41    12     4     3     0     0     0     0     0     0\n",
            "      0     1]\n",
            " [  282     0    42     9     4     3     1     1     0     0     0     0\n",
            "      0     0]\n",
            " [  188     0    28     3     2     4     1     1     0     0     0     0\n",
            "      0     0]\n",
            " [  720     0    86    23     9    11     3     0     0     0     0     1\n",
            "      0     5]]\n",
            "\n",
            "Accuracy score\n",
            " 0.4967621057227053\n",
            "\n",
            "Report\n",
            "               precision    recall  f1-score   support\n",
            "\n",
            "           0       0.52      0.95      0.67     27304\n",
            "           1       0.00      0.00      0.00       270\n",
            "           2       0.29      0.11      0.16     11056\n",
            "           3       0.19      0.02      0.03      5342\n",
            "           4       0.13      0.01      0.01      3129\n",
            "           5       0.13      0.01      0.01      2101\n",
            "           6       0.07      0.00      0.00      1469\n",
            "           7       0.31      0.00      0.01      1131\n",
            "           8       0.00      0.00      0.00       785\n",
            "           9       0.00      0.00      0.00       555\n",
            "          10       0.00      0.00      0.00       405\n",
            "          11       0.00      0.00      0.00       342\n",
            "          12       0.00      0.00      0.00       227\n",
            "          13       0.36      0.01      0.01       858\n",
            "\n",
            "    accuracy                           0.50     54974\n",
            "   macro avg       0.14      0.08      0.06     54974\n",
            "weighted avg       0.36      0.50      0.37     54974\n",
            "\n"
          ],
          "name": "stdout"
        },
        {
          "output_type": "stream",
          "text": [
            "/usr/local/lib/python3.7/dist-packages/sklearn/metrics/_classification.py:1272: UndefinedMetricWarning: Precision and F-score are ill-defined and being set to 0.0 in labels with no predicted samples. Use `zero_division` parameter to control this behavior.\n",
            "  _warn_prf(average, modifier, msg_start, len(result))\n"
          ],
          "name": "stderr"
        }
      ]
    },
    {
      "cell_type": "code",
      "metadata": {
        "colab": {
          "base_uri": "https://localhost:8080/"
        },
        "id": "bxhbeyqNTqrF",
        "outputId": "501a5455-3b47-4db9-bb39-1def8e639e4b"
      },
      "source": [
        "print()\n",
        "classifier.predict_proba(x_test)[0:5,:]"
      ],
      "execution_count": null,
      "outputs": [
        {
          "output_type": "stream",
          "text": [
            "\n"
          ],
          "name": "stdout"
        },
        {
          "output_type": "execute_result",
          "data": {
            "text/plain": [
              "array([[0.35, 0.65],\n",
              "       [0.85, 0.15],\n",
              "       [0.7 , 0.3 ],\n",
              "       [0.5 , 0.5 ],\n",
              "       [0.4 , 0.6 ]])"
            ]
          },
          "metadata": {
            "tags": []
          },
          "execution_count": 47
        }
      ]
    },
    {
      "cell_type": "code",
      "metadata": {
        "colab": {
          "base_uri": "https://localhost:8080/",
          "height": 335
        },
        "id": "wRdb9lt_Y8hg",
        "outputId": "3b6e151f-7a4e-4b82-c467-231fe8dbbb66"
      },
      "source": [
        "y_pred_prob = classifier.predict_proba(x_test)\n",
        "plt.hist(y_pred_prob, bins=8)\n",
        "plt.xlim(0,1)\n",
        "plt.title('Histogram of predicted probabilities')\n",
        "plt.xlabel('Predicted probability of Delay')\n",
        "plt.ylabel('Frequency')\n",
        "plt.legend()"
      ],
      "execution_count": null,
      "outputs": [
        {
          "output_type": "stream",
          "text": [
            "No handles with labels found to put in legend.\n"
          ],
          "name": "stderr"
        },
        {
          "output_type": "execute_result",
          "data": {
            "text/plain": [
              "<matplotlib.legend.Legend at 0x7f8534dc8510>"
            ]
          },
          "metadata": {
            "tags": []
          },
          "execution_count": 115
        },
        {
          "output_type": "display_data",
          "data": {
            "image/png": "[encoded data removed]",
            "text/plain": [
              "<Figure size 432x288 with 1 Axes>"
            ]
          },
          "metadata": {
            "tags": []
          }
        }
      ]
    },
    {
      "cell_type": "code",
      "metadata": {
        "id": "NR2fq88HTqCF"
      },
      "source": [
        "import sklearn.metrics as metrics\n",
        "#ROC curve\n",
        "fpr, tpr, thresholds = metrics.roc_curve(y_test, y_pred_prob)\n",
        "plt.plot(fpr,tpr)\n",
        "plt.xlim([0,1.0])\n",
        "plt.ylim([0,1.0])\n",
        "plt.title('ROC curve for Airline delay classifier')\n",
        "plt.xlabel('False Positive Rate(1-specificity)')\n",
        "plt.ylabel('True Positive Rate (sensitivity)')\n",
        "plt.grid(True)"
      ],
      "execution_count": null,
      "outputs": []
    },
    {
      "cell_type": "code",
      "metadata": {
        "id": "duRImCme1Ngx"
      },
      "source": [
        "\n",
        "import numpy as np\n",
        "import matplotlib.pyplot as plt\n",
        "from sklearn.pipeline import Pipeline\n",
        "from sklearn.preprocessing import PolynomialFeatures\n",
        "from sklearn.linear_model import LinearRegression\n",
        "from sklearn.model_selection import cross_val_score\n",
        "\n",
        "\n",
        "\n",
        "\n",
        "np.random.seed(0)\n",
        "\n",
        "degrees = [1, 4, 15]\n",
        "\n",
        "plt.figure(figsize=(14, 5))\n",
        "for i in range(len(degrees)):\n",
        "    ax = plt.subplot(1, len(degrees), i + 1)\n",
        "    plt.setp(ax, xticks=(), yticks=())\n",
        "\n",
        "    polynomial_features = PolynomialFeatures(degree=degrees[i],\n",
        "                                             include_bias=False)\n",
        "    linear_regression = LinearRegression()\n",
        "    #pipeline = Pipeline([(\"polynomial_features\", polynomial_features),\n",
        "                        # (\"linear_regression\", linear_regression)])\n",
        "    #classifier.fit(X[:, np.newaxis], Y)\n",
        "\n",
        "    # Evaluate the models using crossvalidation\n",
        "    scores = cross_val_score(classifier, X, Y,\n",
        "                             scoring=\"neg_mean_squared_error\", cv=10)\n",
        "\n",
        "    X_test = np.linspace(0, 1, 100)\n",
        "    plt.plot(x_test, classifier.predict(x_test), label=\"Model\")\n",
        "    plt.plot(x_test, y_test, label=\"True function\")\n",
        "    plt.scatter(X, Y, edgecolor='b', s=20, label=\"Samples\")\n",
        "    plt.xlabel(\"x\")\n",
        "    plt.ylabel(\"y\")\n",
        "    plt.xlim((0, 1))\n",
        "    plt.ylim((-2, 2))\n",
        "    plt.legend(loc=\"best\")\n",
        "    plt.title(\"Degree {}\\nMSE = {:.2e}(+/- {:.2e})\".format(\n",
        "        degrees[i], -scores.mean(), scores.std()))\n",
        "plt.show()"
      ],
      "execution_count": null,
      "outputs": []
    },
    {
      "cell_type": "code",
      "metadata": {
        "id": "5ClGUCIsAx9_"
      },
      "source": [
        "plt.plot(Y,train_scores)"
      ],
      "execution_count": null,
      "outputs": []
    },
    {
      "cell_type": "code",
      "metadata": {
        "colab": {
          "base_uri": "https://localhost:8080/"
        },
        "id": "wFZ944h_b9QM",
        "outputId": "4870c75c-d8d5-472f-f9b0-3000154bc37a"
      },
      "source": [
        "from sklearn.ensemble import RandomForestClassifier\n",
        "classifier = RandomForestClassifier(n_estimators = 10, criterion = 'entropy', random_state = 12)\n",
        "classifier.fit(x_train, y_train)\n",
        "\n",
        "# Predicting a new result\n",
        "#print(classifier.predict(sc.transform([[30,87000]])))\n",
        "\n",
        "# Predicting the Test set results\n",
        "y_pred = classifier.predict(x_test)\n",
        "#print(np.concatenate((y_pred.reshape(len(y_pred),1), y_test.reshape(len(y_test),1)),1))\n",
        "\n",
        "# Making the Confusion Matrix\n",
        "cm = confusion_matrix(y_test, y_pred)\n",
        "print(\"\\nConfusion matrix\\n\",cm)\n",
        "print(\"\\nAccuracy score\\n\", accuracy_score(y_test, y_pred))\n",
        "print(\"\\nReport\\n\",classification_report(y_test, y_pred))"
      ],
      "execution_count": null,
      "outputs": [
        {
          "output_type": "stream",
          "text": [
            "/usr/local/lib/python3.7/dist-packages/ipykernel_launcher.py:3: DataConversionWarning: A column-vector y was passed when a 1d array was expected. Please change the shape of y to (n_samples,), for example using ravel().\n",
            "  This is separate from the ipykernel package so we can avoid doing imports until\n"
          ],
          "name": "stderr"
        },
        {
          "output_type": "stream",
          "text": [
            "\n",
            "Confusion matrix\n",
            " [[24223     5  2337   434   137    77    27    17    11    12     6     4\n",
            "      4    10]\n",
            " [  190     8    61    10     1     0     0     0     0     0     0     0\n",
            "      0     0]\n",
            " [ 6868     0  3634   355   105    35    14    17     7     5     5     4\n",
            "      2     5]\n",
            " [ 3322     1   927   966    63    26    10     8     4     2     3     2\n",
            "      3     5]\n",
            " [ 1944     0   518   154   454    23    14     6     6     3     2     2\n",
            "      0     3]\n",
            " [ 1324     0   350    98    42   251    19     3     2     3     3     0\n",
            "      0     6]\n",
            " [  959     0   231    39    36    23   159     9     6     1     1     1\n",
            "      0     4]\n",
            " [  715     0   152    64    20    18     8   138     2     4     1     2\n",
            "      1     6]\n",
            " [  500     0   118    41    16    15     6    13    74     0     0     0\n",
            "      0     2]\n",
            " [  351     0    84    35    15     7     2     3     3    51     1     0\n",
            "      1     2]\n",
            " [  248     0    60    27     9     5     3     3     1     5    41     1\n",
            "      0     2]\n",
            " [  227     1    44    13     5     4     2     1     2     3     0    39\n",
            "      0     1]\n",
            " [  133     0    45     9     4     1     0     2     2     2     0     0\n",
            "     27     2]\n",
            " [  522     1   135    28    23    16     8    10     1     6     0     0\n",
            "      1   107]]\n",
            "\n",
            "Accuracy score\n",
            " 0.5488412704187434\n",
            "\n",
            "Report\n",
            "               precision    recall  f1-score   support\n",
            "\n",
            "           0       0.58      0.89      0.70     27304\n",
            "           1       0.50      0.03      0.06       270\n",
            "           2       0.42      0.33      0.37     11056\n",
            "           3       0.42      0.18      0.25      5342\n",
            "           4       0.49      0.15      0.22      3129\n",
            "           5       0.50      0.12      0.19      2101\n",
            "           6       0.58      0.11      0.18      1469\n",
            "           7       0.60      0.12      0.20      1131\n",
            "           8       0.61      0.09      0.16       785\n",
            "           9       0.53      0.09      0.16       555\n",
            "          10       0.65      0.10      0.18       405\n",
            "          11       0.71      0.11      0.20       342\n",
            "          12       0.69      0.12      0.20       227\n",
            "          13       0.69      0.12      0.21       858\n",
            "\n",
            "    accuracy                           0.55     54974\n",
            "   macro avg       0.57      0.18      0.23     54974\n",
            "weighted avg       0.53      0.55      0.49     54974\n",
            "\n"
          ],
          "name": "stdout"
        }
      ]
    },
    {
      "cell_type": "code",
      "metadata": {
        "id": "x7pnfoKYTqb6"
      },
      "source": [
        "y_pred_prob = classifier.predict_proba(x_test)"
      ],
      "execution_count": null,
      "outputs": []
    },
    {
      "cell_type": "code",
      "metadata": {
        "colab": {
          "base_uri": "https://localhost:8080/",
          "height": 335
        },
        "id": "4urnbhyKTqO8",
        "outputId": "0f741b02-a530-47ed-b269-6c310db88218"
      },
      "source": [
        "plt.hist(y_pred_prob, bins=8)\n",
        "plt.xlim(0,1)\n",
        "plt.title('Histogram of predicted probabilities')\n",
        "plt.xlabel('Predicted probability of Delay')\n",
        "plt.ylabel('Frequency')\n",
        "plt.legend()"
      ],
      "execution_count": null,
      "outputs": [
        {
          "output_type": "stream",
          "text": [
            "No handles with labels found to put in legend.\n"
          ],
          "name": "stderr"
        },
        {
          "output_type": "execute_result",
          "data": {
            "text/plain": [
              "<matplotlib.legend.Legend at 0x7f853f824ad0>"
            ]
          },
          "metadata": {
            "tags": []
          },
          "execution_count": 118
        },
        {
          "output_type": "display_data",
          "data": {
            "image/png": "[encoded data removed]",
            "text/plain": [
              "<Figure size 432x288 with 1 Axes>"
            ]
          },
          "metadata": {
            "tags": []
          }
        }
      ]
    },
    {
      "cell_type": "code",
      "metadata": {
        "colab": {
          "base_uri": "https://localhost:8080/"
        },
        "id": "5EDVMRK2-Su2",
        "outputId": "67478571-6371-49eb-f7a5-2a8615ea89c9"
      },
      "source": [
        "model = keras.Sequential(\n",
        "    [\n",
        "     keras.Input(shape=(7)),\n",
        "     layers.Dense(256,activation='relu', use_bias=True),\n",
        "     #layers.Dense(256, activation='softmax'),\n",
        "     layers.Dense(14),\n",
        "    ]\n",
        ")\n",
        "\n",
        "print(model.summary()) #gives info about the network\n",
        "\n",
        "#from_logits - it uses softmax function and then uses crossentropy\n",
        "#If there is no 'sparse' in cross entropy, then it is for one-hot encodings\n",
        "\n",
        "model.add(LeakyReLU(alpha=0.1))\n",
        "keras.optimizers.Adam(learning_rate=0.01)\n",
        "model.compile(loss = 'kullback_leibler_divergence', optimizer = 'Adam', metrics=['accuracy'])\n",
        "\n",
        "#Verbose - means prints after each epoch\n",
        "#accuracy on training and test sets are displayed\n",
        "history = model.fit(x_train, y_train, batch_size=64, validation_split= 0.25, epochs=20, verbose=2)\n",
        "#history2 = model.fit(x_test, y_test, batch_size=32,epochs=20, verbose=2)\n",
        "\n",
        "model.evaluate(x_test, y_test, batch_size=32,verbose=2)\n",
        "#history = model.fit(X_train_scalled, y_train, validation_split=0.2, epochs=100)"
      ],
      "execution_count": null,
      "outputs": [
        {
          "output_type": "stream",
          "text": [
            "WARNING:tensorflow:Please add `keras.layers.InputLayer` instead of `keras.Input` to Sequential model. `keras.Input` is intended to be used by Functional model.\n",
            "Model: \"sequential_18\"\n",
            "_________________________________________________________________\n",
            "Layer (type)                 Output Shape              Param #   \n",
            "=================================================================\n",
            "dense_42 (Dense)             (None, 256)               2048      \n",
            "_________________________________________________________________\n",
            "dense_43 (Dense)             (None, 14)                3598      \n",
            "=================================================================\n",
            "Total params: 5,646\n",
            "Trainable params: 5,646\n",
            "Non-trainable params: 0\n",
            "_________________________________________________________________\n",
            "None\n",
            "Epoch 1/20\n",
            "1933/1933 - 3s - loss: 25.1879 - accuracy: 0.0195 - val_loss: 24.4574 - val_accuracy: 0.0194\n",
            "Epoch 2/20\n",
            "1933/1933 - 3s - loss: 24.4072 - accuracy: 0.0185 - val_loss: 24.4574 - val_accuracy: 0.0194\n",
            "Epoch 3/20\n",
            "1933/1933 - 3s - loss: 24.4072 - accuracy: 0.0185 - val_loss: 24.4574 - val_accuracy: 0.0194\n",
            "Epoch 4/20\n",
            "1933/1933 - 3s - loss: 24.4073 - accuracy: 0.0185 - val_loss: 24.4574 - val_accuracy: 0.0194\n",
            "Epoch 5/20\n",
            "1933/1933 - 3s - loss: 24.4072 - accuracy: 0.0185 - val_loss: 24.4574 - val_accuracy: 0.0194\n",
            "Epoch 6/20\n",
            "1933/1933 - 3s - loss: 24.4073 - accuracy: 0.0185 - val_loss: 24.4574 - val_accuracy: 0.0194\n",
            "Epoch 7/20\n",
            "1933/1933 - 3s - loss: 24.4073 - accuracy: 0.0185 - val_loss: 24.4574 - val_accuracy: 0.0194\n",
            "Epoch 8/20\n",
            "1933/1933 - 3s - loss: 24.4073 - accuracy: 0.0185 - val_loss: 24.4574 - val_accuracy: 0.0194\n",
            "Epoch 9/20\n",
            "1933/1933 - 3s - loss: 24.4073 - accuracy: 0.0185 - val_loss: 24.4574 - val_accuracy: 0.0194\n",
            "Epoch 10/20\n",
            "1933/1933 - 3s - loss: 24.4072 - accuracy: 0.0185 - val_loss: 24.4574 - val_accuracy: 0.0194\n",
            "Epoch 11/20\n",
            "1933/1933 - 3s - loss: 24.4073 - accuracy: 0.0185 - val_loss: 24.4574 - val_accuracy: 0.0194\n",
            "Epoch 12/20\n",
            "1933/1933 - 3s - loss: 24.4073 - accuracy: 0.0185 - val_loss: 24.4574 - val_accuracy: 0.0194\n",
            "Epoch 13/20\n",
            "1933/1933 - 3s - loss: 24.4073 - accuracy: 0.0185 - val_loss: 24.4574 - val_accuracy: 0.0194\n",
            "Epoch 14/20\n",
            "1933/1933 - 3s - loss: 24.4073 - accuracy: 0.0185 - val_loss: 24.4574 - val_accuracy: 0.0194\n",
            "Epoch 15/20\n",
            "1933/1933 - 3s - loss: 24.4073 - accuracy: 0.0185 - val_loss: 24.4574 - val_accuracy: 0.0194\n",
            "Epoch 16/20\n",
            "1933/1933 - 3s - loss: 24.4072 - accuracy: 0.0185 - val_loss: 24.4574 - val_accuracy: 0.0194\n",
            "Epoch 17/20\n",
            "1933/1933 - 3s - loss: 24.4073 - accuracy: 0.0185 - val_loss: 24.4574 - val_accuracy: 0.0194\n",
            "Epoch 18/20\n",
            "1933/1933 - 3s - loss: 24.4073 - accuracy: 0.0185 - val_loss: 24.4574 - val_accuracy: 0.0194\n",
            "Epoch 19/20\n",
            "1933/1933 - 3s - loss: 24.4073 - accuracy: 0.0185 - val_loss: 24.4574 - val_accuracy: 0.0194\n",
            "Epoch 20/20\n",
            "1933/1933 - 3s - loss: 24.4073 - accuracy: 0.0185 - val_loss: 24.4574 - val_accuracy: 0.0194\n",
            "1718/1718 - 1s - loss: 24.3381 - accuracy: 0.0202\n"
          ],
          "name": "stdout"
        },
        {
          "output_type": "execute_result",
          "data": {
            "text/plain": [
              "[24.338123321533203, 0.020173173397779465]"
            ]
          },
          "metadata": {
            "tags": []
          },
          "execution_count": 135
        }
      ]
    },
    {
      "cell_type": "code",
      "metadata": {
        "colab": {
          "base_uri": "https://localhost:8080/",
          "height": 518
        },
        "id": "gej6R4DYOa9e",
        "outputId": "71b3a154-e3bf-486e-8e4f-81d5c367efad"
      },
      "source": [
        "import seaborn as sns\n",
        "sns.set(style = 'whitegrid')\n",
        "plt.figure(figsize=((14,8)))\n",
        "\n",
        "plt.subplot(1,2,1)\n",
        "loss = history.history['loss']\n",
        "val_loss = history.history['val_loss']\n",
        "#test_loss = history2.history['loss']\n",
        "epochs = range(1, len(loss)+1)\n",
        "plt.plot(epochs,loss, 'y', label='Training loss')\n",
        "plt.plot(epochs, val_loss, 'r.-', label='Validation loss')\n",
        "#plt.plot(epochs, test_loss, 'g.-', label='Test loss')\n",
        "plt.title('Training, Validation and Test loss')\n",
        "plt.xlabel('Epochs')\n",
        "plt.ylabel('Loss')\n",
        "plt.legend()\n",
        "plt.subplot(1,2,2)\n",
        "acc = history.history['accuracy']\n",
        "val_acc = history.history['val_accuracy']\n",
        "plt.plot(epochs,acc, 'y', label='Training accuracy')\n",
        "plt.plot(epochs, val_acc, 'r', label='Validaton Accuracy')\n",
        "plt.title('Training and validation Accuracy')\n",
        "plt.xlabel('Epochs')\n",
        "plt.ylabel('Accuracy')\n",
        "plt.legend()\n",
        "plt.show()"
      ],
      "execution_count": null,
      "outputs": [
        {
          "output_type": "display_data",
          "data": {
            "image/png": "[encoded data removed]",
            "text/plain": [
              "<Figure size 1008x576 with 2 Axes>"
            ]
          },
          "metadata": {
            "tags": []
          }
        }
      ]
    },
    {
      "cell_type": "markdown",
      "metadata": {
        "id": "rBWdZrp_fbW3"
      },
      "source": [
        "###Modelling for predicting delay"
      ]
    },
    {
      "cell_type": "markdown",
      "metadata": {
        "id": "M0j6bUWglAcW"
      },
      "source": [
        "Feature importance for regressor"
      ]
    },
    {
      "cell_type": "code",
      "metadata": {
        "colab": {
          "base_uri": "https://localhost:8080/"
        },
        "id": "hb1rk7GupDV5",
        "outputId": "bc56c47c-6dd0-410b-bbc6-6b4ed5a27cae"
      },
      "source": [
        "newdf.shape"
      ],
      "execution_count": null,
      "outputs": [
        {
          "output_type": "execute_result",
          "data": {
            "text/plain": [
              "(648743, 55)"
            ]
          },
          "metadata": {
            "tags": []
          },
          "execution_count": 17
        }
      ]
    },
    {
      "cell_type": "code",
      "metadata": {
        "colab": {
          "base_uri": "https://localhost:8080/",
          "height": 181
        },
        "id": "brYKR69glnP1",
        "outputId": "52dd714b-e3a4-4825-e6b9-d3494c860aa3"
      },
      "source": [
        "correlated_features.remove('NTotalDelay')\n",
        "print(correlated_features)\n"
      ],
      "execution_count": null,
      "outputs": [
        {
          "output_type": "error",
          "ename": "KeyError",
          "evalue": "ignored",
          "traceback": [
            "\u001b[0;31m---------------------------------------------------------------------------\u001b[0m",
            "\u001b[0;31mKeyError\u001b[0m                                  Traceback (most recent call last)",
            "\u001b[0;32m<ipython-input-136-dab684b38fb6>\u001b[0m in \u001b[0;36m<module>\u001b[0;34m()\u001b[0m\n\u001b[0;32m----> 1\u001b[0;31m \u001b[0mcorrelated_features\u001b[0m\u001b[0;34m.\u001b[0m\u001b[0mremove\u001b[0m\u001b[0;34m(\u001b[0m\u001b[0;34m'NTotalDelay'\u001b[0m\u001b[0;34m)\u001b[0m\u001b[0;34m\u001b[0m\u001b[0;34m\u001b[0m\u001b[0m\n\u001b[0m\u001b[1;32m      2\u001b[0m \u001b[0mprint\u001b[0m\u001b[0;34m(\u001b[0m\u001b[0mcorrelated_features\u001b[0m\u001b[0;34m)\u001b[0m\u001b[0;34m\u001b[0m\u001b[0;34m\u001b[0m\u001b[0m\n",
            "\u001b[0;31mKeyError\u001b[0m: 'NTotalDelay'"
          ]
        }
      ]
    },
    {
      "cell_type": "code",
      "metadata": {
        "colab": {
          "base_uri": "https://localhost:8080/",
          "height": 241
        },
        "id": "hh2HkdGxnmGC",
        "outputId": "9a1c0e34-ae85-42ae-84fb-1bbe5914e18b"
      },
      "source": [
        "dfs = newdf.drop(labels=correlated_features, axis=1)\n",
        "print(dfs.shape)\n",
        "dfs.head(5)"
      ],
      "execution_count": null,
      "outputs": [
        {
          "output_type": "stream",
          "text": [
            "(648743, 41)\n"
          ],
          "name": "stdout"
        },
        {
          "output_type": "execute_result",
          "data": {
            "text/html": [
              "<div>\n",
              "<style scoped>\n",
              "    .dataframe tbody tr th:only-of-type {\n",
              "        vertical-align: middle;\n",
              "    }\n",
              "\n",
              "    .dataframe tbody tr th {\n",
              "        vertical-align: top;\n",
              "    }\n",
              "\n",
              "    .dataframe thead th {\n",
              "        text-align: right;\n",
              "    }\n",
              "</style>\n",
              "<table border=\"1\" class=\"dataframe\">\n",
              "  <thead>\n",
              "    <tr style=\"text-align: right;\">\n",
              "      <th></th>\n",
              "      <th>W1</th>\n",
              "      <th>W2</th>\n",
              "      <th>W3</th>\n",
              "      <th>W4</th>\n",
              "      <th>W5</th>\n",
              "      <th>W6</th>\n",
              "      <th>W7</th>\n",
              "      <th>Y1</th>\n",
              "      <th>Y2</th>\n",
              "      <th>Y3</th>\n",
              "      <th>Y4</th>\n",
              "      <th>Year</th>\n",
              "      <th>Quarter</th>\n",
              "      <th>DayofMonth</th>\n",
              "      <th>DayOfWeek</th>\n",
              "      <th>FlightNumberReportingAirline</th>\n",
              "      <th>OriginAirportID</th>\n",
              "      <th>OriginCityMarketID</th>\n",
              "      <th>OriginWac</th>\n",
              "      <th>DestAirportID</th>\n",
              "      <th>DestCityMarketID</th>\n",
              "      <th>DestWac</th>\n",
              "      <th>CRSDepTime</th>\n",
              "      <th>DepDelay</th>\n",
              "      <th>TaxiOut</th>\n",
              "      <th>WheelsOn</th>\n",
              "      <th>TaxiIn</th>\n",
              "      <th>Cancelled</th>\n",
              "      <th>CancellationCode</th>\n",
              "      <th>Diverted</th>\n",
              "      <th>CRSElapsedTime</th>\n",
              "      <th>CarrierDelay</th>\n",
              "      <th>WeatherDelay</th>\n",
              "      <th>NASDelay</th>\n",
              "      <th>SecurityDelay</th>\n",
              "      <th>LateAircraftDelay</th>\n",
              "      <th>NTotalDelay</th>\n",
              "      <th>DelayCheck</th>\n",
              "      <th>NCityTrafficFreq</th>\n",
              "      <th>NStateAirportCount</th>\n",
              "      <th>NFlightUsage</th>\n",
              "    </tr>\n",
              "  </thead>\n",
              "  <tbody>\n",
              "    <tr>\n",
              "      <th>0</th>\n",
              "      <td>0.0</td>\n",
              "      <td>0.0</td>\n",
              "      <td>0.0</td>\n",
              "      <td>0.0</td>\n",
              "      <td>1.0</td>\n",
              "      <td>0.0</td>\n",
              "      <td>0.0</td>\n",
              "      <td>1.0</td>\n",
              "      <td>0.0</td>\n",
              "      <td>0.0</td>\n",
              "      <td>0.0</td>\n",
              "      <td>2003.0</td>\n",
              "      <td>4.0</td>\n",
              "      <td>21.0</td>\n",
              "      <td>5.0</td>\n",
              "      <td>674.0</td>\n",
              "      <td>13930.0</td>\n",
              "      <td>30977.0</td>\n",
              "      <td>41.0</td>\n",
              "      <td>12953.0</td>\n",
              "      <td>31703.0</td>\n",
              "      <td>22.0</td>\n",
              "      <td>900.0</td>\n",
              "      <td>-5.0</td>\n",
              "      <td>14.0</td>\n",
              "      <td>1148.0</td>\n",
              "      <td>2.0</td>\n",
              "      <td>0.0</td>\n",
              "      <td>0.0</td>\n",
              "      <td>0.0</td>\n",
              "      <td>126.0</td>\n",
              "      <td>0.0</td>\n",
              "      <td>0.0</td>\n",
              "      <td>0.0</td>\n",
              "      <td>0.0</td>\n",
              "      <td>0.0</td>\n",
              "      <td>0.0</td>\n",
              "      <td>0.0</td>\n",
              "      <td>1.000000</td>\n",
              "      <td>0.214286</td>\n",
              "      <td>0.0</td>\n",
              "    </tr>\n",
              "    <tr>\n",
              "      <th>1</th>\n",
              "      <td>0.0</td>\n",
              "      <td>1.0</td>\n",
              "      <td>0.0</td>\n",
              "      <td>0.0</td>\n",
              "      <td>0.0</td>\n",
              "      <td>0.0</td>\n",
              "      <td>0.0</td>\n",
              "      <td>1.0</td>\n",
              "      <td>0.0</td>\n",
              "      <td>0.0</td>\n",
              "      <td>0.0</td>\n",
              "      <td>2002.0</td>\n",
              "      <td>2.0</td>\n",
              "      <td>2.0</td>\n",
              "      <td>4.0</td>\n",
              "      <td>2408.0</td>\n",
              "      <td>12339.0</td>\n",
              "      <td>32337.0</td>\n",
              "      <td>42.0</td>\n",
              "      <td>13204.0</td>\n",
              "      <td>31454.0</td>\n",
              "      <td>33.0</td>\n",
              "      <td>1300.0</td>\n",
              "      <td>-1.0</td>\n",
              "      <td>14.0</td>\n",
              "      <td>1611.0</td>\n",
              "      <td>8.0</td>\n",
              "      <td>0.0</td>\n",
              "      <td>0.0</td>\n",
              "      <td>0.0</td>\n",
              "      <td>133.0</td>\n",
              "      <td>0.0</td>\n",
              "      <td>0.0</td>\n",
              "      <td>0.0</td>\n",
              "      <td>0.0</td>\n",
              "      <td>0.0</td>\n",
              "      <td>0.0</td>\n",
              "      <td>0.0</td>\n",
              "      <td>0.088476</td>\n",
              "      <td>0.107143</td>\n",
              "      <td>0.0</td>\n",
              "    </tr>\n",
              "    <tr>\n",
              "      <th>2</th>\n",
              "      <td>0.0</td>\n",
              "      <td>0.0</td>\n",
              "      <td>0.0</td>\n",
              "      <td>0.0</td>\n",
              "      <td>1.0</td>\n",
              "      <td>0.0</td>\n",
              "      <td>0.0</td>\n",
              "      <td>1.0</td>\n",
              "      <td>0.0</td>\n",
              "      <td>0.0</td>\n",
              "      <td>0.0</td>\n",
              "      <td>2004.0</td>\n",
              "      <td>4.0</td>\n",
              "      <td>21.0</td>\n",
              "      <td>2.0</td>\n",
              "      <td>1111.0</td>\n",
              "      <td>10423.0</td>\n",
              "      <td>30423.0</td>\n",
              "      <td>74.0</td>\n",
              "      <td>11540.0</td>\n",
              "      <td>30615.0</td>\n",
              "      <td>74.0</td>\n",
              "      <td>1150.0</td>\n",
              "      <td>0.0</td>\n",
              "      <td>10.0</td>\n",
              "      <td>1220.0</td>\n",
              "      <td>5.0</td>\n",
              "      <td>0.0</td>\n",
              "      <td>0.0</td>\n",
              "      <td>0.0</td>\n",
              "      <td>95.0</td>\n",
              "      <td>0.0</td>\n",
              "      <td>0.0</td>\n",
              "      <td>0.0</td>\n",
              "      <td>0.0</td>\n",
              "      <td>0.0</td>\n",
              "      <td>0.0</td>\n",
              "      <td>0.0</td>\n",
              "      <td>0.108983</td>\n",
              "      <td>0.857143</td>\n",
              "      <td>0.0</td>\n",
              "    </tr>\n",
              "    <tr>\n",
              "      <th>3</th>\n",
              "      <td>0.0</td>\n",
              "      <td>0.0</td>\n",
              "      <td>0.0</td>\n",
              "      <td>1.0</td>\n",
              "      <td>0.0</td>\n",
              "      <td>0.0</td>\n",
              "      <td>0.0</td>\n",
              "      <td>1.0</td>\n",
              "      <td>0.0</td>\n",
              "      <td>0.0</td>\n",
              "      <td>0.0</td>\n",
              "      <td>2003.0</td>\n",
              "      <td>2.0</td>\n",
              "      <td>6.0</td>\n",
              "      <td>5.0</td>\n",
              "      <td>7659.0</td>\n",
              "      <td>13029.0</td>\n",
              "      <td>33029.0</td>\n",
              "      <td>65.0</td>\n",
              "      <td>13930.0</td>\n",
              "      <td>30977.0</td>\n",
              "      <td>41.0</td>\n",
              "      <td>1330.0</td>\n",
              "      <td>0.0</td>\n",
              "      <td>3.0</td>\n",
              "      <td>1444.0</td>\n",
              "      <td>35.0</td>\n",
              "      <td>0.0</td>\n",
              "      <td>0.0</td>\n",
              "      <td>0.0</td>\n",
              "      <td>85.0</td>\n",
              "      <td>0.0</td>\n",
              "      <td>0.0</td>\n",
              "      <td>24.0</td>\n",
              "      <td>0.0</td>\n",
              "      <td>0.0</td>\n",
              "      <td>24.0</td>\n",
              "      <td>1.0</td>\n",
              "      <td>0.006540</td>\n",
              "      <td>0.071429</td>\n",
              "      <td>0.0</td>\n",
              "    </tr>\n",
              "    <tr>\n",
              "      <th>4</th>\n",
              "      <td>0.0</td>\n",
              "      <td>0.0</td>\n",
              "      <td>0.0</td>\n",
              "      <td>0.0</td>\n",
              "      <td>0.0</td>\n",
              "      <td>0.0</td>\n",
              "      <td>1.0</td>\n",
              "      <td>0.0</td>\n",
              "      <td>1.0</td>\n",
              "      <td>0.0</td>\n",
              "      <td>0.0</td>\n",
              "      <td>2001.0</td>\n",
              "      <td>4.0</td>\n",
              "      <td>11.0</td>\n",
              "      <td>4.0</td>\n",
              "      <td>378.0</td>\n",
              "      <td>14107.0</td>\n",
              "      <td>30466.0</td>\n",
              "      <td>81.0</td>\n",
              "      <td>13796.0</td>\n",
              "      <td>32457.0</td>\n",
              "      <td>91.0</td>\n",
              "      <td>650.0</td>\n",
              "      <td>0.0</td>\n",
              "      <td>15.0</td>\n",
              "      <td>847.0</td>\n",
              "      <td>3.0</td>\n",
              "      <td>0.0</td>\n",
              "      <td>0.0</td>\n",
              "      <td>0.0</td>\n",
              "      <td>120.0</td>\n",
              "      <td>0.0</td>\n",
              "      <td>0.0</td>\n",
              "      <td>0.0</td>\n",
              "      <td>0.0</td>\n",
              "      <td>0.0</td>\n",
              "      <td>0.0</td>\n",
              "      <td>0.0</td>\n",
              "      <td>0.448498</td>\n",
              "      <td>0.107143</td>\n",
              "      <td>0.0</td>\n",
              "    </tr>\n",
              "  </tbody>\n",
              "</table>\n",
              "</div>"
            ],
            "text/plain": [
              "    W1   W2   W3  ...  NCityTrafficFreq  NStateAirportCount  NFlightUsage\n",
              "0  0.0  0.0  0.0  ...          1.000000            0.214286           0.0\n",
              "1  0.0  1.0  0.0  ...          0.088476            0.107143           0.0\n",
              "2  0.0  0.0  0.0  ...          0.108983            0.857143           0.0\n",
              "3  0.0  0.0  0.0  ...          0.006540            0.071429           0.0\n",
              "4  0.0  0.0  0.0  ...          0.448498            0.107143           0.0\n",
              "\n",
              "[5 rows x 41 columns]"
            ]
          },
          "metadata": {
            "tags": []
          },
          "execution_count": 10
        }
      ]
    },
    {
      "cell_type": "code",
      "metadata": {
        "colab": {
          "base_uri": "https://localhost:8080/",
          "height": 258
        },
        "id": "tJ0StplPCQc4",
        "outputId": "956ed16a-81eb-4bb7-c340-9c3ee343b145"
      },
      "source": [
        "newdf.head(5)"
      ],
      "execution_count": null,
      "outputs": [
        {
          "output_type": "execute_result",
          "data": {
            "text/html": [
              "<div>\n",
              "<style scoped>\n",
              "    .dataframe tbody tr th:only-of-type {\n",
              "        vertical-align: middle;\n",
              "    }\n",
              "\n",
              "    .dataframe tbody tr th {\n",
              "        vertical-align: top;\n",
              "    }\n",
              "\n",
              "    .dataframe thead th {\n",
              "        text-align: right;\n",
              "    }\n",
              "</style>\n",
              "<table border=\"1\" class=\"dataframe\">\n",
              "  <thead>\n",
              "    <tr style=\"text-align: right;\">\n",
              "      <th></th>\n",
              "      <th>Unnamed: 0</th>\n",
              "      <th>FlightNumberReportingAirline</th>\n",
              "      <th>OriginAirportID</th>\n",
              "      <th>DestAirportID</th>\n",
              "      <th>DepDelay</th>\n",
              "      <th>TaxiOut</th>\n",
              "      <th>TaxiIn</th>\n",
              "      <th>ArrDelay</th>\n",
              "      <th>CRSElapsedTime</th>\n",
              "      <th>ActualElapsedTime</th>\n",
              "      <th>NAirTime</th>\n",
              "      <th>Distance</th>\n",
              "      <th>CarrierDelay</th>\n",
              "      <th>WeatherDelay</th>\n",
              "      <th>NASDelay</th>\n",
              "      <th>SecurityDelay</th>\n",
              "      <th>LateAircraftDelay</th>\n",
              "      <th>NTotalDelay</th>\n",
              "      <th>NGroundTime</th>\n",
              "      <th>DelayCheck</th>\n",
              "      <th>NCityTrafficFreq</th>\n",
              "      <th>NStateAirportCount</th>\n",
              "      <th>NFlightUsage</th>\n",
              "      <th>TotalDelayBucket</th>\n",
              "      <th>JourneyBtwCities</th>\n",
              "      <th>StateTraffic</th>\n",
              "      <th>TrafficPercent</th>\n",
              "      <th>StateSumOfDelays</th>\n",
              "      <th>DelayPercent</th>\n",
              "      <th>TrafficPerMinuteDelay</th>\n",
              "      <th>AptID_10397</th>\n",
              "      <th>AptID_11292</th>\n",
              "      <th>AptID_11298</th>\n",
              "      <th>AptID_12892</th>\n",
              "      <th>AptID_13930</th>\n",
              "      <th>TNo_#NAME?</th>\n",
              "      <th>TNo_N476HA</th>\n",
              "      <th>TNo_N478HA</th>\n",
              "      <th>TNo_N485HA</th>\n",
              "      <th>TNo_N486HA</th>\n",
              "      <th>FltNo_16</th>\n",
              "      <th>FltNo_3</th>\n",
              "      <th>FltNo_5</th>\n",
              "      <th>FltNo_55</th>\n",
              "      <th>FltNo_64</th>\n",
              "      <th>OrCity_Atlanta, GA</th>\n",
              "      <th>OrCity_Chicago, IL</th>\n",
              "      <th>OrCity_Dallas/Fort Worth, TX</th>\n",
              "      <th>OrCity_Houston, TX</th>\n",
              "      <th>OrCity_Los Angeles, CA</th>\n",
              "      <th>OrCity_Atlanta, GA.1</th>\n",
              "      <th>OrCity_Chicago, IL.1</th>\n",
              "      <th>OrCity_Dallas/Fort Worth, TX.1</th>\n",
              "      <th>OrCity_Houston, TX.1</th>\n",
              "      <th>OrCity_Los Angeles, CA.1</th>\n",
              "      <th>OrState_California</th>\n",
              "      <th>OrState_Florida</th>\n",
              "      <th>OrState_Georgia</th>\n",
              "      <th>OrState_Illinois</th>\n",
              "      <th>OrState_Texas</th>\n",
              "    </tr>\n",
              "  </thead>\n",
              "  <tbody>\n",
              "    <tr>\n",
              "      <th>0</th>\n",
              "      <td>0.0</td>\n",
              "      <td>2672.0</td>\n",
              "      <td>15304.0</td>\n",
              "      <td>10721.0</td>\n",
              "      <td>26.0</td>\n",
              "      <td>9.0</td>\n",
              "      <td>9.0</td>\n",
              "      <td>15.0</td>\n",
              "      <td>183.0</td>\n",
              "      <td>172.0</td>\n",
              "      <td>0.223358</td>\n",
              "      <td>1185.0</td>\n",
              "      <td>0.0</td>\n",
              "      <td>0.0</td>\n",
              "      <td>0.0</td>\n",
              "      <td>0.0</td>\n",
              "      <td>0.0</td>\n",
              "      <td>0.0</td>\n",
              "      <td>0.048632</td>\n",
              "      <td>0.0</td>\n",
              "      <td>0.175060</td>\n",
              "      <td>0.678571</td>\n",
              "      <td>0.000373</td>\n",
              "      <td>0.0</td>\n",
              "      <td>1.0</td>\n",
              "      <td>88237.0</td>\n",
              "      <td>6.800613</td>\n",
              "      <td>458230.0</td>\n",
              "      <td>6.848694</td>\n",
              "      <td>0.192561</td>\n",
              "      <td>1.0</td>\n",
              "      <td>0.0</td>\n",
              "      <td>0.0</td>\n",
              "      <td>0.0</td>\n",
              "      <td>0.0</td>\n",
              "      <td>1.0</td>\n",
              "      <td>0.0</td>\n",
              "      <td>0.0</td>\n",
              "      <td>0.0</td>\n",
              "      <td>0.0</td>\n",
              "      <td>1.0</td>\n",
              "      <td>0.0</td>\n",
              "      <td>0.0</td>\n",
              "      <td>0.0</td>\n",
              "      <td>0.0</td>\n",
              "      <td>0.0</td>\n",
              "      <td>1.0</td>\n",
              "      <td>0.0</td>\n",
              "      <td>0.0</td>\n",
              "      <td>0.0</td>\n",
              "      <td>0.0</td>\n",
              "      <td>1.0</td>\n",
              "      <td>0.0</td>\n",
              "      <td>0.0</td>\n",
              "      <td>0.0</td>\n",
              "      <td>1.0</td>\n",
              "      <td>0.0</td>\n",
              "      <td>0.0</td>\n",
              "      <td>0.0</td>\n",
              "      <td>0.0</td>\n",
              "    </tr>\n",
              "    <tr>\n",
              "      <th>1</th>\n",
              "      <td>1.0</td>\n",
              "      <td>1961.0</td>\n",
              "      <td>14908.0</td>\n",
              "      <td>11298.0</td>\n",
              "      <td>1.0</td>\n",
              "      <td>23.0</td>\n",
              "      <td>28.0</td>\n",
              "      <td>16.0</td>\n",
              "      <td>185.0</td>\n",
              "      <td>200.0</td>\n",
              "      <td>0.216058</td>\n",
              "      <td>1205.0</td>\n",
              "      <td>0.0</td>\n",
              "      <td>0.0</td>\n",
              "      <td>0.0</td>\n",
              "      <td>0.0</td>\n",
              "      <td>0.0</td>\n",
              "      <td>0.0</td>\n",
              "      <td>0.148936</td>\n",
              "      <td>0.0</td>\n",
              "      <td>0.112557</td>\n",
              "      <td>1.000000</td>\n",
              "      <td>0.000187</td>\n",
              "      <td>0.0</td>\n",
              "      <td>1.0</td>\n",
              "      <td>154908.0</td>\n",
              "      <td>11.939088</td>\n",
              "      <td>653507.0</td>\n",
              "      <td>9.767299</td>\n",
              "      <td>0.237041</td>\n",
              "      <td>0.0</td>\n",
              "      <td>0.0</td>\n",
              "      <td>0.0</td>\n",
              "      <td>0.0</td>\n",
              "      <td>1.0</td>\n",
              "      <td>0.0</td>\n",
              "      <td>0.0</td>\n",
              "      <td>1.0</td>\n",
              "      <td>0.0</td>\n",
              "      <td>0.0</td>\n",
              "      <td>0.0</td>\n",
              "      <td>0.0</td>\n",
              "      <td>0.0</td>\n",
              "      <td>0.0</td>\n",
              "      <td>1.0</td>\n",
              "      <td>1.0</td>\n",
              "      <td>0.0</td>\n",
              "      <td>0.0</td>\n",
              "      <td>0.0</td>\n",
              "      <td>0.0</td>\n",
              "      <td>1.0</td>\n",
              "      <td>0.0</td>\n",
              "      <td>0.0</td>\n",
              "      <td>0.0</td>\n",
              "      <td>0.0</td>\n",
              "      <td>0.0</td>\n",
              "      <td>0.0</td>\n",
              "      <td>0.0</td>\n",
              "      <td>0.0</td>\n",
              "      <td>1.0</td>\n",
              "    </tr>\n",
              "    <tr>\n",
              "      <th>2</th>\n",
              "      <td>2.0</td>\n",
              "      <td>2124.0</td>\n",
              "      <td>14107.0</td>\n",
              "      <td>12889.0</td>\n",
              "      <td>0.0</td>\n",
              "      <td>9.0</td>\n",
              "      <td>4.0</td>\n",
              "      <td>-5.0</td>\n",
              "      <td>60.0</td>\n",
              "      <td>55.0</td>\n",
              "      <td>0.059854</td>\n",
              "      <td>256.0</td>\n",
              "      <td>0.0</td>\n",
              "      <td>0.0</td>\n",
              "      <td>0.0</td>\n",
              "      <td>0.0</td>\n",
              "      <td>0.0</td>\n",
              "      <td>0.0</td>\n",
              "      <td>0.033435</td>\n",
              "      <td>0.0</td>\n",
              "      <td>0.448498</td>\n",
              "      <td>0.107143</td>\n",
              "      <td>0.002241</td>\n",
              "      <td>0.0</td>\n",
              "      <td>1.0</td>\n",
              "      <td>42531.0</td>\n",
              "      <td>3.277954</td>\n",
              "      <td>157642.0</td>\n",
              "      <td>2.356113</td>\n",
              "      <td>0.269795</td>\n",
              "      <td>0.0</td>\n",
              "      <td>0.0</td>\n",
              "      <td>1.0</td>\n",
              "      <td>0.0</td>\n",
              "      <td>0.0</td>\n",
              "      <td>0.0</td>\n",
              "      <td>0.0</td>\n",
              "      <td>0.0</td>\n",
              "      <td>1.0</td>\n",
              "      <td>0.0</td>\n",
              "      <td>0.0</td>\n",
              "      <td>1.0</td>\n",
              "      <td>0.0</td>\n",
              "      <td>0.0</td>\n",
              "      <td>0.0</td>\n",
              "      <td>0.0</td>\n",
              "      <td>0.0</td>\n",
              "      <td>1.0</td>\n",
              "      <td>0.0</td>\n",
              "      <td>0.0</td>\n",
              "      <td>0.0</td>\n",
              "      <td>0.0</td>\n",
              "      <td>1.0</td>\n",
              "      <td>0.0</td>\n",
              "      <td>0.0</td>\n",
              "      <td>0.0</td>\n",
              "      <td>1.0</td>\n",
              "      <td>0.0</td>\n",
              "      <td>0.0</td>\n",
              "      <td>0.0</td>\n",
              "    </tr>\n",
              "    <tr>\n",
              "      <th>3</th>\n",
              "      <td>3.0</td>\n",
              "      <td>4261.0</td>\n",
              "      <td>13930.0</td>\n",
              "      <td>14122.0</td>\n",
              "      <td>-6.0</td>\n",
              "      <td>32.0</td>\n",
              "      <td>4.0</td>\n",
              "      <td>-1.0</td>\n",
              "      <td>94.0</td>\n",
              "      <td>99.0</td>\n",
              "      <td>0.090511</td>\n",
              "      <td>412.0</td>\n",
              "      <td>0.0</td>\n",
              "      <td>0.0</td>\n",
              "      <td>0.0</td>\n",
              "      <td>0.0</td>\n",
              "      <td>0.0</td>\n",
              "      <td>0.0</td>\n",
              "      <td>0.103343</td>\n",
              "      <td>0.0</td>\n",
              "      <td>1.000000</td>\n",
              "      <td>0.214286</td>\n",
              "      <td>0.347899</td>\n",
              "      <td>0.0</td>\n",
              "      <td>1.0</td>\n",
              "      <td>85831.0</td>\n",
              "      <td>6.615177</td>\n",
              "      <td>595893.0</td>\n",
              "      <td>8.906201</td>\n",
              "      <td>0.144038</td>\n",
              "      <td>0.0</td>\n",
              "      <td>0.0</td>\n",
              "      <td>0.0</td>\n",
              "      <td>1.0</td>\n",
              "      <td>0.0</td>\n",
              "      <td>0.0</td>\n",
              "      <td>0.0</td>\n",
              "      <td>0.0</td>\n",
              "      <td>0.0</td>\n",
              "      <td>1.0</td>\n",
              "      <td>0.0</td>\n",
              "      <td>0.0</td>\n",
              "      <td>0.0</td>\n",
              "      <td>1.0</td>\n",
              "      <td>0.0</td>\n",
              "      <td>0.0</td>\n",
              "      <td>0.0</td>\n",
              "      <td>0.0</td>\n",
              "      <td>1.0</td>\n",
              "      <td>0.0</td>\n",
              "      <td>0.0</td>\n",
              "      <td>0.0</td>\n",
              "      <td>0.0</td>\n",
              "      <td>1.0</td>\n",
              "      <td>0.0</td>\n",
              "      <td>0.0</td>\n",
              "      <td>0.0</td>\n",
              "      <td>0.0</td>\n",
              "      <td>1.0</td>\n",
              "      <td>0.0</td>\n",
              "    </tr>\n",
              "    <tr>\n",
              "      <th>4</th>\n",
              "      <td>4.0</td>\n",
              "      <td>838.0</td>\n",
              "      <td>14771.0</td>\n",
              "      <td>11618.0</td>\n",
              "      <td>5.0</td>\n",
              "      <td>40.0</td>\n",
              "      <td>12.0</td>\n",
              "      <td>36.0</td>\n",
              "      <td>316.0</td>\n",
              "      <td>347.0</td>\n",
              "      <td>0.429197</td>\n",
              "      <td>2565.0</td>\n",
              "      <td>0.0</td>\n",
              "      <td>0.0</td>\n",
              "      <td>0.0</td>\n",
              "      <td>0.0</td>\n",
              "      <td>0.0</td>\n",
              "      <td>0.0</td>\n",
              "      <td>0.151976</td>\n",
              "      <td>0.0</td>\n",
              "      <td>0.334493</td>\n",
              "      <td>1.000000</td>\n",
              "      <td>0.000373</td>\n",
              "      <td>0.0</td>\n",
              "      <td>1.0</td>\n",
              "      <td>154908.0</td>\n",
              "      <td>11.939088</td>\n",
              "      <td>653507.0</td>\n",
              "      <td>9.767299</td>\n",
              "      <td>0.237041</td>\n",
              "      <td>0.0</td>\n",
              "      <td>1.0</td>\n",
              "      <td>0.0</td>\n",
              "      <td>0.0</td>\n",
              "      <td>0.0</td>\n",
              "      <td>0.0</td>\n",
              "      <td>1.0</td>\n",
              "      <td>0.0</td>\n",
              "      <td>0.0</td>\n",
              "      <td>0.0</td>\n",
              "      <td>0.0</td>\n",
              "      <td>0.0</td>\n",
              "      <td>1.0</td>\n",
              "      <td>0.0</td>\n",
              "      <td>0.0</td>\n",
              "      <td>0.0</td>\n",
              "      <td>0.0</td>\n",
              "      <td>0.0</td>\n",
              "      <td>0.0</td>\n",
              "      <td>1.0</td>\n",
              "      <td>0.0</td>\n",
              "      <td>0.0</td>\n",
              "      <td>0.0</td>\n",
              "      <td>0.0</td>\n",
              "      <td>1.0</td>\n",
              "      <td>0.0</td>\n",
              "      <td>0.0</td>\n",
              "      <td>1.0</td>\n",
              "      <td>0.0</td>\n",
              "      <td>0.0</td>\n",
              "    </tr>\n",
              "  </tbody>\n",
              "</table>\n",
              "</div>"
            ],
            "text/plain": [
              "   Unnamed: 0  FlightNumberReportingAirline  ...  OrState_Illinois  OrState_Texas\n",
              "0         0.0                        2672.0  ...               0.0            0.0\n",
              "1         1.0                        1961.0  ...               0.0            1.0\n",
              "2         2.0                        2124.0  ...               0.0            0.0\n",
              "3         3.0                        4261.0  ...               1.0            0.0\n",
              "4         4.0                         838.0  ...               0.0            0.0\n",
              "\n",
              "[5 rows x 60 columns]"
            ]
          },
          "metadata": {
            "tags": []
          },
          "execution_count": 86
        }
      ]
    },
    {
      "cell_type": "code",
      "metadata": {
        "colab": {
          "base_uri": "https://localhost:8080/"
        },
        "id": "EMNqz8k5ozur",
        "outputId": "fe7c7e21-303b-480c-cf96-96d69af530cb"
      },
      "source": [
        "#preparing data\n",
        "X = newdf.loc[:, newdf.columns !='DelayCheck']\n",
        "X = X.loc[:, X.columns !='TotalDelayBucket']\n",
        "X = X.loc[:, X.columns !='NTotalDelay']\n",
        "\n",
        "Y = newdf['TotalDelayBucket']\n",
        "X.shape"
      ],
      "execution_count": null,
      "outputs": [
        {
          "output_type": "execute_result",
          "data": {
            "text/plain": [
              "(635863, 57)"
            ]
          },
          "metadata": {
            "tags": []
          },
          "execution_count": 82
        }
      ]
    },
    {
      "cell_type": "code",
      "metadata": {
        "id": "FquHo28DObEZ"
      },
      "source": [
        "# pearson's correlation feature selection for numeric input and numeric output\n",
        "from sklearn.datasets import make_regression\n",
        "from sklearn.feature_selection import SelectKBest\n",
        "from sklearn.feature_selection import f_regression\n",
        "# define feature selection\n",
        "fs = SelectKBest(score_func=f_regression, k=10)\n",
        "# apply feature selection\n",
        "X_selected = fs.fit_transform(X, Y)\n",
        "print(X_selected.shape)\n"
      ],
      "execution_count": null,
      "outputs": []
    },
    {
      "cell_type": "code",
      "metadata": {
        "id": "L8jhPNDaObIl"
      },
      "source": [
        "# random forest for feature importance on a regression problem\n",
        "from sklearn.datasets import make_regression\n",
        "from sklearn.ensemble import RandomForestRegressor\n",
        "from matplotlib import pyplot\n",
        "# define the model\n",
        "model = RandomForestRegressor()\n",
        "# fit the model\n",
        "model.fit(X, Y)\n",
        "# get importance\n",
        "importance = model.feature_importances_\n",
        "# summarize feature importance\n",
        "for i,v in enumerate(importance):\n",
        "\tprint('Feature: %0d, Score: %.5f' % (i,v))\n",
        "# plot feature importance\n",
        "pyplot.bar([x for x in range(len(importance))], importance)\n",
        "pyplot.show()"
      ],
      "execution_count": null,
      "outputs": []
    },
    {
      "cell_type": "code",
      "metadata": {
        "id": "ivdVmekQObYE"
      },
      "source": [
        "c = newdf.columns\n",
        "n=0\n",
        "for i in c:\n",
        "  print('Feature', n, i)\n",
        "  n=n+1"
      ],
      "execution_count": null,
      "outputs": []
    },
    {
      "cell_type": "code",
      "metadata": {
        "id": "0td9VaFnObQY"
      },
      "source": [
        "idx = (-importance).argsort()[:6]\n",
        "idx"
      ],
      "execution_count": null,
      "outputs": []
    },
    {
      "cell_type": "code",
      "metadata": {
        "colab": {
          "base_uri": "https://localhost:8080/"
        },
        "id": "55e-lzOXObg5",
        "outputId": "8f5e0f7d-6865-44a5-c3c4-922cb3f1ca76"
      },
      "source": [
        "x_train, x_test, y_train, y_test = lim_var_delaycheck(sample_df,'JourneyBtwCities','NFlightUsage','TaxiOut','CRSElapsedTime','NCityTrafficFreq','FlightNumberReportingAirline','TaxiIn','NTotalDelay')\n",
        "x_train.shape"
      ],
      "execution_count": null,
      "outputs": [
        {
          "output_type": "execute_result",
          "data": {
            "text/plain": [
              "(164919, 7)"
            ]
          },
          "metadata": {
            "tags": []
          },
          "execution_count": 137
        }
      ]
    },
    {
      "cell_type": "code",
      "metadata": {
        "colab": {
          "base_uri": "https://localhost:8080/",
          "height": 355
        },
        "id": "D2DmIgn4Oboi",
        "outputId": "0efa32d6-ca6d-49d9-b538-ada7a7dc8e7c"
      },
      "source": [
        "\n",
        "# Training the Random Forest Regression model on the whole dataset\n",
        "from sklearn.ensemble import RandomForestRegressor\n",
        "regressor = RandomForestRegressor(n_estimators = 10, random_state = 12)\n",
        "regressor.fit(x_train, y_train)\n",
        "\n",
        "# Predicting a new result\n",
        "#y_predict = regressor.predict([[x_test]])\n",
        "y_pred = regressor.predict(x_test)\n",
        "# Visualising the Random Forest Regression results (higher resolution)\n",
        "#X_grid = np.arange(min(X), max(X), 0.01)\n",
        "#X_grid = X_grid.reshape((len(X_grid), 1))\n",
        "plt.scatter(y_test, regressor.predict(x_test) , color = 'red')\n",
        "#plt.plot(y_test, regressor.predict(x_test), color = 'blue')\n",
        "plt.title('Random Forest Regression)')\n",
        "plt.xlabel('Total Delay testing set')\n",
        "plt.ylabel('Total Delay predicted')\n",
        "plt.show()"
      ],
      "execution_count": null,
      "outputs": [
        {
          "output_type": "stream",
          "text": [
            "/usr/local/lib/python3.7/dist-packages/ipykernel_launcher.py:5: DataConversionWarning: A column-vector y was passed when a 1d array was expected. Please change the shape of y to (n_samples,), for example using ravel().\n",
            "  \"\"\"\n"
          ],
          "name": "stderr"
        },
        {
          "output_type": "display_data",
          "data": {
            "image/png": "[encoded data removed]",
            "text/plain": [
              "<Figure size 432x288 with 1 Axes>"
            ]
          },
          "metadata": {
            "tags": []
          }
        }
      ]
    },
    {
      "cell_type": "code",
      "metadata": {
        "colab": {
          "base_uri": "https://localhost:8080/"
        },
        "id": "7tAGWRey5Ql3",
        "outputId": "eaf380fb-929a-4ebc-e653-6e758351dea2"
      },
      "source": [
        "from sklearn.metrics import r2_score\n",
        "r2 = r2_score(y_test,y_pred)\n",
        "print(r2)"
      ],
      "execution_count": null,
      "outputs": [
        {
          "output_type": "stream",
          "text": [
            "0.06460515083974472\n"
          ],
          "name": "stdout"
        }
      ]
    },
    {
      "cell_type": "code",
      "metadata": {
        "colab": {
          "base_uri": "https://localhost:8080/"
        },
        "id": "NZ-oao6r5o_J",
        "outputId": "de0cbca7-3d34-43c4-8524-8ca6e50c1517"
      },
      "source": [
        "print(\"RMSE\",np.sqrt(mean_squared_error(y_test,y_pred)))"
      ],
      "execution_count": null,
      "outputs": [
        {
          "output_type": "stream",
          "text": [
            "RMSE 45.89728752850104\n"
          ],
          "name": "stdout"
        }
      ]
    },
    {
      "cell_type": "code",
      "metadata": {
        "colab": {
          "base_uri": "https://localhost:8080/",
          "height": 318
        },
        "id": "uFkCrISqObv6",
        "outputId": "cfdd0848-242b-4873-b58f-6a974fbb9471"
      },
      "source": [
        "# calculate errors\n",
        "errors = []\n",
        "y_pred = regressor.predict(x_test)\n",
        "#changing shape of y_pred according to y_test\n",
        "y_pred1 = y_pred[np.newaxis]\n",
        "y_pred2 = y_pred1.T\n",
        "print(y_pred2.shape)\n",
        "#calculating errors\n",
        "err =[]\n",
        "err = np.subtract(y_test,y_pred2)\n",
        "errors=[]\n",
        "errors = np.square(err)\n",
        "#plotting errors vs predicted values\n",
        "plt.scatter(y_pred2, err, color = 'red')\n",
        "#plt.plot(y_test, regressor.predict(x_test), color = 'blue')\n",
        "plt.title('Errors vs Predicted Delay')\n",
        "plt.xlabel('Predicted Delay')\n",
        "plt.ylabel('Error(Deviation)')\n",
        "plt.xlim([0,800])\n",
        "plt.ylim([0,200])\n",
        "plt.show()"
      ],
      "execution_count": null,
      "outputs": [
        {
          "output_type": "stream",
          "text": [
            "(54974, 1)\n"
          ],
          "name": "stdout"
        },
        {
          "output_type": "display_data",
          "data": {
            "image/png": "[encoded data removed]",
            "text/plain": [
              "<Figure size 432x288 with 1 Axes>"
            ]
          },
          "metadata": {
            "tags": []
          }
        }
      ]
    },
    {
      "cell_type": "code",
      "metadata": {
        "id": "q4uIUpEJvuxa"
      },
      "source": [],
      "execution_count": null,
      "outputs": []
    },
    {
      "cell_type": "code",
      "metadata": {
        "id": "Ql_u3tZVpXo8"
      },
      "source": [
        "import scipy as sp\n",
        "from scipy.interpolate import interp1d\n",
        "# 300 represents number of points to make between T.min and T.max\n",
        "xnew = np.linspace(y_pred2.min(), y_pred2.max(), 3000)\n",
        "\n",
        "power_smooth = sp.interpolate.interp1d(y_pred2, err)(xnew)\n",
        "\n",
        "plt.plot(xnew,power_smooth)\n",
        "plt.show()"
      ],
      "execution_count": null,
      "outputs": []
    },
    {
      "cell_type": "code",
      "metadata": {
        "colab": {
          "base_uri": "https://localhost:8080/"
        },
        "id": "16ynJJGotS1J",
        "outputId": "14c0945e-f280-4d59-ff86-9e7b8f5226ad"
      },
      "source": [
        "print(y_pred2.shape)\n",
        "print(err.shape)"
      ],
      "execution_count": null,
      "outputs": [
        {
          "output_type": "stream",
          "text": [
            "(162186, 1)\n",
            "(162186, 1)\n"
          ],
          "name": "stdout"
        }
      ]
    },
    {
      "cell_type": "code",
      "metadata": {
        "colab": {
          "background_save": true
        },
        "id": "1nVnVREFjLur",
        "outputId": "97136bb5-3aa2-475d-a8f5-dcc4a5697a50"
      },
      "source": [
        "pyplot.plot(errors)\n",
        "pyplot.xticks(ticks=[i for i in range(len(errors))])\n",
        "pyplot.xlabel('Predicted Value')\n",
        "pyplot.ylabel('Mean Squared Error')\n",
        "pyplot.show()"
      ],
      "execution_count": null,
      "outputs": [
        {
          "output_type": "error",
          "ename": "KeyboardInterrupt",
          "evalue": "ignored",
          "traceback": [
            "\u001b[0;31m---------------------------------------------------------------------------\u001b[0m",
            "\u001b[0;31mKeyboardInterrupt\u001b[0m                         Traceback (most recent call last)",
            "\u001b[0;32m<ipython-input-110-e7cdb82889a6>\u001b[0m in \u001b[0;36m<module>\u001b[0;34m()\u001b[0m\n\u001b[1;32m      3\u001b[0m \u001b[0mpyplot\u001b[0m\u001b[0;34m.\u001b[0m\u001b[0mxlabel\u001b[0m\u001b[0;34m(\u001b[0m\u001b[0;34m'Predicted Value'\u001b[0m\u001b[0;34m)\u001b[0m\u001b[0;34m\u001b[0m\u001b[0;34m\u001b[0m\u001b[0m\n\u001b[1;32m      4\u001b[0m \u001b[0mpyplot\u001b[0m\u001b[0;34m.\u001b[0m\u001b[0mylabel\u001b[0m\u001b[0;34m(\u001b[0m\u001b[0;34m'Mean Squared Error'\u001b[0m\u001b[0;34m)\u001b[0m\u001b[0;34m\u001b[0m\u001b[0;34m\u001b[0m\u001b[0m\n\u001b[0;32m----> 5\u001b[0;31m \u001b[0mpyplot\u001b[0m\u001b[0;34m.\u001b[0m\u001b[0mshow\u001b[0m\u001b[0;34m(\u001b[0m\u001b[0;34m)\u001b[0m\u001b[0;34m\u001b[0m\u001b[0;34m\u001b[0m\u001b[0m\n\u001b[0m",
            "\u001b[0;32m/usr/local/lib/python3.7/dist-packages/matplotlib/pyplot.py\u001b[0m in \u001b[0;36mshow\u001b[0;34m(*args, **kw)\u001b[0m\n\u001b[1;32m    270\u001b[0m     \"\"\"\n\u001b[1;32m    271\u001b[0m     \u001b[0;32mglobal\u001b[0m \u001b[0m_show\u001b[0m\u001b[0;34m\u001b[0m\u001b[0;34m\u001b[0m\u001b[0m\n\u001b[0;32m--> 272\u001b[0;31m     \u001b[0;32mreturn\u001b[0m \u001b[0m_show\u001b[0m\u001b[0;34m(\u001b[0m\u001b[0;34m*\u001b[0m\u001b[0margs\u001b[0m\u001b[0;34m,\u001b[0m \u001b[0;34m**\u001b[0m\u001b[0mkw\u001b[0m\u001b[0;34m)\u001b[0m\u001b[0;34m\u001b[0m\u001b[0;34m\u001b[0m\u001b[0m\n\u001b[0m\u001b[1;32m    273\u001b[0m \u001b[0;34m\u001b[0m\u001b[0m\n\u001b[1;32m    274\u001b[0m \u001b[0;34m\u001b[0m\u001b[0m\n",
            "\u001b[0;32m/usr/local/lib/python3.7/dist-packages/ipykernel/pylab/backend_inline.py\u001b[0m in \u001b[0;36mshow\u001b[0;34m(close, block)\u001b[0m\n\u001b[1;32m     37\u001b[0m             display(\n\u001b[1;32m     38\u001b[0m                 \u001b[0mfigure_manager\u001b[0m\u001b[0;34m.\u001b[0m\u001b[0mcanvas\u001b[0m\u001b[0;34m.\u001b[0m\u001b[0mfigure\u001b[0m\u001b[0;34m,\u001b[0m\u001b[0;34m\u001b[0m\u001b[0;34m\u001b[0m\u001b[0m\n\u001b[0;32m---> 39\u001b[0;31m                 \u001b[0mmetadata\u001b[0m\u001b[0;34m=\u001b[0m\u001b[0m_fetch_figure_metadata\u001b[0m\u001b[0;34m(\u001b[0m\u001b[0mfigure_manager\u001b[0m\u001b[0;34m.\u001b[0m\u001b[0mcanvas\u001b[0m\u001b[0;34m.\u001b[0m\u001b[0mfigure\u001b[0m\u001b[0;34m)\u001b[0m\u001b[0;34m\u001b[0m\u001b[0;34m\u001b[0m\u001b[0m\n\u001b[0m\u001b[1;32m     40\u001b[0m             )\n\u001b[1;32m     41\u001b[0m     \u001b[0;32mfinally\u001b[0m\u001b[0;34m:\u001b[0m\u001b[0;34m\u001b[0m\u001b[0;34m\u001b[0m\u001b[0m\n",
            "\u001b[0;32m/usr/local/lib/python3.7/dist-packages/IPython/core/display.py\u001b[0m in \u001b[0;36mdisplay\u001b[0;34m(*objs, **kwargs)\u001b[0m\n\u001b[1;32m    304\u001b[0m             \u001b[0mpublish_display_data\u001b[0m\u001b[0;34m(\u001b[0m\u001b[0mdata\u001b[0m\u001b[0;34m=\u001b[0m\u001b[0mobj\u001b[0m\u001b[0;34m,\u001b[0m \u001b[0mmetadata\u001b[0m\u001b[0;34m=\u001b[0m\u001b[0mmetadata\u001b[0m\u001b[0;34m,\u001b[0m \u001b[0;34m**\u001b[0m\u001b[0mkwargs\u001b[0m\u001b[0;34m)\u001b[0m\u001b[0;34m\u001b[0m\u001b[0;34m\u001b[0m\u001b[0m\n\u001b[1;32m    305\u001b[0m         \u001b[0;32melse\u001b[0m\u001b[0;34m:\u001b[0m\u001b[0;34m\u001b[0m\u001b[0;34m\u001b[0m\u001b[0m\n\u001b[0;32m--> 306\u001b[0;31m             \u001b[0mformat_dict\u001b[0m\u001b[0;34m,\u001b[0m \u001b[0mmd_dict\u001b[0m \u001b[0;34m=\u001b[0m \u001b[0mformat\u001b[0m\u001b[0;34m(\u001b[0m\u001b[0mobj\u001b[0m\u001b[0;34m,\u001b[0m \u001b[0minclude\u001b[0m\u001b[0;34m=\u001b[0m\u001b[0minclude\u001b[0m\u001b[0;34m,\u001b[0m \u001b[0mexclude\u001b[0m\u001b[0;34m=\u001b[0m\u001b[0mexclude\u001b[0m\u001b[0;34m)\u001b[0m\u001b[0;34m\u001b[0m\u001b[0;34m\u001b[0m\u001b[0m\n\u001b[0m\u001b[1;32m    307\u001b[0m             \u001b[0;32mif\u001b[0m \u001b[0;32mnot\u001b[0m \u001b[0mformat_dict\u001b[0m\u001b[0;34m:\u001b[0m\u001b[0;34m\u001b[0m\u001b[0;34m\u001b[0m\u001b[0m\n\u001b[1;32m    308\u001b[0m                 \u001b[0;31m# nothing to display (e.g. _ipython_display_ took over)\u001b[0m\u001b[0;34m\u001b[0m\u001b[0;34m\u001b[0m\u001b[0;34m\u001b[0m\u001b[0m\n",
            "\u001b[0;32m/usr/local/lib/python3.7/dist-packages/IPython/core/formatters.py\u001b[0m in \u001b[0;36mformat\u001b[0;34m(self, obj, include, exclude)\u001b[0m\n\u001b[1;32m    171\u001b[0m             \u001b[0mmd\u001b[0m \u001b[0;34m=\u001b[0m \u001b[0;32mNone\u001b[0m\u001b[0;34m\u001b[0m\u001b[0;34m\u001b[0m\u001b[0m\n\u001b[1;32m    172\u001b[0m             \u001b[0;32mtry\u001b[0m\u001b[0;34m:\u001b[0m\u001b[0;34m\u001b[0m\u001b[0;34m\u001b[0m\u001b[0m\n\u001b[0;32m--> 173\u001b[0;31m                 \u001b[0mdata\u001b[0m \u001b[0;34m=\u001b[0m \u001b[0mformatter\u001b[0m\u001b[0;34m(\u001b[0m\u001b[0mobj\u001b[0m\u001b[0;34m)\u001b[0m\u001b[0;34m\u001b[0m\u001b[0;34m\u001b[0m\u001b[0m\n\u001b[0m\u001b[1;32m    174\u001b[0m             \u001b[0;32mexcept\u001b[0m\u001b[0;34m:\u001b[0m\u001b[0;34m\u001b[0m\u001b[0;34m\u001b[0m\u001b[0m\n\u001b[1;32m    175\u001b[0m                 \u001b[0;31m# FIXME: log the exception\u001b[0m\u001b[0;34m\u001b[0m\u001b[0;34m\u001b[0m\u001b[0;34m\u001b[0m\u001b[0m\n",
            "\u001b[0;32m<decorator-gen-2>\u001b[0m in \u001b[0;36m__call__\u001b[0;34m(self, obj)\u001b[0m\n",
            "\u001b[0;32m/usr/local/lib/python3.7/dist-packages/IPython/core/formatters.py\u001b[0m in \u001b[0;36mcatch_format_error\u001b[0;34m(method, self, *args, **kwargs)\u001b[0m\n\u001b[1;32m    215\u001b[0m     \u001b[0;34m\"\"\"show traceback on failed format call\"\"\"\u001b[0m\u001b[0;34m\u001b[0m\u001b[0;34m\u001b[0m\u001b[0m\n\u001b[1;32m    216\u001b[0m     \u001b[0;32mtry\u001b[0m\u001b[0;34m:\u001b[0m\u001b[0;34m\u001b[0m\u001b[0;34m\u001b[0m\u001b[0m\n\u001b[0;32m--> 217\u001b[0;31m         \u001b[0mr\u001b[0m \u001b[0;34m=\u001b[0m \u001b[0mmethod\u001b[0m\u001b[0;34m(\u001b[0m\u001b[0mself\u001b[0m\u001b[0;34m,\u001b[0m \u001b[0;34m*\u001b[0m\u001b[0margs\u001b[0m\u001b[0;34m,\u001b[0m \u001b[0;34m**\u001b[0m\u001b[0mkwargs\u001b[0m\u001b[0;34m)\u001b[0m\u001b[0;34m\u001b[0m\u001b[0;34m\u001b[0m\u001b[0m\n\u001b[0m\u001b[1;32m    218\u001b[0m     \u001b[0;32mexcept\u001b[0m \u001b[0mNotImplementedError\u001b[0m\u001b[0;34m:\u001b[0m\u001b[0;34m\u001b[0m\u001b[0;34m\u001b[0m\u001b[0m\n\u001b[1;32m    219\u001b[0m         \u001b[0;31m# don't warn on NotImplementedErrors\u001b[0m\u001b[0;34m\u001b[0m\u001b[0;34m\u001b[0m\u001b[0;34m\u001b[0m\u001b[0m\n",
            "\u001b[0;32m/usr/local/lib/python3.7/dist-packages/IPython/core/formatters.py\u001b[0m in \u001b[0;36m__call__\u001b[0;34m(self, obj)\u001b[0m\n\u001b[1;32m    332\u001b[0m                 \u001b[0;32mpass\u001b[0m\u001b[0;34m\u001b[0m\u001b[0;34m\u001b[0m\u001b[0m\n\u001b[1;32m    333\u001b[0m             \u001b[0;32melse\u001b[0m\u001b[0;34m:\u001b[0m\u001b[0;34m\u001b[0m\u001b[0;34m\u001b[0m\u001b[0m\n\u001b[0;32m--> 334\u001b[0;31m                 \u001b[0;32mreturn\u001b[0m \u001b[0mprinter\u001b[0m\u001b[0;34m(\u001b[0m\u001b[0mobj\u001b[0m\u001b[0;34m)\u001b[0m\u001b[0;34m\u001b[0m\u001b[0;34m\u001b[0m\u001b[0m\n\u001b[0m\u001b[1;32m    335\u001b[0m             \u001b[0;31m# Finally look for special method names\u001b[0m\u001b[0;34m\u001b[0m\u001b[0;34m\u001b[0m\u001b[0;34m\u001b[0m\u001b[0m\n\u001b[1;32m    336\u001b[0m             \u001b[0mmethod\u001b[0m \u001b[0;34m=\u001b[0m \u001b[0mget_real_method\u001b[0m\u001b[0;34m(\u001b[0m\u001b[0mobj\u001b[0m\u001b[0;34m,\u001b[0m \u001b[0mself\u001b[0m\u001b[0;34m.\u001b[0m\u001b[0mprint_method\u001b[0m\u001b[0;34m)\u001b[0m\u001b[0;34m\u001b[0m\u001b[0;34m\u001b[0m\u001b[0m\n",
            "\u001b[0;32m/usr/local/lib/python3.7/dist-packages/IPython/core/pylabtools.py\u001b[0m in \u001b[0;36m<lambda>\u001b[0;34m(fig)\u001b[0m\n\u001b[1;32m    239\u001b[0m \u001b[0;34m\u001b[0m\u001b[0m\n\u001b[1;32m    240\u001b[0m     \u001b[0;32mif\u001b[0m \u001b[0;34m'png'\u001b[0m \u001b[0;32min\u001b[0m \u001b[0mformats\u001b[0m\u001b[0;34m:\u001b[0m\u001b[0;34m\u001b[0m\u001b[0;34m\u001b[0m\u001b[0m\n\u001b[0;32m--> 241\u001b[0;31m         \u001b[0mpng_formatter\u001b[0m\u001b[0;34m.\u001b[0m\u001b[0mfor_type\u001b[0m\u001b[0;34m(\u001b[0m\u001b[0mFigure\u001b[0m\u001b[0;34m,\u001b[0m \u001b[0;32mlambda\u001b[0m \u001b[0mfig\u001b[0m\u001b[0;34m:\u001b[0m \u001b[0mprint_figure\u001b[0m\u001b[0;34m(\u001b[0m\u001b[0mfig\u001b[0m\u001b[0;34m,\u001b[0m \u001b[0;34m'png'\u001b[0m\u001b[0;34m,\u001b[0m \u001b[0;34m**\u001b[0m\u001b[0mkwargs\u001b[0m\u001b[0;34m)\u001b[0m\u001b[0;34m)\u001b[0m\u001b[0;34m\u001b[0m\u001b[0;34m\u001b[0m\u001b[0m\n\u001b[0m\u001b[1;32m    242\u001b[0m     \u001b[0;32mif\u001b[0m \u001b[0;34m'retina'\u001b[0m \u001b[0;32min\u001b[0m \u001b[0mformats\u001b[0m \u001b[0;32mor\u001b[0m \u001b[0;34m'png2x'\u001b[0m \u001b[0;32min\u001b[0m \u001b[0mformats\u001b[0m\u001b[0;34m:\u001b[0m\u001b[0;34m\u001b[0m\u001b[0;34m\u001b[0m\u001b[0m\n\u001b[1;32m    243\u001b[0m         \u001b[0mpng_formatter\u001b[0m\u001b[0;34m.\u001b[0m\u001b[0mfor_type\u001b[0m\u001b[0;34m(\u001b[0m\u001b[0mFigure\u001b[0m\u001b[0;34m,\u001b[0m \u001b[0;32mlambda\u001b[0m \u001b[0mfig\u001b[0m\u001b[0;34m:\u001b[0m \u001b[0mretina_figure\u001b[0m\u001b[0;34m(\u001b[0m\u001b[0mfig\u001b[0m\u001b[0;34m,\u001b[0m \u001b[0;34m**\u001b[0m\u001b[0mkwargs\u001b[0m\u001b[0;34m)\u001b[0m\u001b[0;34m)\u001b[0m\u001b[0;34m\u001b[0m\u001b[0;34m\u001b[0m\u001b[0m\n",
            "\u001b[0;32m/usr/local/lib/python3.7/dist-packages/IPython/core/pylabtools.py\u001b[0m in \u001b[0;36mprint_figure\u001b[0;34m(fig, fmt, bbox_inches, **kwargs)\u001b[0m\n\u001b[1;32m    123\u001b[0m \u001b[0;34m\u001b[0m\u001b[0m\n\u001b[1;32m    124\u001b[0m     \u001b[0mbytes_io\u001b[0m \u001b[0;34m=\u001b[0m \u001b[0mBytesIO\u001b[0m\u001b[0;34m(\u001b[0m\u001b[0;34m)\u001b[0m\u001b[0;34m\u001b[0m\u001b[0;34m\u001b[0m\u001b[0m\n\u001b[0;32m--> 125\u001b[0;31m     \u001b[0mfig\u001b[0m\u001b[0;34m.\u001b[0m\u001b[0mcanvas\u001b[0m\u001b[0;34m.\u001b[0m\u001b[0mprint_figure\u001b[0m\u001b[0;34m(\u001b[0m\u001b[0mbytes_io\u001b[0m\u001b[0;34m,\u001b[0m \u001b[0;34m**\u001b[0m\u001b[0mkw\u001b[0m\u001b[0;34m)\u001b[0m\u001b[0;34m\u001b[0m\u001b[0;34m\u001b[0m\u001b[0m\n\u001b[0m\u001b[1;32m    126\u001b[0m     \u001b[0mdata\u001b[0m \u001b[0;34m=\u001b[0m \u001b[0mbytes_io\u001b[0m\u001b[0;34m.\u001b[0m\u001b[0mgetvalue\u001b[0m\u001b[0;34m(\u001b[0m\u001b[0;34m)\u001b[0m\u001b[0;34m\u001b[0m\u001b[0;34m\u001b[0m\u001b[0m\n\u001b[1;32m    127\u001b[0m     \u001b[0;32mif\u001b[0m \u001b[0mfmt\u001b[0m \u001b[0;34m==\u001b[0m \u001b[0;34m'svg'\u001b[0m\u001b[0;34m:\u001b[0m\u001b[0;34m\u001b[0m\u001b[0;34m\u001b[0m\u001b[0m\n",
            "\u001b[0;32m/usr/local/lib/python3.7/dist-packages/matplotlib/backend_bases.py\u001b[0m in \u001b[0;36mprint_figure\u001b[0;34m(self, filename, dpi, facecolor, edgecolor, orientation, format, bbox_inches, **kwargs)\u001b[0m\n\u001b[1;32m   2101\u001b[0m                     \u001b[0mbbox_artists\u001b[0m \u001b[0;34m=\u001b[0m \u001b[0mkwargs\u001b[0m\u001b[0;34m.\u001b[0m\u001b[0mpop\u001b[0m\u001b[0;34m(\u001b[0m\u001b[0;34m\"bbox_extra_artists\"\u001b[0m\u001b[0;34m,\u001b[0m \u001b[0;32mNone\u001b[0m\u001b[0;34m)\u001b[0m\u001b[0;34m\u001b[0m\u001b[0;34m\u001b[0m\u001b[0m\n\u001b[1;32m   2102\u001b[0m                     bbox_inches = self.figure.get_tightbbox(renderer,\n\u001b[0;32m-> 2103\u001b[0;31m                             bbox_extra_artists=bbox_artists)\n\u001b[0m\u001b[1;32m   2104\u001b[0m                     \u001b[0mpad\u001b[0m \u001b[0;34m=\u001b[0m \u001b[0mkwargs\u001b[0m\u001b[0;34m.\u001b[0m\u001b[0mpop\u001b[0m\u001b[0;34m(\u001b[0m\u001b[0;34m\"pad_inches\"\u001b[0m\u001b[0;34m,\u001b[0m \u001b[0;32mNone\u001b[0m\u001b[0;34m)\u001b[0m\u001b[0;34m\u001b[0m\u001b[0;34m\u001b[0m\u001b[0m\n\u001b[1;32m   2105\u001b[0m                     \u001b[0;32mif\u001b[0m \u001b[0mpad\u001b[0m \u001b[0;32mis\u001b[0m \u001b[0;32mNone\u001b[0m\u001b[0;34m:\u001b[0m\u001b[0;34m\u001b[0m\u001b[0;34m\u001b[0m\u001b[0m\n",
            "\u001b[0;32m/usr/local/lib/python3.7/dist-packages/matplotlib/figure.py\u001b[0m in \u001b[0;36mget_tightbbox\u001b[0;34m(self, renderer, bbox_extra_artists)\u001b[0m\n\u001b[1;32m   2383\u001b[0m \u001b[0;34m\u001b[0m\u001b[0m\n\u001b[1;32m   2384\u001b[0m         \u001b[0;32mfor\u001b[0m \u001b[0ma\u001b[0m \u001b[0;32min\u001b[0m \u001b[0martists\u001b[0m\u001b[0;34m:\u001b[0m\u001b[0;34m\u001b[0m\u001b[0;34m\u001b[0m\u001b[0m\n\u001b[0;32m-> 2385\u001b[0;31m             \u001b[0mbbox\u001b[0m \u001b[0;34m=\u001b[0m \u001b[0ma\u001b[0m\u001b[0;34m.\u001b[0m\u001b[0mget_tightbbox\u001b[0m\u001b[0;34m(\u001b[0m\u001b[0mrenderer\u001b[0m\u001b[0;34m)\u001b[0m\u001b[0;34m\u001b[0m\u001b[0;34m\u001b[0m\u001b[0m\n\u001b[0m\u001b[1;32m   2386\u001b[0m             \u001b[0;32mif\u001b[0m \u001b[0mbbox\u001b[0m \u001b[0;32mis\u001b[0m \u001b[0;32mnot\u001b[0m \u001b[0;32mNone\u001b[0m \u001b[0;32mand\u001b[0m \u001b[0;34m(\u001b[0m\u001b[0mbbox\u001b[0m\u001b[0;34m.\u001b[0m\u001b[0mwidth\u001b[0m \u001b[0;34m!=\u001b[0m \u001b[0;36m0\u001b[0m \u001b[0;32mor\u001b[0m \u001b[0mbbox\u001b[0m\u001b[0;34m.\u001b[0m\u001b[0mheight\u001b[0m \u001b[0;34m!=\u001b[0m \u001b[0;36m0\u001b[0m\u001b[0;34m)\u001b[0m\u001b[0;34m:\u001b[0m\u001b[0;34m\u001b[0m\u001b[0;34m\u001b[0m\u001b[0m\n\u001b[1;32m   2387\u001b[0m                 \u001b[0mbb\u001b[0m\u001b[0;34m.\u001b[0m\u001b[0mappend\u001b[0m\u001b[0;34m(\u001b[0m\u001b[0mbbox\u001b[0m\u001b[0;34m)\u001b[0m\u001b[0;34m\u001b[0m\u001b[0;34m\u001b[0m\u001b[0m\n",
            "\u001b[0;32m/usr/local/lib/python3.7/dist-packages/matplotlib/axes/_base.py\u001b[0m in \u001b[0;36mget_tightbbox\u001b[0;34m(self, renderer, call_axes_locator, bbox_extra_artists)\u001b[0m\n\u001b[1;32m   4321\u001b[0m \u001b[0;34m\u001b[0m\u001b[0m\n\u001b[1;32m   4322\u001b[0m         \u001b[0;32mif\u001b[0m \u001b[0mself\u001b[0m\u001b[0;34m.\u001b[0m\u001b[0maxison\u001b[0m\u001b[0;34m:\u001b[0m\u001b[0;34m\u001b[0m\u001b[0;34m\u001b[0m\u001b[0m\n\u001b[0;32m-> 4323\u001b[0;31m             \u001b[0mbb_xaxis\u001b[0m \u001b[0;34m=\u001b[0m \u001b[0mself\u001b[0m\u001b[0;34m.\u001b[0m\u001b[0mxaxis\u001b[0m\u001b[0;34m.\u001b[0m\u001b[0mget_tightbbox\u001b[0m\u001b[0;34m(\u001b[0m\u001b[0mrenderer\u001b[0m\u001b[0;34m)\u001b[0m\u001b[0;34m\u001b[0m\u001b[0;34m\u001b[0m\u001b[0m\n\u001b[0m\u001b[1;32m   4324\u001b[0m             \u001b[0;32mif\u001b[0m \u001b[0mbb_xaxis\u001b[0m\u001b[0;34m:\u001b[0m\u001b[0;34m\u001b[0m\u001b[0;34m\u001b[0m\u001b[0m\n\u001b[1;32m   4325\u001b[0m                 \u001b[0mbb\u001b[0m\u001b[0;34m.\u001b[0m\u001b[0mappend\u001b[0m\u001b[0;34m(\u001b[0m\u001b[0mbb_xaxis\u001b[0m\u001b[0;34m)\u001b[0m\u001b[0;34m\u001b[0m\u001b[0;34m\u001b[0m\u001b[0m\n",
            "\u001b[0;32m/usr/local/lib/python3.7/dist-packages/matplotlib/axis.py\u001b[0m in \u001b[0;36mget_tightbbox\u001b[0;34m(self, renderer)\u001b[0m\n\u001b[1;32m   1186\u001b[0m         \u001b[0mticks_to_draw\u001b[0m \u001b[0;34m=\u001b[0m \u001b[0mself\u001b[0m\u001b[0;34m.\u001b[0m\u001b[0m_update_ticks\u001b[0m\u001b[0;34m(\u001b[0m\u001b[0;34m)\u001b[0m\u001b[0;34m\u001b[0m\u001b[0;34m\u001b[0m\u001b[0m\n\u001b[1;32m   1187\u001b[0m \u001b[0;34m\u001b[0m\u001b[0m\n\u001b[0;32m-> 1188\u001b[0;31m         \u001b[0mself\u001b[0m\u001b[0;34m.\u001b[0m\u001b[0m_update_label_position\u001b[0m\u001b[0;34m(\u001b[0m\u001b[0mrenderer\u001b[0m\u001b[0;34m)\u001b[0m\u001b[0;34m\u001b[0m\u001b[0;34m\u001b[0m\u001b[0m\n\u001b[0m\u001b[1;32m   1189\u001b[0m \u001b[0;34m\u001b[0m\u001b[0m\n\u001b[1;32m   1190\u001b[0m         \u001b[0;31m# go back to just this axis's tick labels\u001b[0m\u001b[0;34m\u001b[0m\u001b[0;34m\u001b[0m\u001b[0;34m\u001b[0m\u001b[0m\n",
            "\u001b[0;32m/usr/local/lib/python3.7/dist-packages/matplotlib/axis.py\u001b[0m in \u001b[0;36m_update_label_position\u001b[0;34m(self, renderer)\u001b[0m\n\u001b[1;32m   2019\u001b[0m         \u001b[0;31m# get bounding boxes for this axis and any siblings\u001b[0m\u001b[0;34m\u001b[0m\u001b[0;34m\u001b[0m\u001b[0;34m\u001b[0m\u001b[0m\n\u001b[1;32m   2020\u001b[0m         \u001b[0;31m# that have been set by `fig.align_xlabels()`\u001b[0m\u001b[0;34m\u001b[0m\u001b[0;34m\u001b[0m\u001b[0;34m\u001b[0m\u001b[0m\n\u001b[0;32m-> 2021\u001b[0;31m         \u001b[0mbboxes\u001b[0m\u001b[0;34m,\u001b[0m \u001b[0mbboxes2\u001b[0m \u001b[0;34m=\u001b[0m \u001b[0mself\u001b[0m\u001b[0;34m.\u001b[0m\u001b[0m_get_tick_boxes_siblings\u001b[0m\u001b[0;34m(\u001b[0m\u001b[0mrenderer\u001b[0m\u001b[0;34m=\u001b[0m\u001b[0mrenderer\u001b[0m\u001b[0;34m)\u001b[0m\u001b[0;34m\u001b[0m\u001b[0;34m\u001b[0m\u001b[0m\n\u001b[0m\u001b[1;32m   2022\u001b[0m \u001b[0;34m\u001b[0m\u001b[0m\n\u001b[1;32m   2023\u001b[0m         \u001b[0mx\u001b[0m\u001b[0;34m,\u001b[0m \u001b[0my\u001b[0m \u001b[0;34m=\u001b[0m \u001b[0mself\u001b[0m\u001b[0;34m.\u001b[0m\u001b[0mlabel\u001b[0m\u001b[0;34m.\u001b[0m\u001b[0mget_position\u001b[0m\u001b[0;34m(\u001b[0m\u001b[0;34m)\u001b[0m\u001b[0;34m\u001b[0m\u001b[0;34m\u001b[0m\u001b[0m\n",
            "\u001b[0;32m/usr/local/lib/python3.7/dist-packages/matplotlib/axis.py\u001b[0m in \u001b[0;36m_get_tick_boxes_siblings\u001b[0;34m(self, renderer)\u001b[0m\n\u001b[1;32m   2004\u001b[0m         \u001b[0;32mfor\u001b[0m \u001b[0mnn\u001b[0m\u001b[0;34m,\u001b[0m \u001b[0maxx\u001b[0m \u001b[0;32min\u001b[0m \u001b[0menumerate\u001b[0m\u001b[0;34m(\u001b[0m\u001b[0mgrp\u001b[0m\u001b[0;34m.\u001b[0m\u001b[0mget_siblings\u001b[0m\u001b[0;34m(\u001b[0m\u001b[0mself\u001b[0m\u001b[0;34m.\u001b[0m\u001b[0maxes\u001b[0m\u001b[0;34m)\u001b[0m\u001b[0;34m)\u001b[0m\u001b[0;34m:\u001b[0m\u001b[0;34m\u001b[0m\u001b[0;34m\u001b[0m\u001b[0m\n\u001b[1;32m   2005\u001b[0m             \u001b[0mticks_to_draw\u001b[0m \u001b[0;34m=\u001b[0m \u001b[0maxx\u001b[0m\u001b[0;34m.\u001b[0m\u001b[0mxaxis\u001b[0m\u001b[0;34m.\u001b[0m\u001b[0m_update_ticks\u001b[0m\u001b[0;34m(\u001b[0m\u001b[0;34m)\u001b[0m\u001b[0;34m\u001b[0m\u001b[0;34m\u001b[0m\u001b[0m\n\u001b[0;32m-> 2006\u001b[0;31m             \u001b[0mtlb\u001b[0m\u001b[0;34m,\u001b[0m \u001b[0mtlb2\u001b[0m \u001b[0;34m=\u001b[0m \u001b[0maxx\u001b[0m\u001b[0;34m.\u001b[0m\u001b[0mxaxis\u001b[0m\u001b[0;34m.\u001b[0m\u001b[0m_get_tick_bboxes\u001b[0m\u001b[0;34m(\u001b[0m\u001b[0mticks_to_draw\u001b[0m\u001b[0;34m,\u001b[0m \u001b[0mrenderer\u001b[0m\u001b[0;34m)\u001b[0m\u001b[0;34m\u001b[0m\u001b[0;34m\u001b[0m\u001b[0m\n\u001b[0m\u001b[1;32m   2007\u001b[0m             \u001b[0mbboxes\u001b[0m\u001b[0;34m.\u001b[0m\u001b[0mextend\u001b[0m\u001b[0;34m(\u001b[0m\u001b[0mtlb\u001b[0m\u001b[0;34m)\u001b[0m\u001b[0;34m\u001b[0m\u001b[0;34m\u001b[0m\u001b[0m\n\u001b[1;32m   2008\u001b[0m             \u001b[0mbboxes2\u001b[0m\u001b[0;34m.\u001b[0m\u001b[0mextend\u001b[0m\u001b[0;34m(\u001b[0m\u001b[0mtlb2\u001b[0m\u001b[0;34m)\u001b[0m\u001b[0;34m\u001b[0m\u001b[0;34m\u001b[0m\u001b[0m\n",
            "\u001b[0;32m/usr/local/lib/python3.7/dist-packages/matplotlib/axis.py\u001b[0m in \u001b[0;36m_get_tick_bboxes\u001b[0;34m(self, ticks, renderer)\u001b[0m\n\u001b[1;32m   1172\u001b[0m         \u001b[0;34m\"\"\"Return lists of bboxes for ticks' label1's and label2's.\"\"\"\u001b[0m\u001b[0;34m\u001b[0m\u001b[0;34m\u001b[0m\u001b[0m\n\u001b[1;32m   1173\u001b[0m         return ([tick.label1.get_window_extent(renderer)\n\u001b[0;32m-> 1174\u001b[0;31m                  for tick in ticks if tick.label1.get_visible()],\n\u001b[0m\u001b[1;32m   1175\u001b[0m                 [tick.label2.get_window_extent(renderer)\n\u001b[1;32m   1176\u001b[0m                  for tick in ticks if tick.label2.get_visible()])\n",
            "\u001b[0;32m/usr/local/lib/python3.7/dist-packages/matplotlib/axis.py\u001b[0m in \u001b[0;36m<listcomp>\u001b[0;34m(.0)\u001b[0m\n\u001b[1;32m   1172\u001b[0m         \u001b[0;34m\"\"\"Return lists of bboxes for ticks' label1's and label2's.\"\"\"\u001b[0m\u001b[0;34m\u001b[0m\u001b[0;34m\u001b[0m\u001b[0m\n\u001b[1;32m   1173\u001b[0m         return ([tick.label1.get_window_extent(renderer)\n\u001b[0;32m-> 1174\u001b[0;31m                  for tick in ticks if tick.label1.get_visible()],\n\u001b[0m\u001b[1;32m   1175\u001b[0m                 [tick.label2.get_window_extent(renderer)\n\u001b[1;32m   1176\u001b[0m                  for tick in ticks if tick.label2.get_visible()])\n",
            "\u001b[0;32m/usr/local/lib/python3.7/dist-packages/matplotlib/text.py\u001b[0m in \u001b[0;36mget_window_extent\u001b[0;34m(self, renderer, dpi)\u001b[0m\n\u001b[1;32m    903\u001b[0m             \u001b[0;32mraise\u001b[0m \u001b[0mRuntimeError\u001b[0m\u001b[0;34m(\u001b[0m\u001b[0;34m'Cannot get window extent w/o renderer'\u001b[0m\u001b[0;34m)\u001b[0m\u001b[0;34m\u001b[0m\u001b[0;34m\u001b[0m\u001b[0m\n\u001b[1;32m    904\u001b[0m \u001b[0;34m\u001b[0m\u001b[0m\n\u001b[0;32m--> 905\u001b[0;31m         \u001b[0mbbox\u001b[0m\u001b[0;34m,\u001b[0m \u001b[0minfo\u001b[0m\u001b[0;34m,\u001b[0m \u001b[0mdescent\u001b[0m \u001b[0;34m=\u001b[0m \u001b[0mself\u001b[0m\u001b[0;34m.\u001b[0m\u001b[0m_get_layout\u001b[0m\u001b[0;34m(\u001b[0m\u001b[0mself\u001b[0m\u001b[0;34m.\u001b[0m\u001b[0m_renderer\u001b[0m\u001b[0;34m)\u001b[0m\u001b[0;34m\u001b[0m\u001b[0;34m\u001b[0m\u001b[0m\n\u001b[0m\u001b[1;32m    906\u001b[0m         \u001b[0mx\u001b[0m\u001b[0;34m,\u001b[0m \u001b[0my\u001b[0m \u001b[0;34m=\u001b[0m \u001b[0mself\u001b[0m\u001b[0;34m.\u001b[0m\u001b[0mget_unitless_position\u001b[0m\u001b[0;34m(\u001b[0m\u001b[0;34m)\u001b[0m\u001b[0;34m\u001b[0m\u001b[0;34m\u001b[0m\u001b[0m\n\u001b[1;32m    907\u001b[0m         \u001b[0mx\u001b[0m\u001b[0;34m,\u001b[0m \u001b[0my\u001b[0m \u001b[0;34m=\u001b[0m \u001b[0mself\u001b[0m\u001b[0;34m.\u001b[0m\u001b[0mget_transform\u001b[0m\u001b[0;34m(\u001b[0m\u001b[0;34m)\u001b[0m\u001b[0;34m.\u001b[0m\u001b[0mtransform\u001b[0m\u001b[0;34m(\u001b[0m\u001b[0;34m(\u001b[0m\u001b[0mx\u001b[0m\u001b[0;34m,\u001b[0m \u001b[0my\u001b[0m\u001b[0;34m)\u001b[0m\u001b[0;34m)\u001b[0m\u001b[0;34m\u001b[0m\u001b[0;34m\u001b[0m\u001b[0m\n",
            "\u001b[0;32m/usr/local/lib/python3.7/dist-packages/matplotlib/text.py\u001b[0m in \u001b[0;36m_get_layout\u001b[0;34m(self, renderer)\u001b[0m\n\u001b[1;32m    298\u001b[0m             \u001b[0;32mif\u001b[0m \u001b[0mclean_line\u001b[0m\u001b[0;34m:\u001b[0m\u001b[0;34m\u001b[0m\u001b[0;34m\u001b[0m\u001b[0m\n\u001b[1;32m    299\u001b[0m                 w, h, d = renderer.get_text_width_height_descent(\n\u001b[0;32m--> 300\u001b[0;31m                     clean_line, self._fontproperties, ismath=ismath)\n\u001b[0m\u001b[1;32m    301\u001b[0m             \u001b[0;32melse\u001b[0m\u001b[0;34m:\u001b[0m\u001b[0;34m\u001b[0m\u001b[0;34m\u001b[0m\u001b[0m\n\u001b[1;32m    302\u001b[0m                 \u001b[0mw\u001b[0m \u001b[0;34m=\u001b[0m \u001b[0mh\u001b[0m \u001b[0;34m=\u001b[0m \u001b[0md\u001b[0m \u001b[0;34m=\u001b[0m \u001b[0;36m0\u001b[0m\u001b[0;34m\u001b[0m\u001b[0;34m\u001b[0m\u001b[0m\n",
            "\u001b[0;32m/usr/local/lib/python3.7/dist-packages/matplotlib/backends/backend_agg.py\u001b[0m in \u001b[0;36mget_text_width_height_descent\u001b[0;34m(self, s, prop, ismath)\u001b[0m\n\u001b[1;32m    212\u001b[0m         \u001b[0mflags\u001b[0m \u001b[0;34m=\u001b[0m \u001b[0mget_hinting_flag\u001b[0m\u001b[0;34m(\u001b[0m\u001b[0;34m)\u001b[0m\u001b[0;34m\u001b[0m\u001b[0;34m\u001b[0m\u001b[0m\n\u001b[1;32m    213\u001b[0m         \u001b[0mfont\u001b[0m \u001b[0;34m=\u001b[0m \u001b[0mself\u001b[0m\u001b[0;34m.\u001b[0m\u001b[0m_get_agg_font\u001b[0m\u001b[0;34m(\u001b[0m\u001b[0mprop\u001b[0m\u001b[0;34m)\u001b[0m\u001b[0;34m\u001b[0m\u001b[0;34m\u001b[0m\u001b[0m\n\u001b[0;32m--> 214\u001b[0;31m         \u001b[0mfont\u001b[0m\u001b[0;34m.\u001b[0m\u001b[0mset_text\u001b[0m\u001b[0;34m(\u001b[0m\u001b[0ms\u001b[0m\u001b[0;34m,\u001b[0m \u001b[0;36m0.0\u001b[0m\u001b[0;34m,\u001b[0m \u001b[0mflags\u001b[0m\u001b[0;34m=\u001b[0m\u001b[0mflags\u001b[0m\u001b[0;34m)\u001b[0m\u001b[0;34m\u001b[0m\u001b[0;34m\u001b[0m\u001b[0m\n\u001b[0m\u001b[1;32m    215\u001b[0m         \u001b[0mw\u001b[0m\u001b[0;34m,\u001b[0m \u001b[0mh\u001b[0m \u001b[0;34m=\u001b[0m \u001b[0mfont\u001b[0m\u001b[0;34m.\u001b[0m\u001b[0mget_width_height\u001b[0m\u001b[0;34m(\u001b[0m\u001b[0;34m)\u001b[0m  \u001b[0;31m# width and height of unrotated string\u001b[0m\u001b[0;34m\u001b[0m\u001b[0;34m\u001b[0m\u001b[0m\n\u001b[1;32m    216\u001b[0m         \u001b[0md\u001b[0m \u001b[0;34m=\u001b[0m \u001b[0mfont\u001b[0m\u001b[0;34m.\u001b[0m\u001b[0mget_descent\u001b[0m\u001b[0;34m(\u001b[0m\u001b[0;34m)\u001b[0m\u001b[0;34m\u001b[0m\u001b[0;34m\u001b[0m\u001b[0m\n",
            "\u001b[0;31mKeyboardInterrupt\u001b[0m: "
          ]
        }
      ]
    },
    {
      "cell_type": "markdown",
      "metadata": {
        "id": "g7r_d-om4TaS"
      },
      "source": [
        "###Neural networks"
      ]
    },
    {
      "cell_type": "code",
      "metadata": {
        "colab": {
          "base_uri": "https://localhost:8080/"
        },
        "id": "KWBY8A-r4Sid",
        "outputId": "ec8181a2-ada8-4db4-95ab-7765ef85d8c6"
      },
      "source": [
        "model = keras.Sequential(\n",
        "    [\n",
        "     keras.Input(shape=(6)),\n",
        "     layers.Dense(256,activation='relu', use_bias=True),\n",
        "     #layers.Dense(512, activation='sigmoid'),\n",
        "     layers.Dense(1),\n",
        "    ]\n",
        ")\n",
        "\n",
        "print(model.summary()) #gives info about the network\n",
        "\n",
        "#from_logits - it uses softmax function and then uses crossentropy\n",
        "#If there is no 'sparse' in cross entropy, then it is for one-hot encodings\n",
        "\n",
        "model.add(LeakyReLU(alpha=0.1))\n",
        "keras.optimizers.Adam(learning_rate=0.001)\n",
        "model.compile(loss = 'mean_squared_error', optimizer = 'adam', metrics=['accuracy'])\n",
        "\n",
        "#Verbose - means prints after each epoch\n",
        "#accuracy on training and test sets are displayed\n",
        "history = model.fit(x_train, y_train, batch_size=64, validation_split= 0.25, epochs=20, verbose=2)\n",
        "#history2 = model.fit(x_test, y_test, batch_size=32,epochs=20, verbose=2)\n",
        "\n",
        "model.evaluate(x_test, y_test, batch_size=32,verbose=2)\n",
        "#history = model.fit(X_train_scalled, y_train, validation_split=0.2, epochs=100)\n",
        "\n"
      ],
      "execution_count": null,
      "outputs": [
        {
          "output_type": "stream",
          "text": [
            "WARNING:tensorflow:Please add `keras.layers.InputLayer` instead of `keras.Input` to Sequential model. `keras.Input` is intended to be used by Functional model.\n",
            "Model: \"sequential_1\"\n",
            "_________________________________________________________________\n",
            "Layer (type)                 Output Shape              Param #   \n",
            "=================================================================\n",
            "dense_2 (Dense)              (None, 256)               1792      \n",
            "_________________________________________________________________\n",
            "dense_3 (Dense)              (None, 1)                 257       \n",
            "=================================================================\n",
            "Total params: 2,049\n",
            "Trainable params: 2,049\n",
            "Non-trainable params: 0\n",
            "_________________________________________________________________\n",
            "None\n",
            "Epoch 1/20\n",
            "5589/5589 - 9s - loss: 953.0062 - accuracy: 0.3392 - val_loss: 973.6823 - val_accuracy: 0.5143\n",
            "Epoch 2/20\n",
            "5589/5589 - 8s - loss: 917.5521 - accuracy: 0.2547 - val_loss: 1214.2808 - val_accuracy: 1.4259e-04\n",
            "Epoch 3/20\n",
            "5589/5589 - 8s - loss: 895.2671 - accuracy: 0.1745 - val_loss: 888.0713 - val_accuracy: 0.0924\n",
            "Epoch 4/20\n",
            "5589/5589 - 8s - loss: 879.1796 - accuracy: 0.1081 - val_loss: 911.5093 - val_accuracy: 0.2258\n",
            "Epoch 5/20\n",
            "5589/5589 - 7s - loss: 865.7874 - accuracy: 0.0386 - val_loss: 877.4811 - val_accuracy: 0.0315\n",
            "Epoch 6/20\n",
            "5589/5589 - 8s - loss: 858.9744 - accuracy: 0.0159 - val_loss: 866.8386 - val_accuracy: 3.0195e-04\n",
            "Epoch 7/20\n",
            "5589/5589 - 7s - loss: 856.0048 - accuracy: 0.0046 - val_loss: 874.4572 - val_accuracy: 1.0904e-04\n",
            "Epoch 8/20\n",
            "5589/5589 - 8s - loss: 853.7441 - accuracy: 0.0024 - val_loss: 867.7589 - val_accuracy: 3.0195e-04\n",
            "Epoch 9/20\n",
            "5589/5589 - 8s - loss: 853.1774 - accuracy: 0.0022 - val_loss: 867.5613 - val_accuracy: 4.0260e-04\n",
            "Epoch 10/20\n",
            "5589/5589 - 7s - loss: 852.5704 - accuracy: 0.0016 - val_loss: 867.2448 - val_accuracy: 0.0024\n",
            "Epoch 11/20\n",
            "5589/5589 - 8s - loss: 852.1573 - accuracy: 0.0020 - val_loss: 866.4174 - val_accuracy: 0.0015\n",
            "Epoch 12/20\n",
            "5589/5589 - 8s - loss: 851.7267 - accuracy: 0.0022 - val_loss: 871.6451 - val_accuracy: 4.3615e-04\n",
            "Epoch 13/20\n",
            "5589/5589 - 8s - loss: 851.5629 - accuracy: 0.0019 - val_loss: 866.2574 - val_accuracy: 0.0028\n",
            "Epoch 14/20\n",
            "5589/5589 - 7s - loss: 851.5725 - accuracy: 0.0021 - val_loss: 870.1768 - val_accuracy: 0.0018\n",
            "Epoch 15/20\n",
            "5589/5589 - 8s - loss: 851.0135 - accuracy: 0.0023 - val_loss: 867.0403 - val_accuracy: 7.8004e-04\n",
            "Epoch 16/20\n",
            "5589/5589 - 8s - loss: 851.2514 - accuracy: 0.0022 - val_loss: 868.2095 - val_accuracy: 0.0011\n",
            "Epoch 17/20\n",
            "5589/5589 - 7s - loss: 850.7167 - accuracy: 0.0023 - val_loss: 868.0173 - val_accuracy: 0.0015\n",
            "Epoch 18/20\n",
            "5589/5589 - 7s - loss: 850.4307 - accuracy: 0.0032 - val_loss: 867.5731 - val_accuracy: 0.0016\n",
            "Epoch 19/20\n",
            "5589/5589 - 8s - loss: 850.4232 - accuracy: 0.0024 - val_loss: 866.2531 - val_accuracy: 0.0012\n",
            "Epoch 20/20\n",
            "5589/5589 - 8s - loss: 850.3096 - accuracy: 0.0025 - val_loss: 869.1749 - val_accuracy: 0.0028\n",
            "4968/4968 - 3s - loss: 875.2488 - accuracy: 0.0029\n"
          ],
          "name": "stdout"
        },
        {
          "output_type": "execute_result",
          "data": {
            "text/plain": [
              "[875.248779296875, 0.002931444440037012]"
            ]
          },
          "metadata": {
            "tags": []
          },
          "execution_count": 47
        }
      ]
    },
    {
      "cell_type": "code",
      "metadata": {
        "colab": {
          "base_uri": "https://localhost:8080/",
          "height": 518
        },
        "id": "Q2FV7mzk513R",
        "outputId": "e370013a-d007-495a-f515-e1a0c38cbc66"
      },
      "source": [
        "import seaborn as sns\n",
        "sns.set(style = 'whitegrid')\n",
        "plt.figure(figsize=((14,8)))\n",
        "\n",
        "plt.subplot(1,2,1)\n",
        "loss = history.history['loss']\n",
        "val_loss = history.history['val_loss']\n",
        "#test_loss = history2.history['loss']\n",
        "epochs = range(1, len(loss)+1)\n",
        "plt.plot(epochs,loss, 'y', label='Training loss')\n",
        "plt.plot(epochs, val_loss, 'r.-', label='Validation loss')\n",
        "#plt.plot(epochs, test_loss, 'g.-', label='Test loss')\n",
        "plt.title('Training, Validation and Test loss')\n",
        "plt.xlabel('Epochs')\n",
        "plt.ylabel('Loss')\n",
        "plt.legend()\n",
        "plt.subplot(1,2,2)\n",
        "acc = history.history['accuracy']\n",
        "val_acc = history.history['val_accuracy']\n",
        "plt.plot(epochs,acc, 'y', label='Training MSE')\n",
        "plt.plot(epochs, val_acc, 'r', label='Validaton Accuracy')\n",
        "plt.title('Training and validation Accuracy')\n",
        "plt.xlabel('Epochs')\n",
        "plt.ylabel('Accuracy')\n",
        "plt.legend()\n",
        "plt.show()"
      ],
      "execution_count": null,
      "outputs": [
        {
          "output_type": "display_data",
          "data": {
            "image/png": "[encoded data removed]",
            "text/plain": [
              "<Figure size 1008x576 with 2 Axes>"
            ]
          },
          "metadata": {
            "tags": []
          }
        }
      ]
    },
    {
      "cell_type": "code",
      "metadata": {
        "id": "bGi38v-A4xuU"
      },
      "source": [
        "for i in range(len(y_test)):\n",
        "  #calculate error\n",
        "  err = y_test[i] - y_pred[i]\n",
        "  # store error\n",
        "  err = err**2\n",
        "  errors.append(err)\n",
        "  # report error\n",
        "  print('>%.1f, %.1f = %.3f' % (y_test[i], y_pred[i], err))\n",
        "# plot errors\n",
        "pyplot.plot(errors)\n",
        "pyplot.xticks(ticks=[i for i in range(len(errors))])\n",
        "pyplot.xlabel('Predicted Value')\n",
        "pyplot.ylabel('Mean Squared Error')\n",
        "pyplot.show()"
      ],
      "execution_count": null,
      "outputs": []
    },
    {
      "cell_type": "code",
      "metadata": {
        "id": "4LcqICEs-SyZ"
      },
      "source": [
        "# compile the keras model\n",
        "model.compile(loss='mse', optimizer='adam')\n",
        "# fit the keras model on the dataset\n",
        "model.fit(X_train, y_train, epochs=150, batch_size=32, verbose=2)\n"
      ],
      "execution_count": null,
      "outputs": []
    },
    {
      "cell_type": "code",
      "metadata": {
        "id": "qo5h2vQx4K5I"
      },
      "source": [],
      "execution_count": null,
      "outputs": []
    },
    {
      "cell_type": "code",
      "metadata": {
        "id": "_8LytwW14LDg"
      },
      "source": [],
      "execution_count": null,
      "outputs": []
    },
    {
      "cell_type": "code",
      "metadata": {
        "id": "GH95q7Zb4LKD"
      },
      "source": [],
      "execution_count": null,
      "outputs": []
    },
    {
      "cell_type": "code",
      "metadata": {
        "id": "4ZQtE28ilQDR"
      },
      "source": [],
      "execution_count": null,
      "outputs": []
    },
    {
      "cell_type": "code",
      "metadata": {
        "id": "KnuFpX8P4LVH"
      },
      "source": [],
      "execution_count": null,
      "outputs": []
    },
    {
      "cell_type": "code",
      "metadata": {
        "id": "xLRThPOK4LgC"
      },
      "source": [],
      "execution_count": null,
      "outputs": []
    },
    {
      "cell_type": "code",
      "metadata": {
        "id": "gYR2rNOw-ReH"
      },
      "source": [
        "#correlation matrix\n",
        "corr = newdf.corr()\n",
        "corr = corr.replace(np.nan, 0)\n",
        "corr = corr.replace(np.inf, 0)\n",
        "#corr"
      ],
      "execution_count": null,
      "outputs": []
    },
    {
      "cell_type": "code",
      "metadata": {
        "id": "ep_PAcn2-Rg_"
      },
      "source": [
        "import numpy as np\n",
        "def condition_number(corr):# corr: correlation matrix\n",
        "    eigValues,eigVectors = np.linalg.eig(corr)\n",
        "    return abs(max(eigValues)/min(eigValues))\n",
        " # greadily kick out the worst feature\n",
        "def eliminate_multicol(X, threshold = 100):#weak corr threshold\n",
        "    corr = np.corrcoef(X.T) # get corr matrix\n",
        "    if (condition_number(corr) < threshold or X.shape[1]<=1):\n",
        "        return X\n",
        "    # find the feature with highest corr coef(lower triangle)\n",
        "    mostCorrelated = np.argmax([max(corr[i+1:,i]) for i in range(X.shape[1]-1)] )\n",
        "    choose = [True]*X.shape[1]\n",
        "    choose[mostCorrelated] = False # kick that feature out\n",
        "    return eliminate_multicol(X[:,choose])"
      ],
      "execution_count": null,
      "outputs": []
    },
    {
      "cell_type": "code",
      "metadata": {
        "id": "YKBCoX9o-Rj1"
      },
      "source": [
        "x = condition_number(corr)\n",
        "d = eliminate_multicol(newdf)\n",
        "d"
      ],
      "execution_count": null,
      "outputs": []
    },
    {
      "cell_type": "code",
      "metadata": {
        "id": "i_JjW6eN-S1n"
      },
      "source": [
        "# max() is used to compare for Lowerbound\n",
        "for i in range(len(y_test)):\n",
        "  #calculate error\n",
        "  err = y_test[i] - y_pred2[i]\n",
        "  # store error\n",
        "  err = err**2\n",
        "  errors.append(err)\n",
        "  # report error\n",
        "  print('>%.1f, %.1f = %.3f' % (y_test[i], y_pred2[i], err))\n",
        "# plot errors\n",
        "pyplot.plot(errors)\n",
        "pyplot.xticks(ticks=[i for i in range(len(errors))])\n",
        "pyplot.xlabel('Predicted Value')\n",
        "pyplot.ylabel('Mean Squared Error')\n",
        "pyplot.show()"
      ],
      "execution_count": null,
      "outputs": []
    }
  ]
}
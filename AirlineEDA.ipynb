{
  "nbformat": 4,
  "nbformat_minor": 0,
  "metadata": {
    "colab": {
      "provenance": [],
      "mount_file_id": "17eoACLvU5_nvzLVh8Bqo7Q3FgFBPaP_7",
      "authorship_tag": "ABX9TyM3exRHCLEHKVrw1glO4Uaz",
      "include_colab_link": true
    },
    "kernelspec": {
      "display_name": "Python 3",
      "name": "python3"
    }
  },
  "cells": [
    {
      "cell_type": "markdown",
      "metadata": {
        "id": "view-in-github",
        "colab_type": "text"
      },
      "source": [
        "<a href=\"https://colab.research.google.com/github/AG-2478/LocalRepo/blob/feature1/AirlineEDA.ipynb\" target=\"_parent\"><img src=\"https://colab.research.google.com/assets/colab-badge.svg\" alt=\"Open In Colab\"/></a>"
      ]
    },
    {
      "cell_type": "code",
      "metadata": {
        "colab": {
          "base_uri": "https://localhost:8080/"
        },
        "id": "Q2faeoHQlFKf",
        "outputId": "dff54031-86f5-4ef9-af71-f897b841be39"
      },
      "source": [
        "from google.colab import drive\n",
        "drive.mount('/content/drive', force_remount=True)"
      ],
      "execution_count": null,
      "outputs": [
        {
          "output_type": "stream",
          "name": "stdout",
          "text": [
            "Mounted at /content/drive\n"
          ]
        }
      ]
    },
    {
      "cell_type": "code",
      "metadata": {
        "id": "NpQkxQ47Epzq"
      },
      "source": [
        "import pandas as pd"
      ],
      "execution_count": null,
      "outputs": []
    },
    {
      "cell_type": "code",
      "metadata": {
        "colab": {
          "base_uri": "https://localhost:8080/"
        },
        "id": "uV3ogPzhF8nb",
        "outputId": "06dc4dec-a41a-4a1a-86bd-e028f3700392"
      },
      "source": [
        "df1 = pd.read_csv(\"/content/drive/MyDrive/Datasets/airline_delay2001.csv\", encoding='latin-1')\n",
        "df2 = pd.read_csv(\"/content/drive/MyDrive/Datasets/airline_delay2006.csv\")\n",
        "df3 = pd.read_csv(\"/content/drive/MyDrive/Datasets/airline_delay2011.csv\")\n",
        "df4 = pd.read_csv(\"/content/drive/MyDrive/Datasets/airline_delay2016.csv\")"
      ],
      "execution_count": null,
      "outputs": [
        {
          "output_type": "stream",
          "name": "stderr",
          "text": [
            "<ipython-input-4-0f8cf80bd68b>:2: DtypeWarning: Columns (77) have mixed types. Specify dtype option on import or set low_memory=False.\n",
            "  df2 = pd.read_csv(\"/content/drive/MyDrive/Datasets/airline_delay2006.csv\")\n",
            "<ipython-input-4-0f8cf80bd68b>:3: DtypeWarning: Columns (77,84) have mixed types. Specify dtype option on import or set low_memory=False.\n",
            "  df3 = pd.read_csv(\"/content/drive/MyDrive/Datasets/airline_delay2011.csv\")\n",
            "<ipython-input-4-0f8cf80bd68b>:4: DtypeWarning: Columns (77) have mixed types. Specify dtype option on import or set low_memory=False.\n",
            "  df4 = pd.read_csv(\"/content/drive/MyDrive/Datasets/airline_delay2016.csv\")\n"
          ]
        }
      ]
    },
    {
      "cell_type": "markdown",
      "metadata": {
        "id": "JVUV4ff2v9iB"
      },
      "source": [
        "Combining all the dataframes together"
      ]
    },
    {
      "cell_type": "code",
      "metadata": {
        "colab": {
          "base_uri": "https://localhost:8080/"
        },
        "id": "Cu6G_Ns2F8q3",
        "outputId": "4e166d8b-92ed-4b24-8424-5b53e9fa7372"
      },
      "source": [
        "frames = [df1, df2, df3, df4]\n",
        "df = pd.concat(frames)\n",
        "df.shape"
      ],
      "execution_count": null,
      "outputs": [
        {
          "output_type": "execute_result",
          "data": {
            "text/plain": [
              "(691086, 109)"
            ]
          },
          "metadata": {},
          "execution_count": 5
        }
      ]
    },
    {
      "cell_type": "markdown",
      "metadata": {
        "id": "3JmMFf78wcju"
      },
      "source": [
        "The column names(features) of dataframe"
      ]
    },
    {
      "cell_type": "code",
      "metadata": {
        "colab": {
          "base_uri": "https://localhost:8080/"
        },
        "id": "YHpP3DKiF8uI",
        "outputId": "35016e73-9edf-4b99-b0cc-48888d6f6da1"
      },
      "source": [
        "df.columns"
      ],
      "execution_count": null,
      "outputs": [
        {
          "output_type": "execute_result",
          "data": {
            "text/plain": [
              "Index(['Year', 'Quarter', 'Month', 'DayofMonth', 'DayOfWeek', 'FlightDate',\n",
              "       'Reporting_Airline', 'DOT_ID_Reporting_Airline',\n",
              "       'IATA_CODE_Reporting_Airline', 'Tail_Number',\n",
              "       ...\n",
              "       'Div4WheelsOff', 'Div4TailNum', 'Div5Airport', 'Div5AirportID',\n",
              "       'Div5AirportSeqID', 'Div5WheelsOn', 'Div5TotalGTime',\n",
              "       'Div5LongestGTime', 'Div5WheelsOff', 'Div5TailNum'],\n",
              "      dtype='object', length=109)"
            ]
          },
          "metadata": {},
          "execution_count": 6
        }
      ]
    },
    {
      "cell_type": "markdown",
      "metadata": {
        "id": "SNSYJopnw4p-"
      },
      "source": [
        "However, out of 109 columns we require only 50 for our analysis. Hence we remove the others for quicker processing. First convert combined dataframe into csv file and delete the columns manually in excel"
      ]
    },
    {
      "cell_type": "code",
      "metadata": {
        "id": "4jW5bGaPF8xd"
      },
      "source": [
        "df.to_csv('airline_delay2000-2020.csv')"
      ],
      "execution_count": null,
      "outputs": []
    },
    {
      "cell_type": "markdown",
      "metadata": {
        "id": "MQLNlSfn7I6a"
      },
      "source": [
        "The new df with 50 columns"
      ]
    },
    {
      "cell_type": "code",
      "metadata": {
        "colab": {
          "base_uri": "https://localhost:8080/"
        },
        "id": "DdyNnnthF801",
        "outputId": "bc1ce85c-523e-4f67-83f2-e6dd26972f58"
      },
      "source": [
        "import pandas as pd\n",
        "dfn = pd.read_csv('/content/drive/MyDrive/Datasets/airline_delay2000-2020.csv')\n",
        "dfn.shape"
      ],
      "execution_count": null,
      "outputs": [
        {
          "output_type": "execute_result",
          "data": {
            "text/plain": [
              "(691086, 51)"
            ]
          },
          "metadata": {},
          "execution_count": 8
        }
      ]
    },
    {
      "cell_type": "code",
      "metadata": {
        "colab": {
          "base_uri": "https://localhost:8080/"
        },
        "id": "R0w5TCHzF840",
        "outputId": "007bd47a-ca80-428d-87bb-7acd07eaa991"
      },
      "source": [
        "dfn.columns"
      ],
      "execution_count": null,
      "outputs": [
        {
          "output_type": "execute_result",
          "data": {
            "text/plain": [
              "Index(['Unnamed: 0', 'Year', 'Quarter', 'Month', 'DayofMonth', 'DayOfWeek',\n",
              "       'FlightDate', 'ReportingAirline', 'TailNumber',\n",
              "       'FlightNumberReportingAirline', 'OriginAirportID', 'OriginCityMarketID',\n",
              "       'Origin', 'OriginCityName', 'OriginState', 'OriginStateName',\n",
              "       'OriginWac', 'DestAirportID', 'DestCityMarketID', 'Dest',\n",
              "       'DestCityName', 'DestState', 'DestStateName', 'DestWac', 'CRSDepTime',\n",
              "       'DepTime', 'DepDelay', 'DepartureDelayGroups', 'DepTimeBlk', 'TaxiOut',\n",
              "       'WheelsOff', 'WheelsOn', 'TaxiIn', 'CRSArrTime', 'ArrTime', 'ArrDelay',\n",
              "       'ArrivalDelayGroups', 'ArrTimeBlk', 'Cancelled', 'CancellationCode',\n",
              "       'Diverted', 'CRSElapsedTime', 'ActualElapsedTime', 'AirTime',\n",
              "       'Distance', 'DistanceGroup', 'CarrierDelay', 'WeatherDelay', 'NASDelay',\n",
              "       'SecurityDelay', 'LateAircraftDelay'],\n",
              "      dtype='object')"
            ]
          },
          "metadata": {},
          "execution_count": 9
        }
      ]
    },
    {
      "cell_type": "code",
      "metadata": {
        "id": "KYVkAv25diY6",
        "colab": {
          "base_uri": "https://localhost:8080/"
        },
        "outputId": "813f6198-5890-47e8-ecdb-73c1ac85814b"
      },
      "source": [
        "dfn.OriginAirportID.value_counts()"
      ],
      "execution_count": null,
      "outputs": [
        {
          "output_type": "execute_result",
          "data": {
            "text/plain": [
              "10397    41359\n",
              "13930    35308\n",
              "11298    30308\n",
              "12892    22884\n",
              "11292    22615\n",
              "         ...  \n",
              "15502        2\n",
              "14802        2\n",
              "12898        1\n",
              "13347        1\n",
              "10466        1\n",
              "Name: OriginAirportID, Length: 361, dtype: int64"
            ]
          },
          "metadata": {},
          "execution_count": 10
        }
      ]
    },
    {
      "cell_type": "code",
      "metadata": {
        "colab": {
          "base_uri": "https://localhost:8080/"
        },
        "id": "UVRu-Eqbd_HG",
        "outputId": "f77238d9-1515-46d6-98bd-14fcd46c8ef6"
      },
      "source": [
        "dfn.OriginCityName.value_counts()"
      ],
      "execution_count": null,
      "outputs": [
        {
          "output_type": "execute_result",
          "data": {
            "text/plain": [
              "Chicago, IL              44159\n",
              "Atlanta, GA              41359\n",
              "Dallas/Fort Worth, TX    30308\n",
              "Houston, TX              25443\n",
              "Los Angeles, CA          22884\n",
              "                         ...  \n",
              "Moab, UT                     2\n",
              "Moses Lake, WA               2\n",
              "Staunton, VA                 2\n",
              "Hoolehua, HI                 1\n",
              "Latrobe, PA                  1\n",
              "Name: OriginCityName, Length: 353, dtype: int64"
            ]
          },
          "metadata": {},
          "execution_count": 11
        }
      ]
    },
    {
      "cell_type": "code",
      "metadata": {
        "id": "DpwGIaw5eTlc",
        "colab": {
          "base_uri": "https://localhost:8080/"
        },
        "outputId": "8ca66691-925d-44b3-dcce-829b430cd884"
      },
      "source": [
        "from IPython.display import display, HTML\n",
        "\n",
        "CSS = \"\"\"\n",
        ".output {\n",
        "    flex-direction: column;\n",
        "}\n",
        "\"\"\"\n",
        "\n",
        "HTML('<style>{}</style>'.format(CSS))\n",
        "\n",
        "ds = dfn.DestStateName.value_counts()\n",
        "os = dfn.OriginStateName.value_counts()\n",
        "\n",
        "display(os)\n",
        "display(ds)"
      ],
      "execution_count": null,
      "outputs": [
        {
          "output_type": "display_data",
          "data": {
            "text/plain": [
              "California                                        82096\n",
              "Texas                                             78262\n",
              "Florida                                           46723\n",
              "Illinois                                          46117\n",
              "Georgia                                           43322\n",
              "New York                                          31422\n",
              "Colorado                                          25732\n",
              "Arizona                                           22287\n",
              "Virginia                                          21799\n",
              "North Carolina                                    20695\n",
              "Nevada                                            19351\n",
              "Michigan                                          18919\n",
              "Pennsylvania                                      16699\n",
              "Minnesota                                         14410\n",
              "New Jersey                                        13760\n",
              "Missouri                                          13631\n",
              "Tennessee                                         13628\n",
              "Utah                                              13427\n",
              "Washington                                        12771\n",
              "Massachusetts                                     12684\n",
              "Ohio                                              12615\n",
              "Kentucky                                          11555\n",
              "Maryland                                          10516\n",
              "Hawaii                                            10261\n",
              "Louisiana                                          7088\n",
              "Oregon                                             7070\n",
              "Wisconsin                                          6065\n",
              "Indiana                                            5270\n",
              "Oklahoma                                           4944\n",
              "Alaska                                             4312\n",
              "Alabama                                            4124\n",
              "South Carolina                                     4074\n",
              "New Mexico                                         3902\n",
              "Arkansas                                           3387\n",
              "Connecticut                                        2858\n",
              "Puerto Rico                                        2778\n",
              "Nebraska                                           2706\n",
              "Idaho                                              2495\n",
              "Iowa                                               2396\n",
              "Rhode Island                                       2290\n",
              "Montana                                            2057\n",
              "Mississippi                                        1903\n",
              "New Hampshire                                      1681\n",
              "Kansas                                             1323\n",
              "North Dakota                                       1120\n",
              "Maine                                              1087\n",
              "South Dakota                                       1032\n",
              "Wyoming                                             922\n",
              "Vermont                                             624\n",
              "West Virginia                                       452\n",
              "U.S. Virgin Islands                                 418\n",
              "Delaware                                             16\n",
              "U.S. Pacific Trust Territories and Possessions       10\n",
              "Name: OriginStateName, dtype: int64"
            ]
          },
          "metadata": {}
        },
        {
          "output_type": "display_data",
          "data": {
            "text/plain": [
              "California                                        82079\n",
              "Texas                                             77898\n",
              "Florida                                           46523\n",
              "Illinois                                          46464\n",
              "Georgia                                           43195\n",
              "New York                                          31595\n",
              "Colorado                                          25604\n",
              "Arizona                                           22642\n",
              "Virginia                                          21594\n",
              "North Carolina                                    20607\n",
              "Nevada                                            19227\n",
              "Michigan                                          18563\n",
              "Pennsylvania                                      16658\n",
              "Minnesota                                         14389\n",
              "Missouri                                          14072\n",
              "Tennessee                                         13961\n",
              "New Jersey                                        13940\n",
              "Utah                                              13496\n",
              "Washington                                        12909\n",
              "Massachusetts                                     12540\n",
              "Ohio                                              12524\n",
              "Kentucky                                          11523\n",
              "Maryland                                          10785\n",
              "Hawaii                                            10077\n",
              "Oregon                                             7173\n",
              "Louisiana                                          7094\n",
              "Wisconsin                                          6184\n",
              "Indiana                                            5323\n",
              "Oklahoma                                           4782\n",
              "Alaska                                             4308\n",
              "Alabama                                            4244\n",
              "South Carolina                                     3929\n",
              "New Mexico                                         3823\n",
              "Arkansas                                           3401\n",
              "Connecticut                                        2955\n",
              "Nebraska                                           2786\n",
              "Puerto Rico                                        2695\n",
              "Idaho                                              2403\n",
              "Iowa                                               2385\n",
              "Rhode Island                                       2278\n",
              "Montana                                            1984\n",
              "Mississippi                                        1839\n",
              "New Hampshire                                      1709\n",
              "Kansas                                             1284\n",
              "South Dakota                                       1105\n",
              "North Dakota                                       1087\n",
              "Maine                                              1047\n",
              "Wyoming                                             900\n",
              "Vermont                                             589\n",
              "West Virginia                                       461\n",
              "U.S. Virgin Islands                                 424\n",
              "Delaware                                             21\n",
              "U.S. Pacific Trust Territories and Possessions        8\n",
              "Name: DestStateName, dtype: int64"
            ]
          },
          "metadata": {}
        }
      ]
    },
    {
      "cell_type": "markdown",
      "metadata": {
        "id": "_gOhNYPV7mNp"
      },
      "source": [
        "Finding missing values"
      ]
    },
    {
      "cell_type": "code",
      "metadata": {
        "colab": {
          "base_uri": "https://localhost:8080/"
        },
        "id": "JOMmQy9U7gDn",
        "outputId": "40a8351c-841e-4800-9261-0cfff42b6df3"
      },
      "source": [
        "print(dfn.isna().sum())\n",
        "\n",
        "%matplotlib inline\n",
        "import missingno as msno\n",
        "msno.matrix(dfn)\n"
      ],
      "execution_count": null,
      "outputs": [
        {
          "output_type": "stream",
          "name": "stdout",
          "text": [
            "Unnamed: 0                           0\n",
            "Year                                 0\n",
            "Quarter                              0\n",
            "Month                                0\n",
            "DayofMonth                           0\n",
            "DayOfWeek                            0\n",
            "FlightDate                           0\n",
            "ReportingAirline                     0\n",
            "TailNumber                        5381\n",
            "FlightNumberReportingAirline         0\n",
            "OriginAirportID                      0\n",
            "OriginCityMarketID                   0\n",
            "Origin                               0\n",
            "OriginCityName                       0\n",
            "OriginState                          0\n",
            "OriginStateName                      0\n",
            "OriginWac                            0\n",
            "DestAirportID                        0\n",
            "DestCityMarketID                     0\n",
            "Dest                                 0\n",
            "DestCityName                         0\n",
            "DestState                            0\n",
            "DestStateName                        0\n",
            "DestWac                              0\n",
            "CRSDepTime                           1\n",
            "DepTime                          12521\n",
            "DepDelay                         12521\n",
            "DepartureDelayGroups             12521\n",
            "DepTimeBlk                           1\n",
            "TaxiOut                          12672\n",
            "WheelsOff                        12681\n",
            "WheelsOn                         13720\n",
            "TaxiIn                           13697\n",
            "CRSArrTime                           1\n",
            "ArrTime                          13697\n",
            "ArrDelay                         14395\n",
            "ArrivalDelayGroups               14395\n",
            "ArrTimeBlk                           1\n",
            "Cancelled                            1\n",
            "CancellationCode                680074\n",
            "Diverted                             1\n",
            "CRSElapsedTime                      27\n",
            "ActualElapsedTime                14395\n",
            "AirTime                          14395\n",
            "Distance                             1\n",
            "DistanceGroup                        1\n",
            "CarrierDelay                    563864\n",
            "WeatherDelay                    563864\n",
            "NASDelay                        563864\n",
            "SecurityDelay                   563864\n",
            "LateAircraftDelay               563864\n",
            "dtype: int64\n"
          ]
        },
        {
          "output_type": "execute_result",
          "data": {
            "text/plain": [
              "<Axes: >"
            ]
          },
          "metadata": {},
          "execution_count": 13
        },
        {
          "output_type": "display_data",
          "data": {
            "text/plain": [
              "<Figure size 2500x1000 with 2 Axes>"
            ],
            "image/png": "[encoded data removed]"
          },
          "metadata": {}
        }
      ]
    },
    {
      "cell_type": "markdown",
      "metadata": {
        "id": "9HKgXrUt83ZD"
      },
      "source": [
        "To find out correlations between variables. The dendrogram allows to more fully correlate variable completion, revealing deeper trends."
      ]
    },
    {
      "cell_type": "code",
      "metadata": {
        "colab": {
          "base_uri": "https://localhost:8080/"
        },
        "id": "DvHsVl927gHV",
        "outputId": "d2cb7ae5-48a5-4207-cddb-6c07a29a67b2"
      },
      "source": [
        "msno.dendrogram(dfn)"
      ],
      "execution_count": null,
      "outputs": [
        {
          "output_type": "execute_result",
          "data": {
            "text/plain": [
              "<Axes: >"
            ]
          },
          "metadata": {},
          "execution_count": 14
        },
        {
          "output_type": "display_data",
          "data": {
            "text/plain": [
              "<Figure size 2500x1300 with 1 Axes>"
            ],
            "image/png": "[encoded data removed]"
          },
          "metadata": {}
        }
      ]
    },
    {
      "cell_type": "code",
      "metadata": {
        "colab": {
          "base_uri": "https://localhost:8080/"
        },
        "id": "iVL2N0Wj7gUE",
        "outputId": "1d7ba705-ef5e-4caf-b58c-12dbcbc6a233"
      },
      "source": [
        "import seaborn as sns\n",
        "df_sub = dfn[['TailNumber','ArrDelay','DepDelay', 'AirTime','ActualElapsedTime', 'TaxiIn','TaxiOut','Distance', 'CarrierDelay', 'WeatherDelay', 'NASDelay', 'SecurityDelay', 'LateAircraftDelay']]\n",
        "sns.heatmap(df_sub.corr())"
      ],
      "execution_count": null,
      "outputs": [
        {
          "output_type": "stream",
          "name": "stderr",
          "text": [
            "<ipython-input-15-edf89a827f22>:3: FutureWarning: The default value of numeric_only in DataFrame.corr is deprecated. In a future version, it will default to False. Select only valid columns or specify the value of numeric_only to silence this warning.\n",
            "  sns.heatmap(df_sub.corr())\n"
          ]
        },
        {
          "output_type": "execute_result",
          "data": {
            "text/plain": [
              "<Axes: >"
            ]
          },
          "metadata": {},
          "execution_count": 15
        },
        {
          "output_type": "display_data",
          "data": {
            "text/plain": [
              "<Figure size 640x480 with 2 Axes>"
            ],
            "image/png": "[encoded data removed]"
          },
          "metadata": {}
        }
      ]
    },
    {
      "cell_type": "markdown",
      "metadata": {
        "id": "X3WB1IND-2aO"
      },
      "source": [
        "\n",
        "**Based on the Heat Map above**\n",
        "1.  Nullity correlation ranges from -1 (if one variable appears the other definitely does not) to 0 (variables appearing or not appearing have no effect on one another) to 1 (if one variable appears the other definitely also does).\n",
        "2.   Variables that are always full or always empty have no meaningful correlation, and so are silently removed.\n",
        "\n",
        "\n"
      ]
    },
    {
      "cell_type": "code",
      "metadata": {
        "colab": {
          "base_uri": "https://localhost:8080/",
          "height": 530
        },
        "id": "l0m5NnrhsNXY",
        "outputId": "ed846a7d-c89f-452d-a9c1-cbd7e7e4d555"
      },
      "source": [
        "import numpy as np\n",
        "df_sub['TotalDelay'] = df_sub['NASDelay']+df_sub['LateAircraftDelay']+df_sub['SecurityDelay']+df_sub['WeatherDelay']+df_sub['CarrierDelay']\n",
        "df_sub['GroundTime'] = df_sub['ActualElapsedTime'] - df_sub['AirTime']\n",
        "\n",
        "df_sub['TotalDelay'] = df_sub['TotalDelay'].replace(np.nan, 0)\n",
        "df_sub.tail(5)"
      ],
      "execution_count": null,
      "outputs": [
        {
          "output_type": "stream",
          "text": [
            "/usr/local/lib/python3.7/dist-packages/ipykernel_launcher.py:2: SettingWithCopyWarning: \n",
            "A value is trying to be set on a copy of a slice from a DataFrame.\n",
            "Try using .loc[row_indexer,col_indexer] = value instead\n",
            "\n",
            "See the caveats in the documentation: https://pandas.pydata.org/pandas-docs/stable/user_guide/indexing.html#returning-a-view-versus-a-copy\n",
            "  \n",
            "/usr/local/lib/python3.7/dist-packages/ipykernel_launcher.py:3: SettingWithCopyWarning: \n",
            "A value is trying to be set on a copy of a slice from a DataFrame.\n",
            "Try using .loc[row_indexer,col_indexer] = value instead\n",
            "\n",
            "See the caveats in the documentation: https://pandas.pydata.org/pandas-docs/stable/user_guide/indexing.html#returning-a-view-versus-a-copy\n",
            "  This is separate from the ipykernel package so we can avoid doing imports until\n",
            "/usr/local/lib/python3.7/dist-packages/ipykernel_launcher.py:5: SettingWithCopyWarning: \n",
            "A value is trying to be set on a copy of a slice from a DataFrame.\n",
            "Try using .loc[row_indexer,col_indexer] = value instead\n",
            "\n",
            "See the caveats in the documentation: https://pandas.pydata.org/pandas-docs/stable/user_guide/indexing.html#returning-a-view-versus-a-copy\n",
            "  \"\"\"\n"
          ],
          "name": "stderr"
        },
        {
          "output_type": "execute_result",
          "data": {
            "text/html": [
              "<div>\n",
              "<style scoped>\n",
              "    .dataframe tbody tr th:only-of-type {\n",
              "        vertical-align: middle;\n",
              "    }\n",
              "\n",
              "    .dataframe tbody tr th {\n",
              "        vertical-align: top;\n",
              "    }\n",
              "\n",
              "    .dataframe thead th {\n",
              "        text-align: right;\n",
              "    }\n",
              "</style>\n",
              "<table border=\"1\" class=\"dataframe\">\n",
              "  <thead>\n",
              "    <tr style=\"text-align: right;\">\n",
              "      <th></th>\n",
              "      <th>TailNumber</th>\n",
              "      <th>ArrDelay</th>\n",
              "      <th>DepDelay</th>\n",
              "      <th>AirTime</th>\n",
              "      <th>ActualElapsedTime</th>\n",
              "      <th>TaxiIn</th>\n",
              "      <th>TaxiOut</th>\n",
              "      <th>Distance</th>\n",
              "      <th>CarrierDelay</th>\n",
              "      <th>WeatherDelay</th>\n",
              "      <th>NASDelay</th>\n",
              "      <th>SecurityDelay</th>\n",
              "      <th>LateAircraftDelay</th>\n",
              "      <th>TotalDelay</th>\n",
              "      <th>GroundTime</th>\n",
              "    </tr>\n",
              "  </thead>\n",
              "  <tbody>\n",
              "    <tr>\n",
              "      <th>691081</th>\n",
              "      <td>N216WR</td>\n",
              "      <td>20.0</td>\n",
              "      <td>15.0</td>\n",
              "      <td>36.0</td>\n",
              "      <td>65.0</td>\n",
              "      <td>4.0</td>\n",
              "      <td>25.0</td>\n",
              "      <td>197.0</td>\n",
              "      <td>0.0</td>\n",
              "      <td>0.0</td>\n",
              "      <td>5.0</td>\n",
              "      <td>0.0</td>\n",
              "      <td>15.0</td>\n",
              "      <td>20.0</td>\n",
              "      <td>29.0</td>\n",
              "    </tr>\n",
              "    <tr>\n",
              "      <th>691082</th>\n",
              "      <td>N278WN</td>\n",
              "      <td>22.0</td>\n",
              "      <td>20.0</td>\n",
              "      <td>58.0</td>\n",
              "      <td>72.0</td>\n",
              "      <td>3.0</td>\n",
              "      <td>11.0</td>\n",
              "      <td>362.0</td>\n",
              "      <td>0.0</td>\n",
              "      <td>0.0</td>\n",
              "      <td>2.0</td>\n",
              "      <td>0.0</td>\n",
              "      <td>20.0</td>\n",
              "      <td>22.0</td>\n",
              "      <td>14.0</td>\n",
              "    </tr>\n",
              "    <tr>\n",
              "      <th>691083</th>\n",
              "      <td>N27314</td>\n",
              "      <td>-11.0</td>\n",
              "      <td>-3.0</td>\n",
              "      <td>73.0</td>\n",
              "      <td>88.0</td>\n",
              "      <td>8.0</td>\n",
              "      <td>7.0</td>\n",
              "      <td>509.0</td>\n",
              "      <td>NaN</td>\n",
              "      <td>NaN</td>\n",
              "      <td>NaN</td>\n",
              "      <td>NaN</td>\n",
              "      <td>NaN</td>\n",
              "      <td>0.0</td>\n",
              "      <td>15.0</td>\n",
              "    </tr>\n",
              "    <tr>\n",
              "      <th>691084</th>\n",
              "      <td>N719MQ</td>\n",
              "      <td>-10.0</td>\n",
              "      <td>-2.0</td>\n",
              "      <td>39.0</td>\n",
              "      <td>57.0</td>\n",
              "      <td>5.0</td>\n",
              "      <td>13.0</td>\n",
              "      <td>227.0</td>\n",
              "      <td>NaN</td>\n",
              "      <td>NaN</td>\n",
              "      <td>NaN</td>\n",
              "      <td>NaN</td>\n",
              "      <td>NaN</td>\n",
              "      <td>0.0</td>\n",
              "      <td>18.0</td>\n",
              "    </tr>\n",
              "    <tr>\n",
              "      <th>691085</th>\n",
              "      <td>N444WN</td>\n",
              "      <td>26.0</td>\n",
              "      <td>23.0</td>\n",
              "      <td>57.0</td>\n",
              "      <td>78.0</td>\n",
              "      <td>5.0</td>\n",
              "      <td>16.0</td>\n",
              "      <td>304.0</td>\n",
              "      <td>0.0</td>\n",
              "      <td>0.0</td>\n",
              "      <td>3.0</td>\n",
              "      <td>0.0</td>\n",
              "      <td>23.0</td>\n",
              "      <td>26.0</td>\n",
              "      <td>21.0</td>\n",
              "    </tr>\n",
              "  </tbody>\n",
              "</table>\n",
              "</div>"
            ],
            "text/plain": [
              "       TailNumber  ArrDelay  ...  TotalDelay  GroundTime\n",
              "691081     N216WR      20.0  ...        20.0        29.0\n",
              "691082     N278WN      22.0  ...        22.0        14.0\n",
              "691083     N27314     -11.0  ...         0.0        15.0\n",
              "691084     N719MQ     -10.0  ...         0.0        18.0\n",
              "691085     N444WN      26.0  ...        26.0        21.0\n",
              "\n",
              "[5 rows x 15 columns]"
            ]
          },
          "metadata": {
            "tags": []
          },
          "execution_count": 7
        }
      ]
    },
    {
      "cell_type": "code",
      "metadata": {
        "colab": {
          "base_uri": "https://localhost:8080/",
          "height": 583
        },
        "id": "EwlBZa0PxPrE",
        "outputId": "6043cf80-8d24-4a7b-df94-4ba7295a6b4f"
      },
      "source": [
        "df_sub['DelayCheck'] = np.where(df_sub['TotalDelay']!= 0.0, True, False)\n",
        "df_sub[\"DelayCheck\"] = df_sub[\"DelayCheck\"].astype(int)\n",
        "df_sub.tail(10)"
      ],
      "execution_count": null,
      "outputs": [
        {
          "output_type": "stream",
          "text": [
            "/usr/local/lib/python3.7/dist-packages/ipykernel_launcher.py:1: SettingWithCopyWarning: \n",
            "A value is trying to be set on a copy of a slice from a DataFrame.\n",
            "Try using .loc[row_indexer,col_indexer] = value instead\n",
            "\n",
            "See the caveats in the documentation: https://pandas.pydata.org/pandas-docs/stable/user_guide/indexing.html#returning-a-view-versus-a-copy\n",
            "  \"\"\"Entry point for launching an IPython kernel.\n",
            "/usr/local/lib/python3.7/dist-packages/ipykernel_launcher.py:2: SettingWithCopyWarning: \n",
            "A value is trying to be set on a copy of a slice from a DataFrame.\n",
            "Try using .loc[row_indexer,col_indexer] = value instead\n",
            "\n",
            "See the caveats in the documentation: https://pandas.pydata.org/pandas-docs/stable/user_guide/indexing.html#returning-a-view-versus-a-copy\n",
            "  \n"
          ],
          "name": "stderr"
        },
        {
          "output_type": "execute_result",
          "data": {
            "text/html": [
              "<div>\n",
              "<style scoped>\n",
              "    .dataframe tbody tr th:only-of-type {\n",
              "        vertical-align: middle;\n",
              "    }\n",
              "\n",
              "    .dataframe tbody tr th {\n",
              "        vertical-align: top;\n",
              "    }\n",
              "\n",
              "    .dataframe thead th {\n",
              "        text-align: right;\n",
              "    }\n",
              "</style>\n",
              "<table border=\"1\" class=\"dataframe\">\n",
              "  <thead>\n",
              "    <tr style=\"text-align: right;\">\n",
              "      <th></th>\n",
              "      <th>TailNumber</th>\n",
              "      <th>ArrDelay</th>\n",
              "      <th>DepDelay</th>\n",
              "      <th>AirTime</th>\n",
              "      <th>ActualElapsedTime</th>\n",
              "      <th>TaxiIn</th>\n",
              "      <th>TaxiOut</th>\n",
              "      <th>Distance</th>\n",
              "      <th>CarrierDelay</th>\n",
              "      <th>WeatherDelay</th>\n",
              "      <th>NASDelay</th>\n",
              "      <th>SecurityDelay</th>\n",
              "      <th>LateAircraftDelay</th>\n",
              "      <th>TotalDelay</th>\n",
              "      <th>GroundTime</th>\n",
              "      <th>DelayCheck</th>\n",
              "    </tr>\n",
              "  </thead>\n",
              "  <tbody>\n",
              "    <tr>\n",
              "      <th>691076</th>\n",
              "      <td>N637DL</td>\n",
              "      <td>-16.0</td>\n",
              "      <td>1.0</td>\n",
              "      <td>249.0</td>\n",
              "      <td>272.0</td>\n",
              "      <td>9.0</td>\n",
              "      <td>14.0</td>\n",
              "      <td>1964.0</td>\n",
              "      <td>NaN</td>\n",
              "      <td>NaN</td>\n",
              "      <td>NaN</td>\n",
              "      <td>NaN</td>\n",
              "      <td>NaN</td>\n",
              "      <td>0.0</td>\n",
              "      <td>23.0</td>\n",
              "      <td>0</td>\n",
              "    </tr>\n",
              "    <tr>\n",
              "      <th>691077</th>\n",
              "      <td>N891AT</td>\n",
              "      <td>20.0</td>\n",
              "      <td>5.0</td>\n",
              "      <td>136.0</td>\n",
              "      <td>162.0</td>\n",
              "      <td>6.0</td>\n",
              "      <td>20.0</td>\n",
              "      <td>936.0</td>\n",
              "      <td>5.0</td>\n",
              "      <td>0.0</td>\n",
              "      <td>15.0</td>\n",
              "      <td>0.0</td>\n",
              "      <td>0.0</td>\n",
              "      <td>20.0</td>\n",
              "      <td>26.0</td>\n",
              "      <td>1</td>\n",
              "    </tr>\n",
              "    <tr>\n",
              "      <th>691078</th>\n",
              "      <td>N511AU</td>\n",
              "      <td>-9.0</td>\n",
              "      <td>-2.0</td>\n",
              "      <td>34.0</td>\n",
              "      <td>49.0</td>\n",
              "      <td>5.0</td>\n",
              "      <td>10.0</td>\n",
              "      <td>130.0</td>\n",
              "      <td>NaN</td>\n",
              "      <td>NaN</td>\n",
              "      <td>NaN</td>\n",
              "      <td>NaN</td>\n",
              "      <td>NaN</td>\n",
              "      <td>0.0</td>\n",
              "      <td>15.0</td>\n",
              "      <td>0</td>\n",
              "    </tr>\n",
              "    <tr>\n",
              "      <th>691079</th>\n",
              "      <td>N4YAAA</td>\n",
              "      <td>11.0</td>\n",
              "      <td>-2.0</td>\n",
              "      <td>181.0</td>\n",
              "      <td>208.0</td>\n",
              "      <td>9.0</td>\n",
              "      <td>18.0</td>\n",
              "      <td>1440.0</td>\n",
              "      <td>NaN</td>\n",
              "      <td>NaN</td>\n",
              "      <td>NaN</td>\n",
              "      <td>NaN</td>\n",
              "      <td>NaN</td>\n",
              "      <td>0.0</td>\n",
              "      <td>27.0</td>\n",
              "      <td>0</td>\n",
              "    </tr>\n",
              "    <tr>\n",
              "      <th>691080</th>\n",
              "      <td>N526AA</td>\n",
              "      <td>-25.0</td>\n",
              "      <td>1.0</td>\n",
              "      <td>94.0</td>\n",
              "      <td>114.0</td>\n",
              "      <td>9.0</td>\n",
              "      <td>11.0</td>\n",
              "      <td>732.0</td>\n",
              "      <td>NaN</td>\n",
              "      <td>NaN</td>\n",
              "      <td>NaN</td>\n",
              "      <td>NaN</td>\n",
              "      <td>NaN</td>\n",
              "      <td>0.0</td>\n",
              "      <td>20.0</td>\n",
              "      <td>0</td>\n",
              "    </tr>\n",
              "    <tr>\n",
              "      <th>691081</th>\n",
              "      <td>N216WR</td>\n",
              "      <td>20.0</td>\n",
              "      <td>15.0</td>\n",
              "      <td>36.0</td>\n",
              "      <td>65.0</td>\n",
              "      <td>4.0</td>\n",
              "      <td>25.0</td>\n",
              "      <td>197.0</td>\n",
              "      <td>0.0</td>\n",
              "      <td>0.0</td>\n",
              "      <td>5.0</td>\n",
              "      <td>0.0</td>\n",
              "      <td>15.0</td>\n",
              "      <td>20.0</td>\n",
              "      <td>29.0</td>\n",
              "      <td>1</td>\n",
              "    </tr>\n",
              "    <tr>\n",
              "      <th>691082</th>\n",
              "      <td>N278WN</td>\n",
              "      <td>22.0</td>\n",
              "      <td>20.0</td>\n",
              "      <td>58.0</td>\n",
              "      <td>72.0</td>\n",
              "      <td>3.0</td>\n",
              "      <td>11.0</td>\n",
              "      <td>362.0</td>\n",
              "      <td>0.0</td>\n",
              "      <td>0.0</td>\n",
              "      <td>2.0</td>\n",
              "      <td>0.0</td>\n",
              "      <td>20.0</td>\n",
              "      <td>22.0</td>\n",
              "      <td>14.0</td>\n",
              "      <td>1</td>\n",
              "    </tr>\n",
              "    <tr>\n",
              "      <th>691083</th>\n",
              "      <td>N27314</td>\n",
              "      <td>-11.0</td>\n",
              "      <td>-3.0</td>\n",
              "      <td>73.0</td>\n",
              "      <td>88.0</td>\n",
              "      <td>8.0</td>\n",
              "      <td>7.0</td>\n",
              "      <td>509.0</td>\n",
              "      <td>NaN</td>\n",
              "      <td>NaN</td>\n",
              "      <td>NaN</td>\n",
              "      <td>NaN</td>\n",
              "      <td>NaN</td>\n",
              "      <td>0.0</td>\n",
              "      <td>15.0</td>\n",
              "      <td>0</td>\n",
              "    </tr>\n",
              "    <tr>\n",
              "      <th>691084</th>\n",
              "      <td>N719MQ</td>\n",
              "      <td>-10.0</td>\n",
              "      <td>-2.0</td>\n",
              "      <td>39.0</td>\n",
              "      <td>57.0</td>\n",
              "      <td>5.0</td>\n",
              "      <td>13.0</td>\n",
              "      <td>227.0</td>\n",
              "      <td>NaN</td>\n",
              "      <td>NaN</td>\n",
              "      <td>NaN</td>\n",
              "      <td>NaN</td>\n",
              "      <td>NaN</td>\n",
              "      <td>0.0</td>\n",
              "      <td>18.0</td>\n",
              "      <td>0</td>\n",
              "    </tr>\n",
              "    <tr>\n",
              "      <th>691085</th>\n",
              "      <td>N444WN</td>\n",
              "      <td>26.0</td>\n",
              "      <td>23.0</td>\n",
              "      <td>57.0</td>\n",
              "      <td>78.0</td>\n",
              "      <td>5.0</td>\n",
              "      <td>16.0</td>\n",
              "      <td>304.0</td>\n",
              "      <td>0.0</td>\n",
              "      <td>0.0</td>\n",
              "      <td>3.0</td>\n",
              "      <td>0.0</td>\n",
              "      <td>23.0</td>\n",
              "      <td>26.0</td>\n",
              "      <td>21.0</td>\n",
              "      <td>1</td>\n",
              "    </tr>\n",
              "  </tbody>\n",
              "</table>\n",
              "</div>"
            ],
            "text/plain": [
              "       TailNumber  ArrDelay  DepDelay  ...  TotalDelay  GroundTime  DelayCheck\n",
              "691076     N637DL     -16.0       1.0  ...         0.0        23.0           0\n",
              "691077     N891AT      20.0       5.0  ...        20.0        26.0           1\n",
              "691078     N511AU      -9.0      -2.0  ...         0.0        15.0           0\n",
              "691079     N4YAAA      11.0      -2.0  ...         0.0        27.0           0\n",
              "691080     N526AA     -25.0       1.0  ...         0.0        20.0           0\n",
              "691081     N216WR      20.0      15.0  ...        20.0        29.0           1\n",
              "691082     N278WN      22.0      20.0  ...        22.0        14.0           1\n",
              "691083     N27314     -11.0      -3.0  ...         0.0        15.0           0\n",
              "691084     N719MQ     -10.0      -2.0  ...         0.0        18.0           0\n",
              "691085     N444WN      26.0      23.0  ...        26.0        21.0           1\n",
              "\n",
              "[10 rows x 16 columns]"
            ]
          },
          "metadata": {
            "tags": []
          },
          "execution_count": 8
        }
      ]
    },
    {
      "cell_type": "code",
      "metadata": {
        "colab": {
          "base_uri": "https://localhost:8080/"
        },
        "id": "xgI51drBD9za",
        "outputId": "ede7e338-0710-4794-abca-c9de81854d7f"
      },
      "source": [
        "df_sub.info()"
      ],
      "execution_count": null,
      "outputs": [
        {
          "output_type": "stream",
          "text": [
            "<class 'pandas.core.frame.DataFrame'>\n",
            "RangeIndex: 691086 entries, 0 to 691085\n",
            "Data columns (total 16 columns):\n",
            " #   Column             Non-Null Count   Dtype  \n",
            "---  ------             --------------   -----  \n",
            " 0   TailNumber         685705 non-null  object \n",
            " 1   ArrDelay           676691 non-null  float64\n",
            " 2   DepDelay           678565 non-null  float64\n",
            " 3   AirTime            676691 non-null  float64\n",
            " 4   ActualElapsedTime  676691 non-null  float64\n",
            " 5   TaxiIn             677389 non-null  float64\n",
            " 6   TaxiOut            678414 non-null  float64\n",
            " 7   Distance           691085 non-null  float64\n",
            " 8   CarrierDelay       127222 non-null  float64\n",
            " 9   WeatherDelay       127222 non-null  float64\n",
            " 10  NASDelay           127222 non-null  float64\n",
            " 11  SecurityDelay      127222 non-null  float64\n",
            " 12  LateAircraftDelay  127222 non-null  float64\n",
            " 13  TotalDelay         691086 non-null  float64\n",
            " 14  GroundTime         676691 non-null  float64\n",
            " 15  DelayCheck         691086 non-null  int64  \n",
            "dtypes: float64(14), int64(1), object(1)\n",
            "memory usage: 84.4+ MB\n"
          ],
          "name": "stdout"
        }
      ]
    },
    {
      "cell_type": "code",
      "metadata": {
        "id": "YH-DJPu-uxTn",
        "colab": {
          "base_uri": "https://localhost:8080/"
        },
        "outputId": "50357a38-87c5-40cc-86f9-9f6d8cd11192"
      },
      "source": [
        "import numpy as np\n",
        "df_sub['ActualElapsedTime'] = df_sub['ActualElapsedTime'].replace(np.nan, 0)\n",
        "df_sub['AirTime'] = df_sub['AirTime'].replace(np.nan, 0)\n",
        "df_sub['TaxiIn'] = df_sub['TaxiIn'].replace(np.nan, 0)\n",
        "df_sub['TaxiOut'] = df_sub['TaxiOut'].replace(np.nan, 0)\n",
        "\n",
        "\n",
        "df_sub = df_sub.assign(check = lambda x: (df_sub['ActualElapsedTime'] - df_sub['AirTime'] == df_sub['TaxiIn']+ df_sub['TaxiOut']))\n",
        "df_sub.head()\n",
        "df_sub.check.value_counts()"
      ],
      "execution_count": null,
      "outputs": [
        {
          "output_type": "stream",
          "text": [
            "/usr/local/lib/python3.7/dist-packages/ipykernel_launcher.py:2: SettingWithCopyWarning: \n",
            "A value is trying to be set on a copy of a slice from a DataFrame.\n",
            "Try using .loc[row_indexer,col_indexer] = value instead\n",
            "\n",
            "See the caveats in the documentation: https://pandas.pydata.org/pandas-docs/stable/user_guide/indexing.html#returning-a-view-versus-a-copy\n",
            "  \n",
            "/usr/local/lib/python3.7/dist-packages/ipykernel_launcher.py:3: SettingWithCopyWarning: \n",
            "A value is trying to be set on a copy of a slice from a DataFrame.\n",
            "Try using .loc[row_indexer,col_indexer] = value instead\n",
            "\n",
            "See the caveats in the documentation: https://pandas.pydata.org/pandas-docs/stable/user_guide/indexing.html#returning-a-view-versus-a-copy\n",
            "  This is separate from the ipykernel package so we can avoid doing imports until\n",
            "/usr/local/lib/python3.7/dist-packages/ipykernel_launcher.py:4: SettingWithCopyWarning: \n",
            "A value is trying to be set on a copy of a slice from a DataFrame.\n",
            "Try using .loc[row_indexer,col_indexer] = value instead\n",
            "\n",
            "See the caveats in the documentation: https://pandas.pydata.org/pandas-docs/stable/user_guide/indexing.html#returning-a-view-versus-a-copy\n",
            "  after removing the cwd from sys.path.\n",
            "/usr/local/lib/python3.7/dist-packages/ipykernel_launcher.py:5: SettingWithCopyWarning: \n",
            "A value is trying to be set on a copy of a slice from a DataFrame.\n",
            "Try using .loc[row_indexer,col_indexer] = value instead\n",
            "\n",
            "See the caveats in the documentation: https://pandas.pydata.org/pandas-docs/stable/user_guide/indexing.html#returning-a-view-versus-a-copy\n",
            "  \"\"\"\n"
          ],
          "name": "stderr"
        },
        {
          "output_type": "execute_result",
          "data": {
            "text/plain": [
              "True     689345\n",
              "False      1741\n",
              "Name: check, dtype: int64"
            ]
          },
          "metadata": {
            "tags": []
          },
          "execution_count": 9
        }
      ]
    },
    {
      "cell_type": "code",
      "metadata": {
        "colab": {
          "base_uri": "https://localhost:8080/"
        },
        "id": "WAO7EdIv10DF",
        "outputId": "ac5b1885-8736-4d6b-e36b-3870abfe780e"
      },
      "source": [
        "df_sub['diff'] = 0\n",
        "\n",
        "if df_sub.iloc[0]['check'] == 'False':\n",
        "  df_sub['diff'] = df_sub['ActualElapsedTime'] - df_sub['AirTime']\n",
        "\n",
        "df_sub['diff'].max()"
      ],
      "execution_count": null,
      "outputs": [
        {
          "output_type": "execute_result",
          "data": {
            "text/plain": [
              "0"
            ]
          },
          "metadata": {
            "tags": []
          },
          "execution_count": 10
        }
      ]
    },
    {
      "cell_type": "code",
      "metadata": {
        "colab": {
          "base_uri": "https://localhost:8080/",
          "height": 514
        },
        "id": "ppnKywbC99OF",
        "outputId": "d6aeedc7-5097-4bcc-8a65-6c7e60dac11d"
      },
      "source": [
        "df_sub = df_sub.drop(['diff','check'],axis=1)\n",
        "df_stat = df_sub.describe()\n",
        "df_stat = df_stat.transpose()\n",
        "df_stat"
      ],
      "execution_count": null,
      "outputs": [
        {
          "output_type": "execute_result",
          "data": {
            "text/html": [
              "<div>\n",
              "<style scoped>\n",
              "    .dataframe tbody tr th:only-of-type {\n",
              "        vertical-align: middle;\n",
              "    }\n",
              "\n",
              "    .dataframe tbody tr th {\n",
              "        vertical-align: top;\n",
              "    }\n",
              "\n",
              "    .dataframe thead th {\n",
              "        text-align: right;\n",
              "    }\n",
              "</style>\n",
              "<table border=\"1\" class=\"dataframe\">\n",
              "  <thead>\n",
              "    <tr style=\"text-align: right;\">\n",
              "      <th></th>\n",
              "      <th>count</th>\n",
              "      <th>mean</th>\n",
              "      <th>std</th>\n",
              "      <th>min</th>\n",
              "      <th>25%</th>\n",
              "      <th>50%</th>\n",
              "      <th>75%</th>\n",
              "      <th>max</th>\n",
              "    </tr>\n",
              "  </thead>\n",
              "  <tbody>\n",
              "    <tr>\n",
              "      <th>ArrDelay</th>\n",
              "      <td>676691.0</td>\n",
              "      <td>6.426820</td>\n",
              "      <td>36.191066</td>\n",
              "      <td>-81.0</td>\n",
              "      <td>-11.0</td>\n",
              "      <td>-2.0</td>\n",
              "      <td>10.0</td>\n",
              "      <td>1898.0</td>\n",
              "    </tr>\n",
              "    <tr>\n",
              "      <th>DepDelay</th>\n",
              "      <td>678565.0</td>\n",
              "      <td>9.054371</td>\n",
              "      <td>33.308736</td>\n",
              "      <td>-82.0</td>\n",
              "      <td>-4.0</td>\n",
              "      <td>-1.0</td>\n",
              "      <td>7.0</td>\n",
              "      <td>1878.0</td>\n",
              "    </tr>\n",
              "    <tr>\n",
              "      <th>AirTime</th>\n",
              "      <td>691086.0</td>\n",
              "      <td>102.539823</td>\n",
              "      <td>69.289422</td>\n",
              "      <td>-686.0</td>\n",
              "      <td>54.0</td>\n",
              "      <td>84.0</td>\n",
              "      <td>132.0</td>\n",
              "      <td>686.0</td>\n",
              "    </tr>\n",
              "    <tr>\n",
              "      <th>ActualElapsedTime</th>\n",
              "      <td>691086.0</td>\n",
              "      <td>124.677298</td>\n",
              "      <td>72.457087</td>\n",
              "      <td>-148.0</td>\n",
              "      <td>74.0</td>\n",
              "      <td>107.0</td>\n",
              "      <td>156.0</td>\n",
              "      <td>710.0</td>\n",
              "    </tr>\n",
              "    <tr>\n",
              "      <th>TaxiIn</th>\n",
              "      <td>691086.0</td>\n",
              "      <td>6.638022</td>\n",
              "      <td>7.979439</td>\n",
              "      <td>0.0</td>\n",
              "      <td>4.0</td>\n",
              "      <td>5.0</td>\n",
              "      <td>8.0</td>\n",
              "      <td>1439.0</td>\n",
              "    </tr>\n",
              "    <tr>\n",
              "      <th>TaxiOut</th>\n",
              "      <td>691086.0</td>\n",
              "      <td>15.590877</td>\n",
              "      <td>10.734411</td>\n",
              "      <td>0.0</td>\n",
              "      <td>10.0</td>\n",
              "      <td>13.0</td>\n",
              "      <td>18.0</td>\n",
              "      <td>1410.0</td>\n",
              "    </tr>\n",
              "    <tr>\n",
              "      <th>Distance</th>\n",
              "      <td>691085.0</td>\n",
              "      <td>740.274768</td>\n",
              "      <td>574.416773</td>\n",
              "      <td>27.0</td>\n",
              "      <td>327.0</td>\n",
              "      <td>588.0</td>\n",
              "      <td>972.0</td>\n",
              "      <td>4983.0</td>\n",
              "    </tr>\n",
              "    <tr>\n",
              "      <th>CarrierDelay</th>\n",
              "      <td>127222.0</td>\n",
              "      <td>15.983886</td>\n",
              "      <td>40.584257</td>\n",
              "      <td>0.0</td>\n",
              "      <td>0.0</td>\n",
              "      <td>0.0</td>\n",
              "      <td>17.0</td>\n",
              "      <td>1878.0</td>\n",
              "    </tr>\n",
              "    <tr>\n",
              "      <th>WeatherDelay</th>\n",
              "      <td>127222.0</td>\n",
              "      <td>2.826909</td>\n",
              "      <td>17.768376</td>\n",
              "      <td>0.0</td>\n",
              "      <td>0.0</td>\n",
              "      <td>0.0</td>\n",
              "      <td>0.0</td>\n",
              "      <td>1153.0</td>\n",
              "    </tr>\n",
              "    <tr>\n",
              "      <th>NASDelay</th>\n",
              "      <td>127222.0</td>\n",
              "      <td>15.410212</td>\n",
              "      <td>29.239341</td>\n",
              "      <td>0.0</td>\n",
              "      <td>0.0</td>\n",
              "      <td>4.0</td>\n",
              "      <td>19.0</td>\n",
              "      <td>1053.0</td>\n",
              "    </tr>\n",
              "    <tr>\n",
              "      <th>SecurityDelay</th>\n",
              "      <td>127222.0</td>\n",
              "      <td>0.082800</td>\n",
              "      <td>2.032517</td>\n",
              "      <td>0.0</td>\n",
              "      <td>0.0</td>\n",
              "      <td>0.0</td>\n",
              "      <td>0.0</td>\n",
              "      <td>208.0</td>\n",
              "    </tr>\n",
              "    <tr>\n",
              "      <th>LateAircraftDelay</th>\n",
              "      <td>127222.0</td>\n",
              "      <td>20.920470</td>\n",
              "      <td>38.664298</td>\n",
              "      <td>0.0</td>\n",
              "      <td>0.0</td>\n",
              "      <td>0.0</td>\n",
              "      <td>26.0</td>\n",
              "      <td>1407.0</td>\n",
              "    </tr>\n",
              "    <tr>\n",
              "      <th>TotalDelay</th>\n",
              "      <td>691086.0</td>\n",
              "      <td>10.166235</td>\n",
              "      <td>32.099693</td>\n",
              "      <td>0.0</td>\n",
              "      <td>0.0</td>\n",
              "      <td>0.0</td>\n",
              "      <td>0.0</td>\n",
              "      <td>1898.0</td>\n",
              "    </tr>\n",
              "    <tr>\n",
              "      <th>GroundTime</th>\n",
              "      <td>676691.0</td>\n",
              "      <td>22.608397</td>\n",
              "      <td>11.804760</td>\n",
              "      <td>-519.0</td>\n",
              "      <td>16.0</td>\n",
              "      <td>20.0</td>\n",
              "      <td>26.0</td>\n",
              "      <td>817.0</td>\n",
              "    </tr>\n",
              "    <tr>\n",
              "      <th>DelayCheck</th>\n",
              "      <td>691086.0</td>\n",
              "      <td>0.184090</td>\n",
              "      <td>0.387558</td>\n",
              "      <td>0.0</td>\n",
              "      <td>0.0</td>\n",
              "      <td>0.0</td>\n",
              "      <td>0.0</td>\n",
              "      <td>1.0</td>\n",
              "    </tr>\n",
              "  </tbody>\n",
              "</table>\n",
              "</div>"
            ],
            "text/plain": [
              "                      count        mean         std  ...    50%    75%     max\n",
              "ArrDelay           676691.0    6.426820   36.191066  ...   -2.0   10.0  1898.0\n",
              "DepDelay           678565.0    9.054371   33.308736  ...   -1.0    7.0  1878.0\n",
              "AirTime            691086.0  102.539823   69.289422  ...   84.0  132.0   686.0\n",
              "ActualElapsedTime  691086.0  124.677298   72.457087  ...  107.0  156.0   710.0\n",
              "TaxiIn             691086.0    6.638022    7.979439  ...    5.0    8.0  1439.0\n",
              "TaxiOut            691086.0   15.590877   10.734411  ...   13.0   18.0  1410.0\n",
              "Distance           691085.0  740.274768  574.416773  ...  588.0  972.0  4983.0\n",
              "CarrierDelay       127222.0   15.983886   40.584257  ...    0.0   17.0  1878.0\n",
              "WeatherDelay       127222.0    2.826909   17.768376  ...    0.0    0.0  1153.0\n",
              "NASDelay           127222.0   15.410212   29.239341  ...    4.0   19.0  1053.0\n",
              "SecurityDelay      127222.0    0.082800    2.032517  ...    0.0    0.0   208.0\n",
              "LateAircraftDelay  127222.0   20.920470   38.664298  ...    0.0   26.0  1407.0\n",
              "TotalDelay         691086.0   10.166235   32.099693  ...    0.0    0.0  1898.0\n",
              "GroundTime         676691.0   22.608397   11.804760  ...   20.0   26.0   817.0\n",
              "DelayCheck         691086.0    0.184090    0.387558  ...    0.0    0.0     1.0\n",
              "\n",
              "[15 rows x 8 columns]"
            ]
          },
          "metadata": {
            "tags": []
          },
          "execution_count": 11
        }
      ]
    },
    {
      "cell_type": "code",
      "metadata": {
        "id": "wiROukFT7gX0"
      },
      "source": [
        "sns.pairplot(df_sub, hue = 'DelayCheck', palette='Set1')"
      ],
      "execution_count": null,
      "outputs": []
    },
    {
      "cell_type": "code",
      "metadata": {
        "colab": {
          "base_uri": "https://localhost:8080/",
          "height": 400
        },
        "id": "-oP7XmUM7gb5",
        "outputId": "52431fa4-0b2a-42e7-fca2-bba2a16795fc"
      },
      "source": [
        "sns.relplot(x='DepDelay', y='ArrDelay', hue='DayOfWeek', data=dfn)"
      ],
      "execution_count": null,
      "outputs": [
        {
          "output_type": "execute_result",
          "data": {
            "text/plain": [
              "<seaborn.axisgrid.FacetGrid at 0x7fc334e2e150>"
            ]
          },
          "metadata": {
            "tags": []
          },
          "execution_count": 21
        },
        {
          "output_type": "display_data",
          "data": {
            "image/png": "[encoded data removed]",
            "text/plain": [
              "<Figure size 426.375x360 with 1 Axes>"
            ]
          },
          "metadata": {
            "tags": [],
            "needs_background": "light"
          }
        }
      ]
    },
    {
      "cell_type": "markdown",
      "metadata": {
        "id": "gvhxjC_EoxN3"
      },
      "source": [
        "To find out number of unique values"
      ]
    },
    {
      "cell_type": "code",
      "metadata": {
        "colab": {
          "base_uri": "https://localhost:8080/"
        },
        "id": "8DMGuWjl7gf4",
        "outputId": "49986281-3c20-4da4-a028-ac56bd38907d"
      },
      "source": [
        " print(\"unique values: \\n\", df_sub.nunique())"
      ],
      "execution_count": null,
      "outputs": [
        {
          "output_type": "stream",
          "text": [
            "unique values: \n",
            " TailNumber           12438\n",
            "ArrDelay               627\n",
            "DepDelay               584\n",
            "AirTime                602\n",
            "ActualElapsedTime      606\n",
            "TaxiIn                 145\n",
            "TaxiOut                221\n",
            "Distance              1679\n",
            "CarrierDelay           462\n",
            "WeatherDelay           286\n",
            "NASDelay               336\n",
            "SecurityDelay           70\n",
            "LateAircraftDelay      371\n",
            "TotalDelay             531\n",
            "GroundTime             242\n",
            "DelayCheck               2\n",
            "dtype: int64\n"
          ],
          "name": "stdout"
        }
      ]
    },
    {
      "cell_type": "markdown",
      "metadata": {
        "id": "0EROJVncqYeX"
      },
      "source": [
        "To find the distribution of distance travelled by flights"
      ]
    },
    {
      "cell_type": "code",
      "metadata": {
        "colab": {
          "base_uri": "https://localhost:8080/",
          "height": 386
        },
        "id": "glDPRupL7gkV",
        "outputId": "089df8cb-7aa2-4be2-9e08-68c43fbc2663"
      },
      "source": [
        "sns.displot(df_sub['Distance'])"
      ],
      "execution_count": null,
      "outputs": [
        {
          "output_type": "execute_result",
          "data": {
            "text/plain": [
              "<seaborn.axisgrid.FacetGrid at 0x7fc334cffb10>"
            ]
          },
          "metadata": {
            "tags": []
          },
          "execution_count": 23
        },
        {
          "output_type": "display_data",
          "data": {
            "image/png": "[encoded data removed]",
            "text/plain": [
              "<Figure size 360x360 with 1 Axes>"
            ]
          },
          "metadata": {
            "tags": [],
            "needs_background": "light"
          }
        }
      ]
    },
    {
      "cell_type": "code",
      "metadata": {
        "colab": {
          "base_uri": "https://localhost:8080/",
          "height": 296
        },
        "id": "AJX5xgwQ7gpI",
        "outputId": "17a4230c-d403-4283-9cd6-6c99a3cc4ec6"
      },
      "source": [
        "import matplotlib.pyplot as plt\n",
        "\n",
        "sns.set_style('whitegrid')\n",
        "df_sub['Distance'].hist(bins=30)\n",
        "plt.xlabel('Distance travelled by flight')"
      ],
      "execution_count": null,
      "outputs": [
        {
          "output_type": "execute_result",
          "data": {
            "text/plain": [
              "Text(0.5, 0, 'Distance travelled by flight')"
            ]
          },
          "metadata": {
            "tags": []
          },
          "execution_count": 15
        },
        {
          "output_type": "display_data",
          "data": {
            "image/png": "[encoded data removed]",
            "text/plain": [
              "<Figure size 432x288 with 1 Axes>"
            ]
          },
          "metadata": {
            "tags": []
          }
        }
      ]
    },
    {
      "cell_type": "markdown",
      "metadata": {
        "id": "KLFTLrJCrl7n"
      },
      "source": [
        "**Joining plots along with their respective histograms**"
      ]
    },
    {
      "cell_type": "code",
      "metadata": {
        "colab": {
          "base_uri": "https://localhost:8080/",
          "height": 458
        },
        "id": "fnbc1-U27gtU",
        "outputId": "73406011-4dda-4a49-b412-1e515bd47c65"
      },
      "source": [
        "sns.jointplot(x='Distance', y='TotalDelay', data = df_sub)"
      ],
      "execution_count": null,
      "outputs": [
        {
          "output_type": "execute_result",
          "data": {
            "text/plain": [
              "<seaborn.axisgrid.JointGrid at 0x7fa9530e3f90>"
            ]
          },
          "metadata": {
            "tags": []
          },
          "execution_count": 12
        },
        {
          "output_type": "display_data",
          "data": {
            "image/png": "[encoded data removed]",
            "text/plain": [
              "<Figure size 432x432 with 3 Axes>"
            ]
          },
          "metadata": {
            "tags": [],
            "needs_background": "light"
          }
        }
      ]
    },
    {
      "cell_type": "code",
      "metadata": {
        "id": "akwkjkXl1Cdq"
      },
      "source": [
        "import seaborn as sns\n",
        "sns.jointplot(x='Distance', y='TotalDelay', data = df_sub, color = 'orange', kind = 'kde')"
      ],
      "execution_count": null,
      "outputs": []
    },
    {
      "cell_type": "code",
      "metadata": {
        "colab": {
          "base_uri": "https://localhost:8080/",
          "height": 524
        },
        "id": "V4ZrBJgIrD00",
        "outputId": "b34302ba-4796-4e3a-c768-94839e414cfa"
      },
      "source": [
        "dfn"
      ],
      "execution_count": null,
      "outputs": [
        {
          "output_type": "execute_result",
          "data": {
            "text/html": [
              "<div>\n",
              "<style scoped>\n",
              "    .dataframe tbody tr th:only-of-type {\n",
              "        vertical-align: middle;\n",
              "    }\n",
              "\n",
              "    .dataframe tbody tr th {\n",
              "        vertical-align: top;\n",
              "    }\n",
              "\n",
              "    .dataframe thead th {\n",
              "        text-align: right;\n",
              "    }\n",
              "</style>\n",
              "<table border=\"1\" class=\"dataframe\">\n",
              "  <thead>\n",
              "    <tr style=\"text-align: right;\">\n",
              "      <th></th>\n",
              "      <th>Unnamed: 0</th>\n",
              "      <th>Year</th>\n",
              "      <th>Quarter</th>\n",
              "      <th>Month</th>\n",
              "      <th>DayofMonth</th>\n",
              "      <th>DayOfWeek</th>\n",
              "      <th>FlightDate</th>\n",
              "      <th>ReportingAirline</th>\n",
              "      <th>TailNumber</th>\n",
              "      <th>FlightNumberReportingAirline</th>\n",
              "      <th>OriginAirportID</th>\n",
              "      <th>OriginCityMarketID</th>\n",
              "      <th>Origin</th>\n",
              "      <th>OriginCityName</th>\n",
              "      <th>OriginState</th>\n",
              "      <th>OriginStateName</th>\n",
              "      <th>OriginWac</th>\n",
              "      <th>DestAirportID</th>\n",
              "      <th>DestCityMarketID</th>\n",
              "      <th>Dest</th>\n",
              "      <th>DestCityName</th>\n",
              "      <th>DestState</th>\n",
              "      <th>DestStateName</th>\n",
              "      <th>DestWac</th>\n",
              "      <th>CRSDepTime</th>\n",
              "      <th>DepTime</th>\n",
              "      <th>DepDelay</th>\n",
              "      <th>DepartureDelayGroups</th>\n",
              "      <th>DepTimeBlk</th>\n",
              "      <th>TaxiOut</th>\n",
              "      <th>WheelsOff</th>\n",
              "      <th>WheelsOn</th>\n",
              "      <th>TaxiIn</th>\n",
              "      <th>CRSArrTime</th>\n",
              "      <th>ArrTime</th>\n",
              "      <th>ArrDelay</th>\n",
              "      <th>ArrivalDelayGroups</th>\n",
              "      <th>ArrTimeBlk</th>\n",
              "      <th>Cancelled</th>\n",
              "      <th>CancellationCode</th>\n",
              "      <th>Diverted</th>\n",
              "      <th>CRSElapsedTime</th>\n",
              "      <th>ActualElapsedTime</th>\n",
              "      <th>AirTime</th>\n",
              "      <th>Distance</th>\n",
              "      <th>DistanceGroup</th>\n",
              "      <th>CarrierDelay</th>\n",
              "      <th>WeatherDelay</th>\n",
              "      <th>NASDelay</th>\n",
              "      <th>SecurityDelay</th>\n",
              "      <th>LateAircraftDelay</th>\n",
              "    </tr>\n",
              "  </thead>\n",
              "  <tbody>\n",
              "    <tr>\n",
              "      <th>0</th>\n",
              "      <td>0</td>\n",
              "      <td>2003</td>\n",
              "      <td>4</td>\n",
              "      <td>11</td>\n",
              "      <td>21</td>\n",
              "      <td>5</td>\n",
              "      <td>21/11/03</td>\n",
              "      <td>UA</td>\n",
              "      <td>N308UA</td>\n",
              "      <td>674</td>\n",
              "      <td>13930</td>\n",
              "      <td>30977</td>\n",
              "      <td>ORD</td>\n",
              "      <td>Chicago, IL</td>\n",
              "      <td>IL</td>\n",
              "      <td>Illinois</td>\n",
              "      <td>41</td>\n",
              "      <td>12953</td>\n",
              "      <td>31703</td>\n",
              "      <td>LGA</td>\n",
              "      <td>New York, NY</td>\n",
              "      <td>NY</td>\n",
              "      <td>New York</td>\n",
              "      <td>22</td>\n",
              "      <td>900.0</td>\n",
              "      <td>855.0</td>\n",
              "      <td>-5.0</td>\n",
              "      <td>-1.0</td>\n",
              "      <td>0900-0959</td>\n",
              "      <td>14.0</td>\n",
              "      <td>909.0</td>\n",
              "      <td>1148.0</td>\n",
              "      <td>2.0</td>\n",
              "      <td>1206.0</td>\n",
              "      <td>1150.0</td>\n",
              "      <td>-16.0</td>\n",
              "      <td>-2.0</td>\n",
              "      <td>1200-1259</td>\n",
              "      <td>0.0</td>\n",
              "      <td>NaN</td>\n",
              "      <td>0.0</td>\n",
              "      <td>126.0</td>\n",
              "      <td>115.0</td>\n",
              "      <td>99.0</td>\n",
              "      <td>733.0</td>\n",
              "      <td>3.0</td>\n",
              "      <td>NaN</td>\n",
              "      <td>NaN</td>\n",
              "      <td>NaN</td>\n",
              "      <td>NaN</td>\n",
              "      <td>NaN</td>\n",
              "    </tr>\n",
              "    <tr>\n",
              "      <th>1</th>\n",
              "      <td>1</td>\n",
              "      <td>2001</td>\n",
              "      <td>3</td>\n",
              "      <td>9</td>\n",
              "      <td>25</td>\n",
              "      <td>2</td>\n",
              "      <td>25/09/01</td>\n",
              "      <td>US</td>\n",
              "      <td>äNKNOæ</td>\n",
              "      <td>6529</td>\n",
              "      <td>10721</td>\n",
              "      <td>30721</td>\n",
              "      <td>BOS</td>\n",
              "      <td>Boston, MA</td>\n",
              "      <td>MA</td>\n",
              "      <td>Massachusetts</td>\n",
              "      <td>13</td>\n",
              "      <td>11278</td>\n",
              "      <td>30852</td>\n",
              "      <td>DCA</td>\n",
              "      <td>Washington, DC</td>\n",
              "      <td>VA</td>\n",
              "      <td>Virginia</td>\n",
              "      <td>38</td>\n",
              "      <td>1600.0</td>\n",
              "      <td>NaN</td>\n",
              "      <td>NaN</td>\n",
              "      <td>NaN</td>\n",
              "      <td>1600-1659</td>\n",
              "      <td>NaN</td>\n",
              "      <td>NaN</td>\n",
              "      <td>NaN</td>\n",
              "      <td>NaN</td>\n",
              "      <td>1733.0</td>\n",
              "      <td>NaN</td>\n",
              "      <td>NaN</td>\n",
              "      <td>NaN</td>\n",
              "      <td>1700-1759</td>\n",
              "      <td>1.0</td>\n",
              "      <td>NaN</td>\n",
              "      <td>0.0</td>\n",
              "      <td>93.0</td>\n",
              "      <td>NaN</td>\n",
              "      <td>NaN</td>\n",
              "      <td>399.0</td>\n",
              "      <td>2.0</td>\n",
              "      <td>NaN</td>\n",
              "      <td>NaN</td>\n",
              "      <td>NaN</td>\n",
              "      <td>NaN</td>\n",
              "      <td>NaN</td>\n",
              "    </tr>\n",
              "    <tr>\n",
              "      <th>2</th>\n",
              "      <td>2</td>\n",
              "      <td>2002</td>\n",
              "      <td>2</td>\n",
              "      <td>5</td>\n",
              "      <td>2</td>\n",
              "      <td>4</td>\n",
              "      <td>02/05/02</td>\n",
              "      <td>DL</td>\n",
              "      <td>N325DL</td>\n",
              "      <td>2408</td>\n",
              "      <td>12339</td>\n",
              "      <td>32337</td>\n",
              "      <td>IND</td>\n",
              "      <td>Indianapolis, IN</td>\n",
              "      <td>IN</td>\n",
              "      <td>Indiana</td>\n",
              "      <td>42</td>\n",
              "      <td>13204</td>\n",
              "      <td>31454</td>\n",
              "      <td>MCO</td>\n",
              "      <td>Orlando, FL</td>\n",
              "      <td>FL</td>\n",
              "      <td>Florida</td>\n",
              "      <td>33</td>\n",
              "      <td>1300.0</td>\n",
              "      <td>1259.0</td>\n",
              "      <td>-1.0</td>\n",
              "      <td>-1.0</td>\n",
              "      <td>1300-1359</td>\n",
              "      <td>14.0</td>\n",
              "      <td>1313.0</td>\n",
              "      <td>1611.0</td>\n",
              "      <td>8.0</td>\n",
              "      <td>1613.0</td>\n",
              "      <td>1619.0</td>\n",
              "      <td>6.0</td>\n",
              "      <td>0.0</td>\n",
              "      <td>1600-1659</td>\n",
              "      <td>0.0</td>\n",
              "      <td>NaN</td>\n",
              "      <td>0.0</td>\n",
              "      <td>133.0</td>\n",
              "      <td>140.0</td>\n",
              "      <td>118.0</td>\n",
              "      <td>828.0</td>\n",
              "      <td>4.0</td>\n",
              "      <td>NaN</td>\n",
              "      <td>NaN</td>\n",
              "      <td>NaN</td>\n",
              "      <td>NaN</td>\n",
              "      <td>NaN</td>\n",
              "    </tr>\n",
              "    <tr>\n",
              "      <th>3</th>\n",
              "      <td>3</td>\n",
              "      <td>2004</td>\n",
              "      <td>4</td>\n",
              "      <td>12</td>\n",
              "      <td>21</td>\n",
              "      <td>2</td>\n",
              "      <td>21/12/04</td>\n",
              "      <td>WN</td>\n",
              "      <td>N691WN</td>\n",
              "      <td>1111</td>\n",
              "      <td>10423</td>\n",
              "      <td>30423</td>\n",
              "      <td>AUS</td>\n",
              "      <td>Austin, TX</td>\n",
              "      <td>TX</td>\n",
              "      <td>Texas</td>\n",
              "      <td>74</td>\n",
              "      <td>11540</td>\n",
              "      <td>30615</td>\n",
              "      <td>ELP</td>\n",
              "      <td>El Paso, TX</td>\n",
              "      <td>TX</td>\n",
              "      <td>Texas</td>\n",
              "      <td>74</td>\n",
              "      <td>1150.0</td>\n",
              "      <td>1150.0</td>\n",
              "      <td>0.0</td>\n",
              "      <td>0.0</td>\n",
              "      <td>1100-1159</td>\n",
              "      <td>10.0</td>\n",
              "      <td>1200.0</td>\n",
              "      <td>1220.0</td>\n",
              "      <td>5.0</td>\n",
              "      <td>1225.0</td>\n",
              "      <td>1225.0</td>\n",
              "      <td>0.0</td>\n",
              "      <td>0.0</td>\n",
              "      <td>1200-1259</td>\n",
              "      <td>0.0</td>\n",
              "      <td>NaN</td>\n",
              "      <td>0.0</td>\n",
              "      <td>95.0</td>\n",
              "      <td>95.0</td>\n",
              "      <td>80.0</td>\n",
              "      <td>528.0</td>\n",
              "      <td>3.0</td>\n",
              "      <td>NaN</td>\n",
              "      <td>NaN</td>\n",
              "      <td>NaN</td>\n",
              "      <td>NaN</td>\n",
              "      <td>NaN</td>\n",
              "    </tr>\n",
              "    <tr>\n",
              "      <th>4</th>\n",
              "      <td>4</td>\n",
              "      <td>2003</td>\n",
              "      <td>2</td>\n",
              "      <td>6</td>\n",
              "      <td>6</td>\n",
              "      <td>5</td>\n",
              "      <td>06/06/03</td>\n",
              "      <td>DH</td>\n",
              "      <td>N706BR</td>\n",
              "      <td>7659</td>\n",
              "      <td>13029</td>\n",
              "      <td>33029</td>\n",
              "      <td>LNK</td>\n",
              "      <td>Lincoln, NE</td>\n",
              "      <td>NE</td>\n",
              "      <td>Nebraska</td>\n",
              "      <td>65</td>\n",
              "      <td>13930</td>\n",
              "      <td>30977</td>\n",
              "      <td>ORD</td>\n",
              "      <td>Chicago, IL</td>\n",
              "      <td>IL</td>\n",
              "      <td>Illinois</td>\n",
              "      <td>41</td>\n",
              "      <td>1330.0</td>\n",
              "      <td>1330.0</td>\n",
              "      <td>0.0</td>\n",
              "      <td>0.0</td>\n",
              "      <td>1300-1359</td>\n",
              "      <td>3.0</td>\n",
              "      <td>1333.0</td>\n",
              "      <td>1444.0</td>\n",
              "      <td>35.0</td>\n",
              "      <td>1455.0</td>\n",
              "      <td>1519.0</td>\n",
              "      <td>24.0</td>\n",
              "      <td>1.0</td>\n",
              "      <td>1400-1459</td>\n",
              "      <td>0.0</td>\n",
              "      <td>NaN</td>\n",
              "      <td>0.0</td>\n",
              "      <td>85.0</td>\n",
              "      <td>109.0</td>\n",
              "      <td>71.0</td>\n",
              "      <td>466.0</td>\n",
              "      <td>2.0</td>\n",
              "      <td>0.0</td>\n",
              "      <td>0.0</td>\n",
              "      <td>24.0</td>\n",
              "      <td>0.0</td>\n",
              "      <td>0.0</td>\n",
              "    </tr>\n",
              "    <tr>\n",
              "      <th>...</th>\n",
              "      <td>...</td>\n",
              "      <td>...</td>\n",
              "      <td>...</td>\n",
              "      <td>...</td>\n",
              "      <td>...</td>\n",
              "      <td>...</td>\n",
              "      <td>...</td>\n",
              "      <td>...</td>\n",
              "      <td>...</td>\n",
              "      <td>...</td>\n",
              "      <td>...</td>\n",
              "      <td>...</td>\n",
              "      <td>...</td>\n",
              "      <td>...</td>\n",
              "      <td>...</td>\n",
              "      <td>...</td>\n",
              "      <td>...</td>\n",
              "      <td>...</td>\n",
              "      <td>...</td>\n",
              "      <td>...</td>\n",
              "      <td>...</td>\n",
              "      <td>...</td>\n",
              "      <td>...</td>\n",
              "      <td>...</td>\n",
              "      <td>...</td>\n",
              "      <td>...</td>\n",
              "      <td>...</td>\n",
              "      <td>...</td>\n",
              "      <td>...</td>\n",
              "      <td>...</td>\n",
              "      <td>...</td>\n",
              "      <td>...</td>\n",
              "      <td>...</td>\n",
              "      <td>...</td>\n",
              "      <td>...</td>\n",
              "      <td>...</td>\n",
              "      <td>...</td>\n",
              "      <td>...</td>\n",
              "      <td>...</td>\n",
              "      <td>...</td>\n",
              "      <td>...</td>\n",
              "      <td>...</td>\n",
              "      <td>...</td>\n",
              "      <td>...</td>\n",
              "      <td>...</td>\n",
              "      <td>...</td>\n",
              "      <td>...</td>\n",
              "      <td>...</td>\n",
              "      <td>...</td>\n",
              "      <td>...</td>\n",
              "      <td>...</td>\n",
              "    </tr>\n",
              "    <tr>\n",
              "      <th>691081</th>\n",
              "      <td>186119</td>\n",
              "      <td>2008</td>\n",
              "      <td>1</td>\n",
              "      <td>2</td>\n",
              "      <td>18</td>\n",
              "      <td>1</td>\n",
              "      <td>18/02/08</td>\n",
              "      <td>WN</td>\n",
              "      <td>N216WR</td>\n",
              "      <td>628</td>\n",
              "      <td>11697</td>\n",
              "      <td>32467</td>\n",
              "      <td>FLL</td>\n",
              "      <td>Fort Lauderdale, FL</td>\n",
              "      <td>FL</td>\n",
              "      <td>Florida</td>\n",
              "      <td>33</td>\n",
              "      <td>15304</td>\n",
              "      <td>33195</td>\n",
              "      <td>TPA</td>\n",
              "      <td>Tampa, FL</td>\n",
              "      <td>FL</td>\n",
              "      <td>Florida</td>\n",
              "      <td>33</td>\n",
              "      <td>1420.0</td>\n",
              "      <td>1435.0</td>\n",
              "      <td>15.0</td>\n",
              "      <td>1.0</td>\n",
              "      <td>1400-1459</td>\n",
              "      <td>25.0</td>\n",
              "      <td>1500.0</td>\n",
              "      <td>1536.0</td>\n",
              "      <td>4.0</td>\n",
              "      <td>1520.0</td>\n",
              "      <td>1540.0</td>\n",
              "      <td>20.0</td>\n",
              "      <td>1.0</td>\n",
              "      <td>1500-1559</td>\n",
              "      <td>0.0</td>\n",
              "      <td>NaN</td>\n",
              "      <td>0.0</td>\n",
              "      <td>60.0</td>\n",
              "      <td>65.0</td>\n",
              "      <td>36.0</td>\n",
              "      <td>197.0</td>\n",
              "      <td>1.0</td>\n",
              "      <td>0.0</td>\n",
              "      <td>0.0</td>\n",
              "      <td>5.0</td>\n",
              "      <td>0.0</td>\n",
              "      <td>15.0</td>\n",
              "    </tr>\n",
              "    <tr>\n",
              "      <th>691082</th>\n",
              "      <td>186120</td>\n",
              "      <td>2007</td>\n",
              "      <td>4</td>\n",
              "      <td>11</td>\n",
              "      <td>7</td>\n",
              "      <td>3</td>\n",
              "      <td>07/11/07</td>\n",
              "      <td>WN</td>\n",
              "      <td>N278WN</td>\n",
              "      <td>111</td>\n",
              "      <td>13796</td>\n",
              "      <td>32457</td>\n",
              "      <td>OAK</td>\n",
              "      <td>Oakland, CA</td>\n",
              "      <td>CA</td>\n",
              "      <td>California</td>\n",
              "      <td>91</td>\n",
              "      <td>13891</td>\n",
              "      <td>32575</td>\n",
              "      <td>ONT</td>\n",
              "      <td>Ontario, CA</td>\n",
              "      <td>CA</td>\n",
              "      <td>California</td>\n",
              "      <td>91</td>\n",
              "      <td>1115.0</td>\n",
              "      <td>1135.0</td>\n",
              "      <td>20.0</td>\n",
              "      <td>1.0</td>\n",
              "      <td>1100-1159</td>\n",
              "      <td>11.0</td>\n",
              "      <td>1146.0</td>\n",
              "      <td>1244.0</td>\n",
              "      <td>3.0</td>\n",
              "      <td>1225.0</td>\n",
              "      <td>1247.0</td>\n",
              "      <td>22.0</td>\n",
              "      <td>1.0</td>\n",
              "      <td>1200-1259</td>\n",
              "      <td>0.0</td>\n",
              "      <td>NaN</td>\n",
              "      <td>0.0</td>\n",
              "      <td>70.0</td>\n",
              "      <td>72.0</td>\n",
              "      <td>58.0</td>\n",
              "      <td>362.0</td>\n",
              "      <td>2.0</td>\n",
              "      <td>0.0</td>\n",
              "      <td>0.0</td>\n",
              "      <td>2.0</td>\n",
              "      <td>0.0</td>\n",
              "      <td>20.0</td>\n",
              "    </tr>\n",
              "    <tr>\n",
              "      <th>691083</th>\n",
              "      <td>186121</td>\n",
              "      <td>2006</td>\n",
              "      <td>2</td>\n",
              "      <td>4</td>\n",
              "      <td>20</td>\n",
              "      <td>4</td>\n",
              "      <td>20/04/06</td>\n",
              "      <td>YV</td>\n",
              "      <td>N27314</td>\n",
              "      <td>6168</td>\n",
              "      <td>14698</td>\n",
              "      <td>34236</td>\n",
              "      <td>SBP</td>\n",
              "      <td>San Luis Obispo, CA</td>\n",
              "      <td>CA</td>\n",
              "      <td>California</td>\n",
              "      <td>91</td>\n",
              "      <td>14107</td>\n",
              "      <td>30466</td>\n",
              "      <td>PHX</td>\n",
              "      <td>Phoenix, AZ</td>\n",
              "      <td>AZ</td>\n",
              "      <td>Arizona</td>\n",
              "      <td>81</td>\n",
              "      <td>1226.0</td>\n",
              "      <td>1223.0</td>\n",
              "      <td>-3.0</td>\n",
              "      <td>-1.0</td>\n",
              "      <td>1200-1259</td>\n",
              "      <td>7.0</td>\n",
              "      <td>1230.0</td>\n",
              "      <td>1343.0</td>\n",
              "      <td>8.0</td>\n",
              "      <td>1402.0</td>\n",
              "      <td>1351.0</td>\n",
              "      <td>-11.0</td>\n",
              "      <td>-1.0</td>\n",
              "      <td>1400-1459</td>\n",
              "      <td>0.0</td>\n",
              "      <td>NaN</td>\n",
              "      <td>0.0</td>\n",
              "      <td>96.0</td>\n",
              "      <td>88.0</td>\n",
              "      <td>73.0</td>\n",
              "      <td>509.0</td>\n",
              "      <td>3.0</td>\n",
              "      <td>NaN</td>\n",
              "      <td>NaN</td>\n",
              "      <td>NaN</td>\n",
              "      <td>NaN</td>\n",
              "      <td>NaN</td>\n",
              "    </tr>\n",
              "    <tr>\n",
              "      <th>691084</th>\n",
              "      <td>186122</td>\n",
              "      <td>2010</td>\n",
              "      <td>1</td>\n",
              "      <td>1</td>\n",
              "      <td>13</td>\n",
              "      <td>3</td>\n",
              "      <td>13/01/10</td>\n",
              "      <td>MQ</td>\n",
              "      <td>N719MQ</td>\n",
              "      <td>4629</td>\n",
              "      <td>14492</td>\n",
              "      <td>34492</td>\n",
              "      <td>RDU</td>\n",
              "      <td>Raleigh/Durham, NC</td>\n",
              "      <td>NC</td>\n",
              "      <td>North Carolina</td>\n",
              "      <td>36</td>\n",
              "      <td>11278</td>\n",
              "      <td>30852</td>\n",
              "      <td>DCA</td>\n",
              "      <td>Washington, DC</td>\n",
              "      <td>VA</td>\n",
              "      <td>Virginia</td>\n",
              "      <td>38</td>\n",
              "      <td>630.0</td>\n",
              "      <td>628.0</td>\n",
              "      <td>-2.0</td>\n",
              "      <td>-1.0</td>\n",
              "      <td>0600-0659</td>\n",
              "      <td>13.0</td>\n",
              "      <td>641.0</td>\n",
              "      <td>720.0</td>\n",
              "      <td>5.0</td>\n",
              "      <td>735.0</td>\n",
              "      <td>725.0</td>\n",
              "      <td>-10.0</td>\n",
              "      <td>-1.0</td>\n",
              "      <td>0700-0759</td>\n",
              "      <td>0.0</td>\n",
              "      <td>NaN</td>\n",
              "      <td>0.0</td>\n",
              "      <td>65.0</td>\n",
              "      <td>57.0</td>\n",
              "      <td>39.0</td>\n",
              "      <td>227.0</td>\n",
              "      <td>1.0</td>\n",
              "      <td>NaN</td>\n",
              "      <td>NaN</td>\n",
              "      <td>NaN</td>\n",
              "      <td>NaN</td>\n",
              "      <td>NaN</td>\n",
              "    </tr>\n",
              "    <tr>\n",
              "      <th>691085</th>\n",
              "      <td>186123</td>\n",
              "      <td>2009</td>\n",
              "      <td>2</td>\n",
              "      <td>5</td>\n",
              "      <td>16</td>\n",
              "      <td>6</td>\n",
              "      <td>16/05/09</td>\n",
              "      <td>WN</td>\n",
              "      <td>N444WN</td>\n",
              "      <td>1215</td>\n",
              "      <td>14679</td>\n",
              "      <td>33570</td>\n",
              "      <td>SAN</td>\n",
              "      <td>San Diego, CA</td>\n",
              "      <td>CA</td>\n",
              "      <td>California</td>\n",
              "      <td>91</td>\n",
              "      <td>14107</td>\n",
              "      <td>30466</td>\n",
              "      <td>PHX</td>\n",
              "      <td>Phoenix, AZ</td>\n",
              "      <td>AZ</td>\n",
              "      <td>Arizona</td>\n",
              "      <td>81</td>\n",
              "      <td>1410.0</td>\n",
              "      <td>1433.0</td>\n",
              "      <td>23.0</td>\n",
              "      <td>1.0</td>\n",
              "      <td>1400-1459</td>\n",
              "      <td>16.0</td>\n",
              "      <td>1449.0</td>\n",
              "      <td>1546.0</td>\n",
              "      <td>5.0</td>\n",
              "      <td>1525.0</td>\n",
              "      <td>1551.0</td>\n",
              "      <td>26.0</td>\n",
              "      <td>1.0</td>\n",
              "      <td>1500-1559</td>\n",
              "      <td>0.0</td>\n",
              "      <td>NaN</td>\n",
              "      <td>0.0</td>\n",
              "      <td>75.0</td>\n",
              "      <td>78.0</td>\n",
              "      <td>57.0</td>\n",
              "      <td>304.0</td>\n",
              "      <td>2.0</td>\n",
              "      <td>0.0</td>\n",
              "      <td>0.0</td>\n",
              "      <td>3.0</td>\n",
              "      <td>0.0</td>\n",
              "      <td>23.0</td>\n",
              "    </tr>\n",
              "  </tbody>\n",
              "</table>\n",
              "<p>691086 rows × 51 columns</p>\n",
              "</div>"
            ],
            "text/plain": [
              "        Unnamed: 0  Year  Quarter  ...  NASDelay  SecurityDelay  LateAircraftDelay\n",
              "0                0  2003        4  ...       NaN            NaN                NaN\n",
              "1                1  2001        3  ...       NaN            NaN                NaN\n",
              "2                2  2002        2  ...       NaN            NaN                NaN\n",
              "3                3  2004        4  ...       NaN            NaN                NaN\n",
              "4                4  2003        2  ...      24.0            0.0                0.0\n",
              "...            ...   ...      ...  ...       ...            ...                ...\n",
              "691081      186119  2008        1  ...       5.0            0.0               15.0\n",
              "691082      186120  2007        4  ...       2.0            0.0               20.0\n",
              "691083      186121  2006        2  ...       NaN            NaN                NaN\n",
              "691084      186122  2010        1  ...       NaN            NaN                NaN\n",
              "691085      186123  2009        2  ...       3.0            0.0               23.0\n",
              "\n",
              "[691086 rows x 51 columns]"
            ]
          },
          "metadata": {
            "tags": []
          },
          "execution_count": 18
        }
      ]
    },
    {
      "cell_type": "markdown",
      "metadata": {
        "id": "g0J8nnQKzP81"
      },
      "source": [
        "**Comparing each individual year**"
      ]
    },
    {
      "cell_type": "code",
      "metadata": {
        "colab": {
          "base_uri": "https://localhost:8080/",
          "height": 292
        },
        "id": "WjKQE6herukH",
        "outputId": "3e3757a3-ba93-4cdb-fbe9-430e792b4eb6"
      },
      "source": [
        "dfn['TotalDelay'] = dfn['NASDelay']+dfn['LateAircraftDelay']+dfn['SecurityDelay']+dfn['WeatherDelay']+dfn['CarrierDelay']\n",
        "dfn['GroundTime'] = dfn['ActualElapsedTime'] - dfn['AirTime']\n",
        "\n",
        "dfn['TotalDelay'] = dfn['TotalDelay'].replace(np.nan, 0)\n",
        "dfn.tail(5)"
      ],
      "execution_count": null,
      "outputs": [
        {
          "output_type": "execute_result",
          "data": {
            "text/html": [
              "<div>\n",
              "<style scoped>\n",
              "    .dataframe tbody tr th:only-of-type {\n",
              "        vertical-align: middle;\n",
              "    }\n",
              "\n",
              "    .dataframe tbody tr th {\n",
              "        vertical-align: top;\n",
              "    }\n",
              "\n",
              "    .dataframe thead th {\n",
              "        text-align: right;\n",
              "    }\n",
              "</style>\n",
              "<table border=\"1\" class=\"dataframe\">\n",
              "  <thead>\n",
              "    <tr style=\"text-align: right;\">\n",
              "      <th></th>\n",
              "      <th>Unnamed: 0</th>\n",
              "      <th>Year</th>\n",
              "      <th>Quarter</th>\n",
              "      <th>Month</th>\n",
              "      <th>DayofMonth</th>\n",
              "      <th>DayOfWeek</th>\n",
              "      <th>FlightDate</th>\n",
              "      <th>ReportingAirline</th>\n",
              "      <th>TailNumber</th>\n",
              "      <th>FlightNumberReportingAirline</th>\n",
              "      <th>OriginAirportID</th>\n",
              "      <th>OriginCityMarketID</th>\n",
              "      <th>Origin</th>\n",
              "      <th>OriginCityName</th>\n",
              "      <th>OriginState</th>\n",
              "      <th>OriginStateName</th>\n",
              "      <th>OriginWac</th>\n",
              "      <th>DestAirportID</th>\n",
              "      <th>DestCityMarketID</th>\n",
              "      <th>Dest</th>\n",
              "      <th>DestCityName</th>\n",
              "      <th>DestState</th>\n",
              "      <th>DestStateName</th>\n",
              "      <th>DestWac</th>\n",
              "      <th>CRSDepTime</th>\n",
              "      <th>DepTime</th>\n",
              "      <th>DepDelay</th>\n",
              "      <th>DepartureDelayGroups</th>\n",
              "      <th>DepTimeBlk</th>\n",
              "      <th>TaxiOut</th>\n",
              "      <th>WheelsOff</th>\n",
              "      <th>WheelsOn</th>\n",
              "      <th>TaxiIn</th>\n",
              "      <th>CRSArrTime</th>\n",
              "      <th>ArrTime</th>\n",
              "      <th>ArrDelay</th>\n",
              "      <th>ArrivalDelayGroups</th>\n",
              "      <th>ArrTimeBlk</th>\n",
              "      <th>Cancelled</th>\n",
              "      <th>CancellationCode</th>\n",
              "      <th>Diverted</th>\n",
              "      <th>CRSElapsedTime</th>\n",
              "      <th>ActualElapsedTime</th>\n",
              "      <th>AirTime</th>\n",
              "      <th>Distance</th>\n",
              "      <th>DistanceGroup</th>\n",
              "      <th>CarrierDelay</th>\n",
              "      <th>WeatherDelay</th>\n",
              "      <th>NASDelay</th>\n",
              "      <th>SecurityDelay</th>\n",
              "      <th>LateAircraftDelay</th>\n",
              "      <th>TotalDelay</th>\n",
              "      <th>GroundTime</th>\n",
              "    </tr>\n",
              "  </thead>\n",
              "  <tbody>\n",
              "    <tr>\n",
              "      <th>691081</th>\n",
              "      <td>186119</td>\n",
              "      <td>2008</td>\n",
              "      <td>1</td>\n",
              "      <td>2</td>\n",
              "      <td>18</td>\n",
              "      <td>1</td>\n",
              "      <td>18/02/08</td>\n",
              "      <td>WN</td>\n",
              "      <td>N216WR</td>\n",
              "      <td>628</td>\n",
              "      <td>11697</td>\n",
              "      <td>32467</td>\n",
              "      <td>FLL</td>\n",
              "      <td>Fort Lauderdale, FL</td>\n",
              "      <td>FL</td>\n",
              "      <td>Florida</td>\n",
              "      <td>33</td>\n",
              "      <td>15304</td>\n",
              "      <td>33195</td>\n",
              "      <td>TPA</td>\n",
              "      <td>Tampa, FL</td>\n",
              "      <td>FL</td>\n",
              "      <td>Florida</td>\n",
              "      <td>33</td>\n",
              "      <td>1420.0</td>\n",
              "      <td>1435.0</td>\n",
              "      <td>15.0</td>\n",
              "      <td>1.0</td>\n",
              "      <td>1400-1459</td>\n",
              "      <td>25.0</td>\n",
              "      <td>1500.0</td>\n",
              "      <td>1536.0</td>\n",
              "      <td>4.0</td>\n",
              "      <td>1520.0</td>\n",
              "      <td>1540.0</td>\n",
              "      <td>20.0</td>\n",
              "      <td>1.0</td>\n",
              "      <td>1500-1559</td>\n",
              "      <td>0.0</td>\n",
              "      <td>NaN</td>\n",
              "      <td>0.0</td>\n",
              "      <td>60.0</td>\n",
              "      <td>65.0</td>\n",
              "      <td>36.0</td>\n",
              "      <td>197.0</td>\n",
              "      <td>1.0</td>\n",
              "      <td>0.0</td>\n",
              "      <td>0.0</td>\n",
              "      <td>5.0</td>\n",
              "      <td>0.0</td>\n",
              "      <td>15.0</td>\n",
              "      <td>20.0</td>\n",
              "      <td>29.0</td>\n",
              "    </tr>\n",
              "    <tr>\n",
              "      <th>691082</th>\n",
              "      <td>186120</td>\n",
              "      <td>2007</td>\n",
              "      <td>4</td>\n",
              "      <td>11</td>\n",
              "      <td>7</td>\n",
              "      <td>3</td>\n",
              "      <td>07/11/07</td>\n",
              "      <td>WN</td>\n",
              "      <td>N278WN</td>\n",
              "      <td>111</td>\n",
              "      <td>13796</td>\n",
              "      <td>32457</td>\n",
              "      <td>OAK</td>\n",
              "      <td>Oakland, CA</td>\n",
              "      <td>CA</td>\n",
              "      <td>California</td>\n",
              "      <td>91</td>\n",
              "      <td>13891</td>\n",
              "      <td>32575</td>\n",
              "      <td>ONT</td>\n",
              "      <td>Ontario, CA</td>\n",
              "      <td>CA</td>\n",
              "      <td>California</td>\n",
              "      <td>91</td>\n",
              "      <td>1115.0</td>\n",
              "      <td>1135.0</td>\n",
              "      <td>20.0</td>\n",
              "      <td>1.0</td>\n",
              "      <td>1100-1159</td>\n",
              "      <td>11.0</td>\n",
              "      <td>1146.0</td>\n",
              "      <td>1244.0</td>\n",
              "      <td>3.0</td>\n",
              "      <td>1225.0</td>\n",
              "      <td>1247.0</td>\n",
              "      <td>22.0</td>\n",
              "      <td>1.0</td>\n",
              "      <td>1200-1259</td>\n",
              "      <td>0.0</td>\n",
              "      <td>NaN</td>\n",
              "      <td>0.0</td>\n",
              "      <td>70.0</td>\n",
              "      <td>72.0</td>\n",
              "      <td>58.0</td>\n",
              "      <td>362.0</td>\n",
              "      <td>2.0</td>\n",
              "      <td>0.0</td>\n",
              "      <td>0.0</td>\n",
              "      <td>2.0</td>\n",
              "      <td>0.0</td>\n",
              "      <td>20.0</td>\n",
              "      <td>22.0</td>\n",
              "      <td>14.0</td>\n",
              "    </tr>\n",
              "    <tr>\n",
              "      <th>691083</th>\n",
              "      <td>186121</td>\n",
              "      <td>2006</td>\n",
              "      <td>2</td>\n",
              "      <td>4</td>\n",
              "      <td>20</td>\n",
              "      <td>4</td>\n",
              "      <td>20/04/06</td>\n",
              "      <td>YV</td>\n",
              "      <td>N27314</td>\n",
              "      <td>6168</td>\n",
              "      <td>14698</td>\n",
              "      <td>34236</td>\n",
              "      <td>SBP</td>\n",
              "      <td>San Luis Obispo, CA</td>\n",
              "      <td>CA</td>\n",
              "      <td>California</td>\n",
              "      <td>91</td>\n",
              "      <td>14107</td>\n",
              "      <td>30466</td>\n",
              "      <td>PHX</td>\n",
              "      <td>Phoenix, AZ</td>\n",
              "      <td>AZ</td>\n",
              "      <td>Arizona</td>\n",
              "      <td>81</td>\n",
              "      <td>1226.0</td>\n",
              "      <td>1223.0</td>\n",
              "      <td>-3.0</td>\n",
              "      <td>-1.0</td>\n",
              "      <td>1200-1259</td>\n",
              "      <td>7.0</td>\n",
              "      <td>1230.0</td>\n",
              "      <td>1343.0</td>\n",
              "      <td>8.0</td>\n",
              "      <td>1402.0</td>\n",
              "      <td>1351.0</td>\n",
              "      <td>-11.0</td>\n",
              "      <td>-1.0</td>\n",
              "      <td>1400-1459</td>\n",
              "      <td>0.0</td>\n",
              "      <td>NaN</td>\n",
              "      <td>0.0</td>\n",
              "      <td>96.0</td>\n",
              "      <td>88.0</td>\n",
              "      <td>73.0</td>\n",
              "      <td>509.0</td>\n",
              "      <td>3.0</td>\n",
              "      <td>NaN</td>\n",
              "      <td>NaN</td>\n",
              "      <td>NaN</td>\n",
              "      <td>NaN</td>\n",
              "      <td>NaN</td>\n",
              "      <td>0.0</td>\n",
              "      <td>15.0</td>\n",
              "    </tr>\n",
              "    <tr>\n",
              "      <th>691084</th>\n",
              "      <td>186122</td>\n",
              "      <td>2010</td>\n",
              "      <td>1</td>\n",
              "      <td>1</td>\n",
              "      <td>13</td>\n",
              "      <td>3</td>\n",
              "      <td>13/01/10</td>\n",
              "      <td>MQ</td>\n",
              "      <td>N719MQ</td>\n",
              "      <td>4629</td>\n",
              "      <td>14492</td>\n",
              "      <td>34492</td>\n",
              "      <td>RDU</td>\n",
              "      <td>Raleigh/Durham, NC</td>\n",
              "      <td>NC</td>\n",
              "      <td>North Carolina</td>\n",
              "      <td>36</td>\n",
              "      <td>11278</td>\n",
              "      <td>30852</td>\n",
              "      <td>DCA</td>\n",
              "      <td>Washington, DC</td>\n",
              "      <td>VA</td>\n",
              "      <td>Virginia</td>\n",
              "      <td>38</td>\n",
              "      <td>630.0</td>\n",
              "      <td>628.0</td>\n",
              "      <td>-2.0</td>\n",
              "      <td>-1.0</td>\n",
              "      <td>0600-0659</td>\n",
              "      <td>13.0</td>\n",
              "      <td>641.0</td>\n",
              "      <td>720.0</td>\n",
              "      <td>5.0</td>\n",
              "      <td>735.0</td>\n",
              "      <td>725.0</td>\n",
              "      <td>-10.0</td>\n",
              "      <td>-1.0</td>\n",
              "      <td>0700-0759</td>\n",
              "      <td>0.0</td>\n",
              "      <td>NaN</td>\n",
              "      <td>0.0</td>\n",
              "      <td>65.0</td>\n",
              "      <td>57.0</td>\n",
              "      <td>39.0</td>\n",
              "      <td>227.0</td>\n",
              "      <td>1.0</td>\n",
              "      <td>NaN</td>\n",
              "      <td>NaN</td>\n",
              "      <td>NaN</td>\n",
              "      <td>NaN</td>\n",
              "      <td>NaN</td>\n",
              "      <td>0.0</td>\n",
              "      <td>18.0</td>\n",
              "    </tr>\n",
              "    <tr>\n",
              "      <th>691085</th>\n",
              "      <td>186123</td>\n",
              "      <td>2009</td>\n",
              "      <td>2</td>\n",
              "      <td>5</td>\n",
              "      <td>16</td>\n",
              "      <td>6</td>\n",
              "      <td>16/05/09</td>\n",
              "      <td>WN</td>\n",
              "      <td>N444WN</td>\n",
              "      <td>1215</td>\n",
              "      <td>14679</td>\n",
              "      <td>33570</td>\n",
              "      <td>SAN</td>\n",
              "      <td>San Diego, CA</td>\n",
              "      <td>CA</td>\n",
              "      <td>California</td>\n",
              "      <td>91</td>\n",
              "      <td>14107</td>\n",
              "      <td>30466</td>\n",
              "      <td>PHX</td>\n",
              "      <td>Phoenix, AZ</td>\n",
              "      <td>AZ</td>\n",
              "      <td>Arizona</td>\n",
              "      <td>81</td>\n",
              "      <td>1410.0</td>\n",
              "      <td>1433.0</td>\n",
              "      <td>23.0</td>\n",
              "      <td>1.0</td>\n",
              "      <td>1400-1459</td>\n",
              "      <td>16.0</td>\n",
              "      <td>1449.0</td>\n",
              "      <td>1546.0</td>\n",
              "      <td>5.0</td>\n",
              "      <td>1525.0</td>\n",
              "      <td>1551.0</td>\n",
              "      <td>26.0</td>\n",
              "      <td>1.0</td>\n",
              "      <td>1500-1559</td>\n",
              "      <td>0.0</td>\n",
              "      <td>NaN</td>\n",
              "      <td>0.0</td>\n",
              "      <td>75.0</td>\n",
              "      <td>78.0</td>\n",
              "      <td>57.0</td>\n",
              "      <td>304.0</td>\n",
              "      <td>2.0</td>\n",
              "      <td>0.0</td>\n",
              "      <td>0.0</td>\n",
              "      <td>3.0</td>\n",
              "      <td>0.0</td>\n",
              "      <td>23.0</td>\n",
              "      <td>26.0</td>\n",
              "      <td>21.0</td>\n",
              "    </tr>\n",
              "  </tbody>\n",
              "</table>\n",
              "</div>"
            ],
            "text/plain": [
              "        Unnamed: 0  Year  Quarter  ...  LateAircraftDelay  TotalDelay  GroundTime\n",
              "691081      186119  2008        1  ...               15.0        20.0        29.0\n",
              "691082      186120  2007        4  ...               20.0        22.0        14.0\n",
              "691083      186121  2006        2  ...                NaN         0.0        15.0\n",
              "691084      186122  2010        1  ...                NaN         0.0        18.0\n",
              "691085      186123  2009        2  ...               23.0        26.0        21.0\n",
              "\n",
              "[5 rows x 53 columns]"
            ]
          },
          "metadata": {
            "tags": []
          },
          "execution_count": 20
        }
      ]
    },
    {
      "cell_type": "code",
      "metadata": {
        "colab": {
          "base_uri": "https://localhost:8080/",
          "height": 98
        },
        "id": "S3rCSqpp7gyQ",
        "outputId": "3c277818-2dc4-4cb0-e11c-3533ed4e043c"
      },
      "source": [
        "g=sns.FacetGrid(dfn, col='Year')\n",
        "g.map(plt.hist, 'TotalDelay')"
      ],
      "execution_count": null,
      "outputs": [
        {
          "output_type": "execute_result",
          "data": {
            "text/plain": [
              "<seaborn.axisgrid.FacetGrid at 0x7fa94fe32990>"
            ]
          },
          "metadata": {
            "tags": []
          },
          "execution_count": 21
        },
        {
          "output_type": "display_data",
          "data": {
            "image/png": "[encoded data removed]",
            "text/plain": [
              "<Figure size 3240x216 with 15 Axes>"
            ]
          },
          "metadata": {
            "tags": []
          }
        }
      ]
    },
    {
      "cell_type": "markdown",
      "metadata": {
        "id": "3xfmRJVlzcga"
      },
      "source": [
        "**Comparing each individual month**"
      ]
    },
    {
      "cell_type": "code",
      "metadata": {
        "id": "ZMldxbdf7g2Q",
        "colab": {
          "base_uri": "https://localhost:8080/",
          "height": 114
        },
        "outputId": "45426571-2b72-4072-ce24-9ac73691261b"
      },
      "source": [
        "g=sns.FacetGrid(dfn, col='Month')\n",
        "g.map(plt.hist, 'TotalDelay')"
      ],
      "execution_count": null,
      "outputs": [
        {
          "output_type": "execute_result",
          "data": {
            "text/plain": [
              "<seaborn.axisgrid.FacetGrid at 0x7fa9504ba1d0>"
            ]
          },
          "metadata": {
            "tags": []
          },
          "execution_count": 24
        },
        {
          "output_type": "display_data",
          "data": {
            "image/png": "[encoded data removed]",
            "text/plain": [
              "<Figure size 2592x216 with 12 Axes>"
            ]
          },
          "metadata": {
            "tags": []
          }
        }
      ]
    },
    {
      "cell_type": "code",
      "metadata": {
        "id": "kd-B1lTx7g7L",
        "colab": {
          "base_uri": "https://localhost:8080/",
          "height": 172
        },
        "outputId": "c4e22b81-021b-4361-d7b4-4b9969a44e9d"
      },
      "source": [
        "g=sns.FacetGrid(dfn, col='DayOfWeek')\n",
        "g.map(plt.hist, 'TotalDelay')"
      ],
      "execution_count": null,
      "outputs": [
        {
          "output_type": "execute_result",
          "data": {
            "text/plain": [
              "<seaborn.axisgrid.FacetGrid at 0x7fa9481e7750>"
            ]
          },
          "metadata": {
            "tags": []
          },
          "execution_count": 27
        },
        {
          "output_type": "display_data",
          "data": {
            "image/png": "[encoded data removed]",
            "text/plain": [
              "<Figure size 1512x216 with 7 Axes>"
            ]
          },
          "metadata": {
            "tags": []
          }
        }
      ]
    },
    {
      "cell_type": "code",
      "metadata": {
        "id": "yRkJxWAJFSAR"
      },
      "source": [
        "#df_sub.drop(df_sub[df_sub.iloc[:,1:-2]==0].index, inplace = True)"
      ],
      "execution_count": null,
      "outputs": []
    },
    {
      "cell_type": "code",
      "metadata": {
        "id": "BNDff8TGIFU7",
        "colab": {
          "base_uri": "https://localhost:8080/"
        },
        "outputId": "266178fe-ea83-41f9-b672-5412de9a92dc"
      },
      "source": [
        "df_sub.columns"
      ],
      "execution_count": null,
      "outputs": [
        {
          "output_type": "execute_result",
          "data": {
            "text/plain": [
              "Index(['TailNumber', 'ArrDelay', 'DepDelay', 'AirTime', 'ActualElapsedTime',\n",
              "       'TaxiIn', 'TaxiOut', 'Distance', 'CarrierDelay', 'WeatherDelay',\n",
              "       'NASDelay', 'SecurityDelay', 'LateAircraftDelay', 'TotalDelay',\n",
              "       'GroundTime', 'DelayCheck'],\n",
              "      dtype='object')"
            ]
          },
          "metadata": {
            "tags": []
          },
          "execution_count": 26
        }
      ]
    },
    {
      "cell_type": "code",
      "metadata": {
        "colab": {
          "base_uri": "https://localhost:8080/"
        },
        "id": "_iMdx-OESDrx",
        "outputId": "264986c1-8052-412c-ab6c-e671fc0d2e1c"
      },
      "source": [
        "df_sub.isna().sum()"
      ],
      "execution_count": null,
      "outputs": [
        {
          "output_type": "execute_result",
          "data": {
            "text/plain": [
              "TailNumber             5381\n",
              "ArrDelay              14395\n",
              "DepDelay              12521\n",
              "AirTime                   0\n",
              "ActualElapsedTime         0\n",
              "TaxiIn                    0\n",
              "TaxiOut                   0\n",
              "Distance                  1\n",
              "CarrierDelay         563864\n",
              "WeatherDelay         563864\n",
              "NASDelay             563864\n",
              "SecurityDelay        563864\n",
              "LateAircraftDelay    563864\n",
              "TotalDelay                0\n",
              "GroundTime            14395\n",
              "DelayCheck                0\n",
              "dtype: int64"
            ]
          },
          "metadata": {
            "tags": []
          },
          "execution_count": 27
        }
      ]
    },
    {
      "cell_type": "code",
      "metadata": {
        "id": "xp8E5PMFSNnu"
      },
      "source": [
        "df_model = df_sub.replace(np.nan, 0)\n"
      ],
      "execution_count": null,
      "outputs": []
    },
    {
      "cell_type": "code",
      "metadata": {
        "id": "dBOcvTZJSx9h"
      },
      "source": [
        "del df_model['TailNumber']\n"
      ],
      "execution_count": null,
      "outputs": []
    },
    {
      "cell_type": "markdown",
      "metadata": {
        "id": "U-eAmQZZFTCe"
      },
      "source": [
        "###Decision Tree Algorithm"
      ]
    },
    {
      "cell_type": "code",
      "metadata": {
        "id": "gqR_W_sB7hBi",
        "colab": {
          "base_uri": "https://localhost:8080/"
        },
        "outputId": "5df1ed2b-5062-420e-a14d-e49144e865ec"
      },
      "source": [
        "# Decision Tree Regression\n",
        "\n",
        "# Importing the libraries\n",
        "import numpy as np\n",
        "import matplotlib.pyplot as plt\n",
        "import pandas as pd\n",
        "\n",
        "# Importing the dataset\n",
        "\n",
        "\n",
        "X = df_model.iloc[:].values\n",
        "y = df_model.iloc[:, -1].values\n",
        "\n",
        "# Training the Decision Tree Regression model on the whole dataset\n",
        "from sklearn.tree import DecisionTreeRegressor\n",
        "regressor = DecisionTreeRegressor(random_state = 0)\n",
        "regressor.fit(X, y)\n",
        "\n",
        "# Predicting a new result\n",
        "#regressor.predict([[6.5]])\n",
        "\n",
        "# Visualising the Decision Tree Regression results (higher resolution)\n"
      ],
      "execution_count": null,
      "outputs": [
        {
          "output_type": "execute_result",
          "data": {
            "text/plain": [
              "DecisionTreeRegressor(ccp_alpha=0.0, criterion='mse', max_depth=None,\n",
              "                      max_features=None, max_leaf_nodes=None,\n",
              "                      min_impurity_decrease=0.0, min_impurity_split=None,\n",
              "                      min_samples_leaf=1, min_samples_split=2,\n",
              "                      min_weight_fraction_leaf=0.0, presort='deprecated',\n",
              "                      random_state=0, splitter='best')"
            ]
          },
          "metadata": {
            "tags": []
          },
          "execution_count": 38
        }
      ]
    },
    {
      "cell_type": "code",
      "metadata": {
        "id": "j5RJ19ST7hFg"
      },
      "source": [],
      "execution_count": null,
      "outputs": []
    }
  ]
}